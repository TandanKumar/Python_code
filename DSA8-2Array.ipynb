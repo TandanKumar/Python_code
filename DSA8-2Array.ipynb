{
 "cells": [
  {
   "cell_type": "markdown",
   "id": "119c071e",
   "metadata": {},
   "source": [
    "# <aside> **Question 1**\n",
    "\n",
    "Given two strings s1 and s2, return *the lowest **ASCII** sum of deleted characters to make two strings equal*.\n",
    "\n",
    "**Example 1:**\n",
    "\n",
    "**Input:** s1 = \"sea\", s2 = \"eat\"\n",
    "\n",
    "**Output:** 231\n",
    "\n",
    "**Explanation:** Deleting \"s\" from \"sea\" adds the ASCII value of \"s\" (115) to the sum.\n",
    "\n",
    "Deleting \"t\" from \"eat\" adds 116 to the sum.\n",
    "\n",
    "At the end, both strings are equal, and 115 + 116 = 231 is the minimum sum possible to achieve this.\n",
    "\n",
    "</aside>"
   ]
  },
  {
   "cell_type": "code",
   "execution_count": 22,
   "id": "2289619c",
   "metadata": {},
   "outputs": [
    {
     "name": "stdout",
     "output_type": "stream",
     "text": [
      "231\n"
     ]
    }
   ],
   "source": [
    "class solution1:\n",
    "    def __init__(self):\n",
    "        pass\n",
    "    def lowest_ASCII(self,s1,s2):\n",
    "        '''\n",
    "            This function will take the input of two string. It will remove some chars from the both string and \n",
    "            return the lowest ASCIII value from the removed chars\n",
    "            :type s1 : string\n",
    "            :type s2: string\n",
    "            :rtype int\n",
    "        '''\n",
    "        try:\n",
    "            dp = [[0]* (len(s2)+1) for _ in range (len(s1)+1)]\n",
    "            for i in range(len(s1) - 1, -1, -1):\n",
    "                dp[i][len(s2)] = dp[i+1][len(s2)] + ord(s1[i])\n",
    "            for j in range(len(s2) - 1, -1, -1):\n",
    "                dp[len(s1)][j] = dp[len(s1)][j+1] + ord(s2[j])\n",
    "            for i in range(len(s1) - 1, -1, -1):\n",
    "                for j in range(len(s2) - 1, -1, -1):\n",
    "                    if s1[i] == s2[j]:\n",
    "                        dp[i][j] = dp[i+1][j+1]\n",
    "                    else:\n",
    "                        dp[i][j] = min(dp[i+1][j] + ord(s1[i]),\n",
    "                                   dp[i][j+1] + ord(s2[j]))\n",
    "\n",
    "            return dp[0][0]\n",
    "            \n",
    "        except Exception as e:\n",
    "            print(\"error has occure \",e)\n",
    "\n",
    "sol = solution1()  \n",
    "s1 = \"sea\"\n",
    "s2 = \"eat\"\n",
    "print(sol.lowest_ASCII(s1,s2))"
   ]
  },
  {
   "cell_type": "markdown",
   "id": "e6974ecf",
   "metadata": {},
   "source": [
    "time_complexity = O(m+n+m*n)= o(m*n)\n",
    "space_complexity = O(m+1* n+1 ) = O(m*n)"
   ]
  },
  {
   "cell_type": "markdown",
   "id": "531002de",
   "metadata": {},
   "source": [
    "# <aside> **Question 2**\n",
    "\n",
    "Given a string s containing only three types of characters: '(', ')' and '*', return true *if* s *is **valid***.\n",
    "\n",
    "The following rules define a **valid** string:\n",
    "\n",
    "- Any left parenthesis '(' must have a corresponding right parenthesis ')'.\n",
    "- Any right parenthesis ')' must have a corresponding left parenthesis '('.\n",
    "- Left parenthesis '(' must go before the corresponding right parenthesis ')'.\n",
    "- '*' could be treated as a single right parenthesis ')' or a single left parenthesis '(' or an empty string \"\".\n",
    "\n",
    "**Example 1:**\n",
    "\n",
    "**Input:** s = \"()\"\n",
    "\n",
    "**Output:**\n",
    "\n",
    "true\n",
    "\n",
    "</aside>"
   ]
  },
  {
   "cell_type": "code",
   "execution_count": 2,
   "id": "f507460d",
   "metadata": {},
   "outputs": [
    {
     "name": "stdout",
     "output_type": "stream",
     "text": [
      "True\n"
     ]
    }
   ],
   "source": [
    "class solution2:\n",
    "    def __init__(self):\n",
    "        pass\n",
    "    def valid_string(self,s):\n",
    "        '''\n",
    "            This function will take the input string which consist of only '(',')'and '*'\n",
    "            return True if left and right are equal otherwise false\n",
    "            :type s : string\n",
    "            :rtype : bool\n",
    "        '''\n",
    "        try:\n",
    "            left =[] # store the index of '('\n",
    "            aestrik=[] # store the index of '*'\n",
    "            for i in range(len(s)):\n",
    "                if(s[i] == ')'):\n",
    "                    left+=[i]\n",
    "                if(s[i] == '*'):\n",
    "                    aestrik+=[i]\n",
    "                if(s[i]==')'):\n",
    "                    if(len(left) > 0):\n",
    "                        left.pop()\n",
    "                    elif(len(aestrik)>0 ):\n",
    "                        aestrik.pop()\n",
    "                    else :\n",
    "                        return False\n",
    "            if(len(left) == 0):\n",
    "                return True\n",
    "            elif(len(left) > len(aestrik)):\n",
    "                return False\n",
    "            else:\n",
    "                for i in range(len(left)):\n",
    "                    if(left[i] > aestrik[i]):\n",
    "                        return False\n",
    "            return True\n",
    "                    \n",
    "        except Exception as e:\n",
    "            print(\"error has occure \",e)\n",
    "\n",
    "sol = solution2()\n",
    "s = \"()\"\n",
    "print(sol.valid_string(s))"
   ]
  },
  {
   "cell_type": "code",
   "execution_count": 3,
   "id": "9698db9a",
   "metadata": {},
   "outputs": [
    {
     "name": "stdout",
     "output_type": "stream",
     "text": [
      "True\n"
     ]
    }
   ],
   "source": [
    "s = \"(*))\"\n",
    "print(sol.valid_string(s))"
   ]
  },
  {
   "cell_type": "markdown",
   "id": "5fb2f3a9",
   "metadata": {},
   "source": [
    "# <aside> **Question 3**\n",
    "\n",
    "Given two strings word1 and word2, return *the minimum number of **steps** required to make* word1 *and* word2 *the same*.\n",
    "\n",
    "In one **step**, you can delete exactly one character in either string.\n",
    "\n",
    "**Example 1:**\n",
    "\n",
    "**Input:** word1 = \"sea\", word2 = \"eat\"\n",
    "\n",
    "**Output:** 2\n",
    "\n",
    "**Explanation:** You need one step to make \"sea\" to \"ea\" and another step to make \"eat\" to \"ea\".\n",
    "\n",
    "</aside>"
   ]
  },
  {
   "cell_type": "code",
   "execution_count": 4,
   "id": "0fd3a6bc",
   "metadata": {},
   "outputs": [
    {
     "name": "stdout",
     "output_type": "stream",
     "text": [
      "2\n"
     ]
    }
   ],
   "source": [
    "class solution3:\n",
    "    def __init__(self):\n",
    "        pass\n",
    "    def step_word(self,word1,word2):\n",
    "        '''\n",
    "            This function will take the input of two strings and retuen the no of words which can be removed\n",
    "            :type word1 : string\n",
    "            :type word2 : string\n",
    "            :rtype      : int\n",
    "        \n",
    "        '''\n",
    "        try:\n",
    "            m,n=len(word1),len(word2)\n",
    "            dp=[[0 for i in range(n+1)] for j in range(m+1)]\n",
    "            ans=0\n",
    "            for i in range(1,m+1):\n",
    "                for j in range(1,n+1):\n",
    "                    if word1[i-1]==word2[j-1]:\n",
    "                        dp[i][j]=1+dp[i-1][j-1]\n",
    "                    else:\n",
    "                        dp[i][j]=max((dp[i][j-1]),dp[i-1][j])\n",
    "                ans=max(ans,dp[i][j])\n",
    "            no_of_steps = m+n-2*ans\n",
    "            \n",
    "            return no_of_steps\n",
    "        except Exception as e:\n",
    "            print(\"error has occure \",e)\n",
    "\n",
    "sol = solution3()  \n",
    "word1 = \"sea\"\n",
    "word2 = \"eat\"\n",
    "print(sol.step_word(word1,word2))"
   ]
  },
  {
   "cell_type": "code",
   "execution_count": null,
   "id": "9d953fbe",
   "metadata": {},
   "outputs": [],
   "source": []
  },
  {
   "cell_type": "code",
   "execution_count": null,
   "id": "df022bba",
   "metadata": {},
   "outputs": [],
   "source": []
  },
  {
   "cell_type": "markdown",
   "id": "799aa628",
   "metadata": {},
   "source": [
    "# <aside>  **Question 4**\n",
    "\n",
    "You need to construct a binary tree from a string consisting of parenthesis and integers.\n",
    "\n",
    "The whole input represents a binary tree. It contains an integer followed by zero, one or two pairs of parenthesis. The integer represents the root's value and a pair of parenthesis contains a child binary tree with the same structure.\n",
    "You always start to construct the **left** child node of the parent first if it exists.\n",
    "\n",
    "![image](8_1.png)\n",
    "**Input:** s = \"4(2(3)(1))(6(5))\"\n",
    "\n",
    "**Output:** [4,2,6,3,1,5]\n",
    "\n",
    "</aside>"
   ]
  },
  {
   "cell_type": "code",
   "execution_count": 14,
   "id": "e87f6b84",
   "metadata": {},
   "outputs": [],
   "source": [
    "class solution4:\n",
    "    def __init__(self):\n",
    "        pass\n",
    "    \n",
    "    def binary_t(self,s,si,ei):\n",
    "        '''\n",
    "            This function will take input of an array and return the binary tree of this\n",
    "            :type array : list\n",
    "            :rtype : list\n",
    "        '''\n",
    "        try:\n",
    "            \n",
    "            \n",
    "            root = []\n",
    "            root += [s[si]]\n",
    "            print(root)\n",
    "            b=0\n",
    "            sp=0\n",
    "            ep=0\n",
    "            \n",
    "            for i in range(1,ei):\n",
    "                if(s[i] == '('):\n",
    "                    b+=1\n",
    "                    if(sp==0):\n",
    "                        sp = i+1\n",
    "                if(s[i] ==')'):\n",
    "                    b-=1\n",
    "                    \n",
    "                    \n",
    "                if(b==0):\n",
    "                    ep = i\n",
    "                    left = self.binary_t ( s[sp:ep+1], 0 , len(s[sp:ep]))\n",
    "                    root.extend(left)\n",
    "                    if(len(s)>3):\n",
    "                        right = self.binary_t(s[ep+2:],0,len(s[ep+2:]))\n",
    "                        root.extend(right)\n",
    "                   \n",
    "                    \n",
    "                    break\n",
    "            return root\n",
    "        except Exception as e:\n",
    "            print(\"error has occure \",e)\n"
   ]
  },
  {
   "cell_type": "code",
   "execution_count": null,
   "id": "e5de65e5",
   "metadata": {},
   "outputs": [],
   "source": []
  },
  {
   "cell_type": "code",
   "execution_count": null,
   "id": "8f7f011f",
   "metadata": {},
   "outputs": [],
   "source": []
  },
  {
   "cell_type": "code",
   "execution_count": 15,
   "id": "4c117411",
   "metadata": {},
   "outputs": [],
   "source": [
    "sol = solution4()"
   ]
  },
  {
   "cell_type": "code",
   "execution_count": 16,
   "id": "7938dd05",
   "metadata": {},
   "outputs": [],
   "source": [
    "s = \"4(2(3)(1))(6(5))\""
   ]
  },
  {
   "cell_type": "code",
   "execution_count": null,
   "id": "669429e4",
   "metadata": {},
   "outputs": [],
   "source": [
    "print(sol.binary_t(s,0,len(s)-1))"
   ]
  },
  {
   "cell_type": "code",
   "execution_count": null,
   "id": "12d37372",
   "metadata": {},
   "outputs": [],
   "source": []
  },
  {
   "cell_type": "code",
   "execution_count": null,
   "id": "260d7f6f",
   "metadata": {},
   "outputs": [],
   "source": []
  },
  {
   "cell_type": "markdown",
   "id": "ce06c2b7",
   "metadata": {},
   "source": [
    "# <aside> **Question 5**\n",
    "\n",
    "Given an array of characters chars, compress it using the following algorithm:\n",
    "\n",
    "Begin with an empty string s. For each group of **consecutive repeating characters** in chars:\n",
    "\n",
    "- If the group's length is 1, append the character to s.\n",
    "- Otherwise, append the character followed by the group's length.\n",
    "\n",
    "The compressed string s **should not be returned separately**, but instead, be stored **in the input character array chars**. Note that group lengths that are 10 or longer will be split into multiple characters in chars.\n",
    "\n",
    "After you are done **modifying the input array,** return *the new length of the array*.\n",
    "\n",
    "You must write an algorithm that uses only constant extra space.\n",
    "\n",
    "**Example 1:**\n",
    "\n",
    "**Input:** chars = [\"a\",\"a\",\"b\",\"b\",\"c\",\"c\",\"c\"]\n",
    "\n",
    "**Output:** Return 6, and the first 6 characters of the input array should be: [\"a\",\"2\",\"b\",\"2\",\"c\",\"3\"]\n",
    "\n",
    "**Explanation:**\n",
    "\n",
    "The groups are \"aa\", \"bb\", and \"ccc\". This compresses to \"a2b2c3\".\n",
    "\n",
    "</aside>"
   ]
  },
  {
   "cell_type": "code",
   "execution_count": 10,
   "id": "ce257b11",
   "metadata": {},
   "outputs": [
    {
     "name": "stdout",
     "output_type": "stream",
     "text": [
      "a2b2c3\n"
     ]
    }
   ],
   "source": [
    "from collections import Counter\n",
    "class solution5:\n",
    "    def __init__(self):\n",
    "        pass\n",
    "    def Array_chars(self,char):\n",
    "        '''\n",
    "        This function will take input string and return the length of the string after compression\n",
    "        type array : list[char]\n",
    "        :rtyep : int\n",
    "        \n",
    "        '''\n",
    "        try:\n",
    "            s = ''\n",
    "            counter = Counter(''.join(chars))\n",
    "            for ele in counter.items():\n",
    "                if(ele[1] > 1):\n",
    "                    s = s + ele[0] + str(ele[1])\n",
    "                else:\n",
    "                    s = s + ele[0]\n",
    "                    \n",
    "            return s\n",
    "        except Exception as e:\n",
    "            print(\"error has occure \",e)\n",
    "\n",
    "sol = solution5()  \n",
    "chars = [\"a\",\"a\",\"b\",\"b\",\"c\",\"c\",\"c\"]\n",
    "print(sol.Array_chars(chars))"
   ]
  },
  {
   "cell_type": "markdown",
   "id": "b574f2fe",
   "metadata": {},
   "source": [
    "# <aside> **Question 6**\n",
    "\n",
    "Given two strings s and p, return *an array of all the start indices of* p*'s anagrams in* s. You may return the answer in **any order**.\n",
    "\n",
    "An **Anagram** is a word or phrase formed by rearranging the letters of a different word or phrase, typically using all the original letters exactly once.\n",
    "\n",
    "**Example 1:**\n",
    "\n",
    "**Input:** s = \"cbaebabacd\", p = \"abc\"\n",
    "\n",
    "**Output:** [0,6]\n",
    "\n",
    "**Explanation:**\n",
    "\n",
    "The substring with start index = 0 is \"cba\", which is an anagram of \"abc\".\n",
    "\n",
    "The substring with start index = 6 is \"bac\", which is an anagram of \"abc\".\n",
    "\n",
    "</aside>"
   ]
  },
  {
   "cell_type": "code",
   "execution_count": 11,
   "id": "d3abfd70",
   "metadata": {},
   "outputs": [
    {
     "name": "stdout",
     "output_type": "stream",
     "text": [
      "[0, 6]\n"
     ]
    }
   ],
   "source": [
    "class solution6:\n",
    "    def __init__(self):\n",
    "        pass\n",
    "    def is_anagrams(self,s1,s2):\n",
    "        '''\n",
    "           This funtion will take two string input and return the true/false whehter it is anagram\n",
    "           :type s1 : string\n",
    "           :type s2 : string\n",
    "           :rtype : list\n",
    "        \n",
    "        '''\n",
    "        try:\n",
    "            ans = []\n",
    "            count = Counter(p)\n",
    "            required = len(p)\n",
    "\n",
    "            for r, c in enumerate(s):\n",
    "                count[c] -= 1\n",
    "                if count[c] >= 0:\n",
    "                    required -= 1\n",
    "                if r >= len(p):\n",
    "                    left_char = s[r - len(p)]\n",
    "                    count[left_char] += 1\n",
    "                    if count[left_char] > 0:\n",
    "                        required += 1\n",
    "                if required == 0:\n",
    "                    ans.append(r - len(p) + 1)\n",
    "\n",
    "            return ans\n",
    "        except Exception as e:\n",
    "            print(\"error has occure \",e)\n",
    "\n",
    "sol = solution6()  \n",
    "s = \"cbaebabacd\"\n",
    "p = \"abc\"\n",
    "print(sol.is_anagrams(s,p))"
   ]
  },
  {
   "cell_type": "markdown",
   "id": "9054b16d",
   "metadata": {},
   "source": [
    "# <aside> **Question 7**\n",
    "\n",
    "Given an encoded string, return its decoded string.\n",
    "\n",
    "The encoding rule is: k[encoded_string], where the encoded_string inside the square brackets is being repeated exactly k times. Note that k is guaranteed to be a positive integer.\n",
    "\n",
    "You may assume that the input string is always valid; there are no extra white spaces, square brackets are well-formed, etc. Furthermore, you may assume that the original data does not contain any digits and that digits are only for those repeat numbers, k. For example, there will not be input like 3a or 2[4].\n",
    "\n",
    "The test cases are generated so that the length of the output will never exceed 105.\n",
    "\n",
    "**Example 1:**\n",
    "\n",
    "**Input:** s = \"3[a]2[bc]\"\n",
    "\n",
    "**Output:** \"aaabcbc\"\n",
    "\n",
    "</aside>"
   ]
  },
  {
   "cell_type": "code",
   "execution_count": 12,
   "id": "4c0ebb94",
   "metadata": {},
   "outputs": [
    {
     "name": "stdout",
     "output_type": "stream",
     "text": [
      "aaabcbc\n"
     ]
    }
   ],
   "source": [
    "class solution7:\n",
    "    def __init__(self):\n",
    "        pass\n",
    "    def decode_string(self,s):\n",
    "        '''\n",
    "        This function will take the input of encoded string and return the decoded string.\n",
    "        :type s : string\n",
    "        :rtype : string\n",
    "        \n",
    "        '''\n",
    "        try:\n",
    "            count = 0\n",
    "            b =0\n",
    "            st =''\n",
    "            return_string = ''\n",
    "            for ele in s:\n",
    "                if(ele.isnumeric()):\n",
    "                    count = int(ele)\n",
    "                if(ele == '['):\n",
    "                    b+=1\n",
    "                if(ele.isalpha()):\n",
    "            \n",
    "                    st+=ele\n",
    "                if(ele ==']'):\n",
    "\n",
    "                    return_string +=  str(st)*count\n",
    "                    st=''\n",
    "                    b-=1\n",
    "            return return_string\n",
    "        except Exception as e:\n",
    "            print(\"error has occure \",e)\n",
    "\n",
    "sol = solution7()\n",
    "s = \"3[a]2[bc]\"\n",
    "print(sol.decode_string(s))"
   ]
  },
  {
   "cell_type": "markdown",
   "id": "48c9edee",
   "metadata": {},
   "source": [
    "# <aside> **Question 8**\n",
    "\n",
    "Given two strings s and goal, return true *if you can swap two letters in* s *so the result is equal to* goal*, otherwise, return* false*.*\n",
    "\n",
    "Swapping letters is defined as taking two indices i and j (0-indexed) such that i != j and swapping the characters at s[i] and s[j].\n",
    "\n",
    "- For example, swapping at indices 0 and 2 in \"abcd\" results in \"cbad\".\n",
    "\n",
    "**Example 1:**\n",
    "\n",
    "**Input:** s = \"ab\", goal = \"ba\"\n",
    "\n",
    "**Output:** true\n",
    "\n",
    "**Explanation:** You can swap s[0] = 'a' and s[1] = 'b' to get \"ba\", which is equal to goal.\n",
    "\n",
    "</aside>"
   ]
  },
  {
   "cell_type": "code",
   "execution_count": 13,
   "id": "ace65520",
   "metadata": {},
   "outputs": [
    {
     "name": "stdout",
     "output_type": "stream",
     "text": [
      "True\n"
     ]
    }
   ],
   "source": [
    "class solution8:\n",
    "    def __init__(self):\n",
    "        pass\n",
    "    def valid_swap(self,s,g):\n",
    "        '''\n",
    "          This function will cake th einput of two string and check after swapiinh an element in s will \n",
    "          it be equal to g. if yes then return true else false\n",
    "          :type s : string \n",
    "          :type g : string\n",
    "          :rtype: bool\n",
    "        '''\n",
    "        try:\n",
    "            counter1 = Counter(s)\n",
    "            counter2=Counter(goal)\n",
    "            for ele in counter2.keys():\n",
    "                counter1.pop(ele)\n",
    "            if(len(counter1)==0):\n",
    "                return True\n",
    "            else:\n",
    "                return False\n",
    "            \n",
    "        except Exception as e:\n",
    "            print(\"error has occure \",e)\n",
    "\n",
    "sol = solution8()  \n",
    "s = \"ab\"\n",
    "goal = \"ba\"\n",
    "print(sol.valid_swap(s,goal))"
   ]
  },
  {
   "cell_type": "code",
   "execution_count": null,
   "id": "0017dd18",
   "metadata": {},
   "outputs": [],
   "source": []
  },
  {
   "cell_type": "code",
   "execution_count": null,
   "id": "f06c016c",
   "metadata": {},
   "outputs": [],
   "source": []
  },
  {
   "cell_type": "code",
   "execution_count": null,
   "id": "316ab8fe",
   "metadata": {},
   "outputs": [],
   "source": []
  }
 ],
 "metadata": {
  "kernelspec": {
   "display_name": "Python 3 (ipykernel)",
   "language": "python",
   "name": "python3"
  },
  "language_info": {
   "codemirror_mode": {
    "name": "ipython",
    "version": 3
   },
   "file_extension": ".py",
   "mimetype": "text/x-python",
   "name": "python",
   "nbconvert_exporter": "python",
   "pygments_lexer": "ipython3",
   "version": "3.7.16"
  }
 },
 "nbformat": 4,
 "nbformat_minor": 5
}
