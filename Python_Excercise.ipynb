{
 "cells": [
  {
   "cell_type": "markdown",
   "id": "cbd0a4f9",
   "metadata": {},
   "source": [
    "Question 1: -\n",
    "Write a program that takes a string as input, and counts the frequency of each word in the string, there might\n",
    "be repeated characters in the string. Your task is to find the highest frequency and returns the length of the\n",
    "highest-frequency word.\n",
    "\n",
    "Note - You have to write at least 2 additional test cases in which your program will run successfully and provide\n",
    "an explanation for the same.\n",
    "\n",
    "Example input - string = “write write write all the number from from from 1 to 100”\n",
    "\n",
    "Example output - 5\n",
    "\n",
    "Explanation - From the given string we can note that the most frequent words are “write” and “from” and\n",
    "the maximum value of both the values is “write” and its corresponding length is 5\n"
   ]
  },
  {
   "cell_type": "code",
   "execution_count": 1,
   "id": "71c8ea4e",
   "metadata": {},
   "outputs": [
    {
     "name": "stdout",
     "output_type": "stream",
     "text": [
      "enter the sentence“write write write all the number from from from 1 to 100”\n",
      "1 -  5\n",
      "2 -  4\n",
      "3 -  5\n"
     ]
    }
   ],
   "source": [
    "def word_length(input_string):\n",
    "    '''\n",
    "       word_length is a function which takes input a sentence and\n",
    "       word length of most frequent word\n",
    "    '''\n",
    "    try:\n",
    "        words_list = input_string.split(\" \")\n",
    "        words_set = list(set(words_list))\n",
    "        dic = {}\n",
    "        for val in words_set:\n",
    "            dic[val] = words_list.count(val)\n",
    "        val = max(dic.values())\n",
    "        word_length = 0\n",
    "        for items  in dic.items():\n",
    "            if (items[1] == val):\n",
    "                length = len(items[0])\n",
    "                if (length > word_length):\n",
    "                    word_length = length \n",
    "        return(word_length)\n",
    "    \n",
    "    except Exception as e:\n",
    "        print(\"Error has occured during the Exception, please check the log message for more information\")\n",
    "\n",
    "input_string=(input(\"enter the sentence\"))[1:-2]\n",
    "word_len = word_length(input_string)\n",
    "print(\"1 - \",word_len)\n",
    "sen1 = \" This is test for the test of word test having word count with count\"\n",
    "sen2 = \" word length is passing the count count test count with word length between 8 to 9 for to the to have count \"\n",
    "print(\"2 - \",word_length(sen1))\n",
    "print(\"3 - \",word_length(sen2))"
   ]
  },
  {
   "cell_type": "markdown",
   "id": "37d43494",
   "metadata": {},
   "source": [
    "Explanation:\n",
    "\n",
    "sen1 = \" This is test for the test of word test having word count with count\"\n",
    "'test' word is repeated for 3 times which is max and it's length is 4\n",
    "\n",
    "sen2 = \" word length is passing the count count test count with word length between 8 to 9 for to the to have count \"\n",
    "'count' word is repeated for four times which is the max and it's length is 5"
   ]
  },
  {
   "cell_type": "markdown",
   "id": "c1a46944",
   "metadata": {},
   "source": [
    "### Question 2: -\n",
    "Consider a string to be valid if all characters of the string appear the same number of times. It is also valid if\n",
    "he can remove just one character at the index in the string, and the remaining characters will occur the same\n",
    "number of times. Given a string, determine if it is valid. If so, return YES , otherwise return NO .\n",
    "\n",
    "Note - You have to write at least 2 additional test cases in which your program will run successfully and provide\n",
    "an explanation for the same.\n",
    "\n",
    "Example input 1 - s = “abc”. This is a valid string because frequencies are { “a”: 1, “b”: 1, “c”: 1 }\n",
    "Example output 1- YES\n",
    "Example input 2 - s “abcc”. This string is not valid as we can remove only 1 occurrence of “c”. That leaves\n",
    "character frequencies of { “a”: 1, “b”: 1 , “c”: 2 }\n",
    "Example output 2 - NO"
   ]
  },
  {
   "cell_type": "code",
   "execution_count": 2,
   "id": "2d2a9fed",
   "metadata": {},
   "outputs": [
    {
     "name": "stdout",
     "output_type": "stream",
     "text": [
      "Enter the string to check validity“write write write all the number from from from 1 to 100”\n",
      "1-s  No\n",
      "2-s  yes\n",
      "3-s  No\n"
     ]
    }
   ],
   "source": [
    "def valid_string(input_word):\n",
    "    '''\n",
    "    valid_string function will check whether ite given string is valid or not\n",
    "    \n",
    "    '''\n",
    "    try:\n",
    "        word = [al for al in input_word ]\n",
    "        list_unique = list(set(word))\n",
    "        dic = {}\n",
    "        for val in list_unique:\n",
    "            dic[val] = word.count(val)\n",
    "        values= list(dic.values())\n",
    "        set_value = set(values)\n",
    "        if (len(set_value) >2):\n",
    "            return \"No\"\n",
    "        max_v = max(values)\n",
    "        min_v = min(values)\n",
    "\n",
    "        if(max_v == min_v):\n",
    "            return \"Yes\"\n",
    "        elif ((values.count(max_v) <=1) and (values.count(min_v) >= 1) and (max_v == min_v +1 ) ):\n",
    "\n",
    "            return 'Yes'\n",
    "        elif ((values.count(max_v) >=1) and (values.count(min_v) <= 1)  ):\n",
    "\n",
    "            return \"yes\"\n",
    "        else:\n",
    "            return 'No'\n",
    "        \n",
    "    except Exception as e:\n",
    "        print(\"Error has ocured,Please check log message for more information\")\n",
    "    \n",
    "input_string = input(\"Enter the string to check validity\")\n",
    "print(\"1-s \", valid_string(input_string))\n",
    "s2 = \"aabbc\"\n",
    "print(\"2-s \", valid_string(s2))\n",
    "s3 = \"abccc\"\n",
    "print(\"3-s \", valid_string(s3))"
   ]
  },
  {
   "cell_type": "markdown",
   "id": "658a1570",
   "metadata": {},
   "source": [
    "1-s - 'abc'\n",
    "for the given string all the chars are same\n",
    "a-1,b-1,c-1\n",
    "\n",
    "2-s - \"aabbc\"\n",
    "for the given string  if we remove 'c' from it will make it valid.\n",
    "a-2,b-2,c-1 ->a-2,b-2\n",
    "\n",
    "3-s - 'abccc'\n",
    "for the given string even if we remove one c then it still has 2 c. SO, it is invalid \n",
    "a-1,b-1,c-3 -> a-1,b-1,c-2\n"
   ]
  },
  {
   "cell_type": "markdown",
   "id": "b9478b5c",
   "metadata": {},
   "source": [
    "### Question 3: -\n",
    "Write a program, which would download the data from the provided link, and then read the data and convert that into properly structured data and return it in Excel format.\n",
    "\n",
    "Note - Write comments wherever necessary explaining the code written.\n",
    "\n",
    "Link - https://raw.githubusercontent.com/Biuni/PokemonGO-Pokedex/master/pokedex.json\n",
    "\n",
    "Data Attributes - \n",
    "\n",
    "id: Identification Number - int \n",
    "\n",
    "num: Number of the Pokémon in the official Pokédex - int\n",
    "\n",
    "name: Pokémon name -string \n",
    "\n",
    "img: URL to an image of this Pokémon - string type:\n",
    "\n",
    "Pokémon type -string\n",
    "\n",
    "height: Pokémon height - float\n",
    "\n",
    "weight: Pokémon weight - float \n",
    "\n",
    "candy: type of candy used to evolve Pokémon orgiven when transferred - string \n",
    "\n",
    "candy_count: the amount of candies required to evolve- int\n",
    "\n",
    "egg: Number of kilometers to travel to hatch the egg - float \n",
    "\n",
    "spawn_chance: Percentage of spawn chance (NEW) - float \n",
    "\n",
    "avg_spawns: Number of this pokemon on 10.000 spawns (NEW) - int\n",
    "\n",
    "spawn_time: Spawns most active at the time on this field. Spawn times are the same for all time zones and are expressed in \n",
    "\n",
    "local time. (NEW) - “minutes: seconds”\n",
    "\n",
    "multipliers:Multiplier of Combat Power (CP) for calculating the CP after evolution See below - list of int\n",
    "\n",
    "weakness: Types of Pokémon this Pokémon is weak to - list of strings\n",
    "\n",
    "next_evolution: Number and Name of successive evolutions of Pokémon - list of dict\n",
    "\n",
    "prev_evolution: Number and Name of previous evolutions of Pokémon - - list of dict"
   ]
  },
  {
   "cell_type": "code",
   "execution_count": null,
   "id": "f72df279",
   "metadata": {},
   "outputs": [],
   "source": [
    "\n"
   ]
  },
  {
   "cell_type": "code",
   "execution_count": 3,
   "id": "deda38c3",
   "metadata": {},
   "outputs": [],
   "source": [
    "from urllib.request import urlopen\n",
    "import json\n",
    "import pandas as pd\n",
    "import warnings\n",
    "warnings.filterwarnings(\"ignore\")\n",
    "\n",
    "def json_excel(url):    \n",
    "    \n",
    "    '''\n",
    "    This function will take the input of the url of json and save the data in the excel format in local drive\n",
    "    \n",
    "    '''\n",
    "    try:        \n",
    "        response = urlopen(url) # urlopen function will retreive raw data  \n",
    "        data_json = json.loads(response.read()) # json_load will return the data in dict format\n",
    "        col =['id', 'num', 'name', 'img', 'type', 'height', 'weight', 'candy', 'candy_count', 'egg', 'spawn_chance', 'avg_spawns', 'spawn_time', 'multipliers','prev_evolution', 'weaknesses', 'next_evolution']\n",
    "        \n",
    "        pokemon = pd.DataFrame(columns= list(col)) # creating the empty dataframe with columns\n",
    "        \n",
    "        for i in data_json['pokemon']: # From this loop, we are loading the data in dataframe\n",
    "            dic = {}\n",
    "            for c in col:\n",
    "                if c in i:\n",
    "                    dic[c] = i[c]\n",
    "                   \n",
    "            pokemon = pokemon.append(dic, ignore_index=True, sort=False)\n",
    "            \n",
    "        return (pokemon)\n",
    "    except Exception as e:\n",
    "        print(\"Error has occured, please check the log message for more information\",e)\n",
    "        print(e)"
   ]
  },
  {
   "cell_type": "code",
   "execution_count": 4,
   "id": "1afa8f73",
   "metadata": {},
   "outputs": [],
   "source": [
    "url = 'https://raw.githubusercontent.com/Biuni/PokemonGO-Pokedex/master/pokedex.json'\n",
    "pokemon = json_excel(url)\n",
    "pokemon.to_excel(\"Pokemon.xlsx\",sheet_name=\"pokemon\",index= False) # Writing the data in the excel format"
   ]
  },
  {
   "cell_type": "code",
   "execution_count": null,
   "id": "6991719a",
   "metadata": {},
   "outputs": [],
   "source": []
  },
  {
   "cell_type": "markdown",
   "id": "5da72ab5",
   "metadata": {},
   "source": [
    "# Question 4 -\n",
    "Write a program to download the data from the link given below and then read the data and convert the into\n",
    "the proper structure and return it as a CSV file.\n",
    "Link - https://data.nasa.gov/resource/y77d-th95.json\n",
    "Note - Write code comments wherever needed for code understanding.\n",
    "Sample Data -\n",
    "\n",
    "Excepted Output Data Attributes\n",
    "\n",
    "● Name of Earth Meteorite - string id - ID of Earth\n",
    "\n",
    "● Meteorite - int nametype - string recclass - string\n",
    "\n",
    "● mass - Mass of Earth Meteorite - float year - Year at which Earth\n",
    "\n",
    "● Meteorite was hit - datetime format reclat - float recclong - float\n",
    "\n",
    "● point coordinates - list of int"
   ]
  },
  {
   "cell_type": "code",
   "execution_count": 5,
   "id": "57bc7b16",
   "metadata": {},
   "outputs": [],
   "source": [
    "from urllib.request import urlopen\n",
    "import json\n",
    "import pandas as pd\n",
    "\n",
    "def json_csv(url):    \n",
    "    \n",
    "    '''\n",
    "    This function will take the input of the url of json and save the data in the excel format in local drive\n",
    "    \n",
    "    '''\n",
    "    try:        \n",
    "        response = urlopen(url) # urlopen function will retreive raw data  \n",
    "        data_json = json.loads(response.read()) # json_load will return the data in dict format\n",
    "        col =[]\n",
    "        for i in data_json: # This function will give the column name\n",
    "            col = list(i.keys())\n",
    "            col.remove(\"geolocation\")\n",
    "            col.append(\"point_coordinates\")\n",
    "            \n",
    "            break\n",
    "        \n",
    "        nassa = pd.DataFrame(columns= list(col)) # creating the empty dataframe with columns\n",
    "        for i  in (data_json): # From this loop, we are loading the data in dataframe\n",
    "            dic = {}\n",
    "            for c in col:\n",
    "                if c in i:\n",
    "                    dic[c] = i[c]\n",
    "                if \"geolocation\" in i:\n",
    "                    dic[\"point_coordinates\"] = i[\"geolocation\"][\"coordinates\"]\n",
    "            nassa = nassa.append(dic, ignore_index=True, sort=False)\n",
    "        return nassa\n",
    "\n",
    "    except Exception as e:\n",
    "        print(\"Error has occured, please check the log message for more information\")"
   ]
  },
  {
   "cell_type": "code",
   "execution_count": 6,
   "id": "b052c818",
   "metadata": {},
   "outputs": [],
   "source": [
    "url = 'https://data.nasa.gov/resource/y77d-th95.json'\n",
    "nassa = json_csv(url)\n",
    "nassa.to_csv(\"nassa.csv\",index= False) # Writing the data in the cv format"
   ]
  },
  {
   "cell_type": "code",
   "execution_count": null,
   "id": "18375406",
   "metadata": {},
   "outputs": [],
   "source": []
  },
  {
   "cell_type": "markdown",
   "id": "04f797ad",
   "metadata": {},
   "source": [
    "# Question 5 -\n",
    "Write a program to download the data from the given API link and then extract the following data with\n",
    "proper formatting\n",
    "Link - http://api.tvmaze.com/singlesearch/shows?q=westworld&embed=episodes\n",
    "\n",
    "Note - Write proper code comments wherever needed for the code understanding\n",
    "\n",
    "Sample Data -  Excepted Output Data Attributes -\n",
    "\n",
    "● id - int url - string \n",
    "\n",
    "● name - string season \n",
    "\n",
    "● - int number - int \n",
    "\n",
    "● type - string airdate - \n",
    "\n",
    "● date format airtime - \n",
    "\n",
    "● 12-hour time format \n",
    "\n",
    "● runtime - float \n",
    "\n",
    "● average rating - float \n",
    "\n",
    "● summary - string \n",
    "\n",
    "● without html tags \n",
    "\n",
    "● medium image link - string \n",
    "\n",
    "● Original image link - string \n"
   ]
  },
  {
   "cell_type": "code",
   "execution_count": 7,
   "id": "88ebb72f",
   "metadata": {},
   "outputs": [
    {
     "data": {
      "text/html": [
       "<div>\n",
       "<style scoped>\n",
       "    .dataframe tbody tr th:only-of-type {\n",
       "        vertical-align: middle;\n",
       "    }\n",
       "\n",
       "    .dataframe tbody tr th {\n",
       "        vertical-align: top;\n",
       "    }\n",
       "\n",
       "    .dataframe thead th {\n",
       "        text-align: right;\n",
       "    }\n",
       "</style>\n",
       "<table border=\"1\" class=\"dataframe\">\n",
       "  <thead>\n",
       "    <tr style=\"text-align: right;\">\n",
       "      <th></th>\n",
       "      <th>id</th>\n",
       "      <th>url</th>\n",
       "      <th>name</th>\n",
       "      <th>season</th>\n",
       "      <th>number</th>\n",
       "      <th>type</th>\n",
       "      <th>airdate</th>\n",
       "      <th>airtime</th>\n",
       "      <th>runtime</th>\n",
       "      <th>average rating</th>\n",
       "      <th>summary</th>\n",
       "      <th>medium image link</th>\n",
       "      <th>Original image link</th>\n",
       "      <th>average_rating</th>\n",
       "      <th>original image link</th>\n",
       "    </tr>\n",
       "  </thead>\n",
       "  <tbody>\n",
       "    <tr>\n",
       "      <th>0</th>\n",
       "      <td>869671</td>\n",
       "      <td>https://www.tvmaze.com/episodes/869671/westwor...</td>\n",
       "      <td>The Original</td>\n",
       "      <td>1</td>\n",
       "      <td>1</td>\n",
       "      <td>regular</td>\n",
       "      <td>2016-10-02</td>\n",
       "      <td>21:00</td>\n",
       "      <td>68</td>\n",
       "      <td>NaN</td>\n",
       "      <td>A woman named Dolores is a free spirit in the ...</td>\n",
       "      <td>https://static.tvmaze.com/uploads/images/mediu...</td>\n",
       "      <td>NaN</td>\n",
       "      <td>8.0</td>\n",
       "      <td>https://static.tvmaze.com/uploads/images/origi...</td>\n",
       "    </tr>\n",
       "    <tr>\n",
       "      <th>1</th>\n",
       "      <td>911201</td>\n",
       "      <td>https://www.tvmaze.com/episodes/911201/westwor...</td>\n",
       "      <td>Chestnut</td>\n",
       "      <td>1</td>\n",
       "      <td>2</td>\n",
       "      <td>regular</td>\n",
       "      <td>2016-10-09</td>\n",
       "      <td>21:00</td>\n",
       "      <td>60</td>\n",
       "      <td>NaN</td>\n",
       "      <td>Bernard suspects that someone is sabotaging th...</td>\n",
       "      <td>https://static.tvmaze.com/uploads/images/mediu...</td>\n",
       "      <td>NaN</td>\n",
       "      <td>7.7</td>\n",
       "      <td>https://static.tvmaze.com/uploads/images/origi...</td>\n",
       "    </tr>\n",
       "    <tr>\n",
       "      <th>2</th>\n",
       "      <td>911204</td>\n",
       "      <td>https://www.tvmaze.com/episodes/911204/westwor...</td>\n",
       "      <td>The Stray</td>\n",
       "      <td>1</td>\n",
       "      <td>3</td>\n",
       "      <td>regular</td>\n",
       "      <td>2016-10-16</td>\n",
       "      <td>21:00</td>\n",
       "      <td>60</td>\n",
       "      <td>NaN</td>\n",
       "      <td>Bernard continues to investigate Dolores' supp...</td>\n",
       "      <td>https://static.tvmaze.com/uploads/images/mediu...</td>\n",
       "      <td>NaN</td>\n",
       "      <td>7.6</td>\n",
       "      <td>https://static.tvmaze.com/uploads/images/origi...</td>\n",
       "    </tr>\n",
       "    <tr>\n",
       "      <th>3</th>\n",
       "      <td>911205</td>\n",
       "      <td>https://www.tvmaze.com/episodes/911205/westwor...</td>\n",
       "      <td>Dissonance Theory</td>\n",
       "      <td>1</td>\n",
       "      <td>4</td>\n",
       "      <td>regular</td>\n",
       "      <td>2016-10-23</td>\n",
       "      <td>21:00</td>\n",
       "      <td>60</td>\n",
       "      <td>NaN</td>\n",
       "      <td>While Dolores joins William and Logan on their...</td>\n",
       "      <td>https://static.tvmaze.com/uploads/images/mediu...</td>\n",
       "      <td>NaN</td>\n",
       "      <td>7.9</td>\n",
       "      <td>https://static.tvmaze.com/uploads/images/origi...</td>\n",
       "    </tr>\n",
       "    <tr>\n",
       "      <th>4</th>\n",
       "      <td>927174</td>\n",
       "      <td>https://www.tvmaze.com/episodes/927174/westwor...</td>\n",
       "      <td>Contrapasso</td>\n",
       "      <td>1</td>\n",
       "      <td>5</td>\n",
       "      <td>regular</td>\n",
       "      <td>2016-10-30</td>\n",
       "      <td>21:00</td>\n",
       "      <td>60</td>\n",
       "      <td>NaN</td>\n",
       "      <td>Dolores takes the first step on her path of di...</td>\n",
       "      <td>https://static.tvmaze.com/uploads/images/mediu...</td>\n",
       "      <td>NaN</td>\n",
       "      <td>8.0</td>\n",
       "      <td>https://static.tvmaze.com/uploads/images/origi...</td>\n",
       "    </tr>\n",
       "  </tbody>\n",
       "</table>\n",
       "</div>"
      ],
      "text/plain": [
       "       id                                                url  \\\n",
       "0  869671  https://www.tvmaze.com/episodes/869671/westwor...   \n",
       "1  911201  https://www.tvmaze.com/episodes/911201/westwor...   \n",
       "2  911204  https://www.tvmaze.com/episodes/911204/westwor...   \n",
       "3  911205  https://www.tvmaze.com/episodes/911205/westwor...   \n",
       "4  927174  https://www.tvmaze.com/episodes/927174/westwor...   \n",
       "\n",
       "                name season number     type     airdate airtime runtime  \\\n",
       "0       The Original      1      1  regular  2016-10-02   21:00      68   \n",
       "1           Chestnut      1      2  regular  2016-10-09   21:00      60   \n",
       "2          The Stray      1      3  regular  2016-10-16   21:00      60   \n",
       "3  Dissonance Theory      1      4  regular  2016-10-23   21:00      60   \n",
       "4        Contrapasso      1      5  regular  2016-10-30   21:00      60   \n",
       "\n",
       "  average rating                                            summary  \\\n",
       "0            NaN  A woman named Dolores is a free spirit in the ...   \n",
       "1            NaN  Bernard suspects that someone is sabotaging th...   \n",
       "2            NaN  Bernard continues to investigate Dolores' supp...   \n",
       "3            NaN  While Dolores joins William and Logan on their...   \n",
       "4            NaN  Dolores takes the first step on her path of di...   \n",
       "\n",
       "                                   medium image link Original image link  \\\n",
       "0  https://static.tvmaze.com/uploads/images/mediu...                 NaN   \n",
       "1  https://static.tvmaze.com/uploads/images/mediu...                 NaN   \n",
       "2  https://static.tvmaze.com/uploads/images/mediu...                 NaN   \n",
       "3  https://static.tvmaze.com/uploads/images/mediu...                 NaN   \n",
       "4  https://static.tvmaze.com/uploads/images/mediu...                 NaN   \n",
       "\n",
       "   average_rating                                original image link  \n",
       "0             8.0  https://static.tvmaze.com/uploads/images/origi...  \n",
       "1             7.7  https://static.tvmaze.com/uploads/images/origi...  \n",
       "2             7.6  https://static.tvmaze.com/uploads/images/origi...  \n",
       "3             7.9  https://static.tvmaze.com/uploads/images/origi...  \n",
       "4             8.0  https://static.tvmaze.com/uploads/images/origi...  "
      ]
     },
     "execution_count": 7,
     "metadata": {},
     "output_type": "execute_result"
    }
   ],
   "source": [
    "from urllib.request import urlopen\n",
    "import json\n",
    "import pandas as pd\n",
    "import warnings\n",
    "warnings.filterwarnings(\"ignore\")\n",
    "import re\n",
    "\n",
    "def json_data_for(ref):    ## funtion for the taking the URL and converting it into dataframe\n",
    "    \n",
    "    '''\n",
    "    This function will take the input of the url of json and show the data in format\n",
    "    \n",
    "    '''\n",
    "    try:        \n",
    "        col = ['id', 'url', 'name', 'season', 'number', 'type', 'airdate', 'airtime',  'runtime',\"average rating\", \"summary\",\n",
    "       \"medium image link\",\"Original image link\"]  ## creating the columns\n",
    "\n",
    "        CLEANR = re.compile('<.*?>|&([a-z0-9]+|#[0-9]{1,6}|#x[0-9a-f]{1,6});') # compiler for removing the html tags from the summary\n",
    "        with urlopen(ref) as url:  # opening the url\n",
    "            s = json.loads(url.read().decode())  # Loading the data in json format\n",
    "        z = s[\"_embedded\"][\"episodes\"]    # loading the data which we need to parse  \n",
    "        \n",
    "        west_world = pd.DataFrame(columns=col) # creating the empty dataframe\n",
    "        for val in z: # Loop for filling the dataframe from the json data\n",
    "            dic = {}\n",
    "            for c  in col: # parsing the columns to take the valuse\n",
    "                if c in val: # checking whether the column name is present in original data\n",
    "                    dic[c] = val[c]\n",
    "            dic[\"summary\"] = re.sub(CLEANR, '', dic[\"summary\"])\n",
    "            dic[\"medium image link\"] = val[\"image\"][\"medium\"]\n",
    "            dic[\"original image link\"] = val[\"image\"][\"original\"]\n",
    "            dic[\"average_rating\"] = val[\"rating\"][\"average\"] \n",
    "    \n",
    "            west_world = west_world.append(dic,ignore_index=True,sort=False)\n",
    "        return (west_world)\n",
    "    except Exception as e:\n",
    "        print(\"Error has occured, please check the log message for more information\",e)\n",
    "\n",
    "url = \"http://api.tvmaze.com/singlesearch/shows?q=westworld&embed=episodes\"\n",
    "df = json_data_for(url)\n",
    "df.head()"
   ]
  },
  {
   "cell_type": "code",
   "execution_count": 8,
   "id": "0eb2f36c",
   "metadata": {},
   "outputs": [
    {
     "data": {
      "text/plain": [
       "Index(['id', 'num', 'name', 'img', 'type', 'height', 'weight', 'candy',\n",
       "       'candy_count', 'egg', 'spawn_chance', 'avg_spawns', 'spawn_time',\n",
       "       'multipliers', 'prev_evolution', 'weaknesses', 'next_evolution'],\n",
       "      dtype='object')"
      ]
     },
     "execution_count": 8,
     "metadata": {},
     "output_type": "execute_result"
    }
   ],
   "source": [
    "pokemon.columns"
   ]
  },
  {
   "cell_type": "markdown",
   "id": "9bcf40bf",
   "metadata": {},
   "source": [
    "# Question 6 -\n",
    "Using the data from Question 3, write code to analyze the data and answer the following questions \n",
    "Note\n",
    "1. Draw plots to demonstrate the analysis for the following questions for better visualizations.\n",
    "\n",
    "2. Write code comments wherever required for code understanding \n",
    "\n",
    "Insights to be drawn - \n",
    "\n",
    "● Get all Pokemons whose spawn rate is less than 5%\n",
    "\n",
    "● Get all Pokemons that have less than 4 weaknesses\n",
    "\n",
    "● Get all Pokemons that have no multipliers at all\n",
    "\n",
    "● Get all Pokemons that do not have more than 2 evolutions\n",
    "\n",
    "● Get all Pokemons whose spawn time is less than 300 seconds.\n",
    "\n",
    "Note - spawn time format is \"05:32”, so assume “minute: second” format and perform the analysis.\n",
    "\n",
    "● Get all Pokemon who have more than two types of capabilities"
   ]
  },
  {
   "cell_type": "code",
   "execution_count": 9,
   "id": "c39901ac",
   "metadata": {},
   "outputs": [],
   "source": [
    "import pandas as pd\n",
    "import warnings\n",
    "warnings.filterwarnings(\"ignore\")\n",
    "import numpy as np\n",
    "import matplotlib.pyplot as plt\n",
    "import seaborn as sns"
   ]
  },
  {
   "cell_type": "code",
   "execution_count": 10,
   "id": "c4962b6d",
   "metadata": {},
   "outputs": [],
   "source": [
    "url = 'https://raw.githubusercontent.com/Biuni/PokemonGO-Pokedex/master/pokedex.json'\n",
    "pokemon = json_excel(url)"
   ]
  },
  {
   "cell_type": "code",
   "execution_count": 11,
   "id": "8b3b13c7",
   "metadata": {},
   "outputs": [
    {
     "data": {
      "text/plain": [
       "Index(['id', 'num', 'name', 'img', 'type', 'height', 'weight', 'candy',\n",
       "       'candy_count', 'egg', 'spawn_chance', 'avg_spawns', 'spawn_time',\n",
       "       'multipliers', 'prev_evolution', 'weaknesses', 'next_evolution'],\n",
       "      dtype='object')"
      ]
     },
     "execution_count": 11,
     "metadata": {},
     "output_type": "execute_result"
    }
   ],
   "source": [
    "pokemon.columns"
   ]
  },
  {
   "cell_type": "code",
   "execution_count": 12,
   "id": "786c79f0",
   "metadata": {},
   "outputs": [],
   "source": [
    "#Q1. Get all Pokemons whose spawn rate is less than 5%"
   ]
  },
  {
   "cell_type": "code",
   "execution_count": 13,
   "id": "4dd2c385",
   "metadata": {},
   "outputs": [
    {
     "name": "stdout",
     "output_type": "stream",
     "text": [
      "No of pokemons who has less than 4 weekness 102\n"
     ]
    }
   ],
   "source": [
    "#Q2 Get all Pokemons that have less than 4 weaknesses\n",
    "list_of_weekness = []\n",
    "for val in pokemon[\"weaknesses\"]: #inserting the no of weekenss of weach pokemon in the list\n",
    "    list_of_weekness.append(len(val))\n",
    "keys= list(set(list_of_weekness)) # getting the disinct  number of weekness\n",
    "dic= {}\n",
    "for val in keys: # creating the diction with weekness and no of pokemons\n",
    "    dic[val] = list_of_weekness.count(val)\n",
    "\n",
    "print(\"No of pokemons who has less than 4 weekness\",dic[1]+dic[2]+dic[3])\n"
   ]
  },
  {
   "cell_type": "code",
   "execution_count": 14,
   "id": "e8e1becc",
   "metadata": {},
   "outputs": [
    {
     "data": {
      "text/plain": [
       "[]"
      ]
     },
     "execution_count": 14,
     "metadata": {},
     "output_type": "execute_result"
    },
    {
     "data": {
      "image/png": "[encoded data removed]",
      "text/plain": [
       "<Figure size 432x288 with 1 Axes>"
      ]
     },
     "metadata": {
      "needs_background": "light"
     },
     "output_type": "display_data"
    }
   ],
   "source": [
    "x = list(dic.keys())\n",
    "y = list(dic.values())\n",
    "plt.xlabel(\"No of weekness \")\n",
    "plt.ylabel(\"Count of pokemons\")\n",
    "plt.title(\"Plot of no of pokemons vs no of weekness\")\n",
    "sns.barplot(x,y)\n",
    "plt.plot()"
   ]
  },
  {
   "cell_type": "code",
   "execution_count": null,
   "id": "87e79c8a",
   "metadata": {},
   "outputs": [],
   "source": []
  },
  {
   "cell_type": "code",
   "execution_count": 15,
   "id": "ed75cf5e",
   "metadata": {},
   "outputs": [
    {
     "name": "stdout",
     "output_type": "stream",
     "text": [
      "No of pokemons with no multipliers 81\n"
     ]
    },
    {
     "data": {
      "text/html": [
       "<div>\n",
       "<style scoped>\n",
       "    .dataframe tbody tr th:only-of-type {\n",
       "        vertical-align: middle;\n",
       "    }\n",
       "\n",
       "    .dataframe tbody tr th {\n",
       "        vertical-align: top;\n",
       "    }\n",
       "\n",
       "    .dataframe thead th {\n",
       "        text-align: right;\n",
       "    }\n",
       "</style>\n",
       "<table border=\"1\" class=\"dataframe\">\n",
       "  <thead>\n",
       "    <tr style=\"text-align: right;\">\n",
       "      <th></th>\n",
       "      <th>id</th>\n",
       "      <th>num</th>\n",
       "      <th>name</th>\n",
       "      <th>img</th>\n",
       "      <th>type</th>\n",
       "      <th>height</th>\n",
       "      <th>weight</th>\n",
       "      <th>candy</th>\n",
       "      <th>candy_count</th>\n",
       "      <th>egg</th>\n",
       "      <th>spawn_chance</th>\n",
       "      <th>avg_spawns</th>\n",
       "      <th>spawn_time</th>\n",
       "      <th>multipliers</th>\n",
       "      <th>prev_evolution</th>\n",
       "      <th>weaknesses</th>\n",
       "      <th>next_evolution</th>\n",
       "    </tr>\n",
       "  </thead>\n",
       "  <tbody>\n",
       "    <tr>\n",
       "      <th>2</th>\n",
       "      <td>3</td>\n",
       "      <td>003</td>\n",
       "      <td>Venusaur</td>\n",
       "      <td>http://www.serebii.net/pokemongo/pokemon/003.png</td>\n",
       "      <td>[Grass, Poison]</td>\n",
       "      <td>2.01 m</td>\n",
       "      <td>100.0 kg</td>\n",
       "      <td>Bulbasaur Candy</td>\n",
       "      <td>NaN</td>\n",
       "      <td>Not in Eggs</td>\n",
       "      <td>0.017</td>\n",
       "      <td>1.7</td>\n",
       "      <td>11:30</td>\n",
       "      <td>None</td>\n",
       "      <td>[{'num': '001', 'name': 'Bulbasaur'}, {'num': ...</td>\n",
       "      <td>[Fire, Ice, Flying, Psychic]</td>\n",
       "      <td>NaN</td>\n",
       "    </tr>\n",
       "    <tr>\n",
       "      <th>5</th>\n",
       "      <td>6</td>\n",
       "      <td>006</td>\n",
       "      <td>Charizard</td>\n",
       "      <td>http://www.serebii.net/pokemongo/pokemon/006.png</td>\n",
       "      <td>[Fire, Flying]</td>\n",
       "      <td>1.70 m</td>\n",
       "      <td>90.5 kg</td>\n",
       "      <td>Charmander Candy</td>\n",
       "      <td>NaN</td>\n",
       "      <td>Not in Eggs</td>\n",
       "      <td>0.0031</td>\n",
       "      <td>0.31</td>\n",
       "      <td>13:34</td>\n",
       "      <td>None</td>\n",
       "      <td>[{'num': '004', 'name': 'Charmander'}, {'num':...</td>\n",
       "      <td>[Water, Electric, Rock]</td>\n",
       "      <td>NaN</td>\n",
       "    </tr>\n",
       "    <tr>\n",
       "      <th>8</th>\n",
       "      <td>9</td>\n",
       "      <td>009</td>\n",
       "      <td>Blastoise</td>\n",
       "      <td>http://www.serebii.net/pokemongo/pokemon/009.png</td>\n",
       "      <td>[Water]</td>\n",
       "      <td>1.60 m</td>\n",
       "      <td>85.5 kg</td>\n",
       "      <td>Squirtle Candy</td>\n",
       "      <td>NaN</td>\n",
       "      <td>Not in Eggs</td>\n",
       "      <td>0.0067</td>\n",
       "      <td>0.67</td>\n",
       "      <td>00:06</td>\n",
       "      <td>None</td>\n",
       "      <td>[{'num': '007', 'name': 'Squirtle'}, {'num': '...</td>\n",
       "      <td>[Electric, Grass]</td>\n",
       "      <td>NaN</td>\n",
       "    </tr>\n",
       "    <tr>\n",
       "      <th>11</th>\n",
       "      <td>12</td>\n",
       "      <td>012</td>\n",
       "      <td>Butterfree</td>\n",
       "      <td>http://www.serebii.net/pokemongo/pokemon/012.png</td>\n",
       "      <td>[Bug, Flying]</td>\n",
       "      <td>1.09 m</td>\n",
       "      <td>32.0 kg</td>\n",
       "      <td>Caterpie Candy</td>\n",
       "      <td>NaN</td>\n",
       "      <td>Not in Eggs</td>\n",
       "      <td>0.022</td>\n",
       "      <td>2.2</td>\n",
       "      <td>05:23</td>\n",
       "      <td>None</td>\n",
       "      <td>[{'num': '010', 'name': 'Caterpie'}, {'num': '...</td>\n",
       "      <td>[Fire, Electric, Ice, Flying, Rock]</td>\n",
       "      <td>NaN</td>\n",
       "    </tr>\n",
       "    <tr>\n",
       "      <th>14</th>\n",
       "      <td>15</td>\n",
       "      <td>015</td>\n",
       "      <td>Beedrill</td>\n",
       "      <td>http://www.serebii.net/pokemongo/pokemon/015.png</td>\n",
       "      <td>[Bug, Poison]</td>\n",
       "      <td>0.99 m</td>\n",
       "      <td>29.5 kg</td>\n",
       "      <td>Weedle Candy</td>\n",
       "      <td>NaN</td>\n",
       "      <td>Not in Eggs</td>\n",
       "      <td>0.051</td>\n",
       "      <td>5.1</td>\n",
       "      <td>04:50</td>\n",
       "      <td>None</td>\n",
       "      <td>[{'num': '013', 'name': 'Weedle'}, {'num': '01...</td>\n",
       "      <td>[Fire, Flying, Psychic, Rock]</td>\n",
       "      <td>NaN</td>\n",
       "    </tr>\n",
       "  </tbody>\n",
       "</table>\n",
       "</div>"
      ],
      "text/plain": [
       "    id  num        name                                               img  \\\n",
       "2    3  003    Venusaur  http://www.serebii.net/pokemongo/pokemon/003.png   \n",
       "5    6  006   Charizard  http://www.serebii.net/pokemongo/pokemon/006.png   \n",
       "8    9  009   Blastoise  http://www.serebii.net/pokemongo/pokemon/009.png   \n",
       "11  12  012  Butterfree  http://www.serebii.net/pokemongo/pokemon/012.png   \n",
       "14  15  015    Beedrill  http://www.serebii.net/pokemongo/pokemon/015.png   \n",
       "\n",
       "               type  height    weight             candy candy_count  \\\n",
       "2   [Grass, Poison]  2.01 m  100.0 kg   Bulbasaur Candy         NaN   \n",
       "5    [Fire, Flying]  1.70 m   90.5 kg  Charmander Candy         NaN   \n",
       "8           [Water]  1.60 m   85.5 kg    Squirtle Candy         NaN   \n",
       "11    [Bug, Flying]  1.09 m   32.0 kg    Caterpie Candy         NaN   \n",
       "14    [Bug, Poison]  0.99 m   29.5 kg      Weedle Candy         NaN   \n",
       "\n",
       "            egg spawn_chance avg_spawns spawn_time multipliers  \\\n",
       "2   Not in Eggs        0.017        1.7      11:30        None   \n",
       "5   Not in Eggs       0.0031       0.31      13:34        None   \n",
       "8   Not in Eggs       0.0067       0.67      00:06        None   \n",
       "11  Not in Eggs        0.022        2.2      05:23        None   \n",
       "14  Not in Eggs        0.051        5.1      04:50        None   \n",
       "\n",
       "                                       prev_evolution  \\\n",
       "2   [{'num': '001', 'name': 'Bulbasaur'}, {'num': ...   \n",
       "5   [{'num': '004', 'name': 'Charmander'}, {'num':...   \n",
       "8   [{'num': '007', 'name': 'Squirtle'}, {'num': '...   \n",
       "11  [{'num': '010', 'name': 'Caterpie'}, {'num': '...   \n",
       "14  [{'num': '013', 'name': 'Weedle'}, {'num': '01...   \n",
       "\n",
       "                             weaknesses next_evolution  \n",
       "2          [Fire, Ice, Flying, Psychic]            NaN  \n",
       "5               [Water, Electric, Rock]            NaN  \n",
       "8                     [Electric, Grass]            NaN  \n",
       "11  [Fire, Electric, Ice, Flying, Rock]            NaN  \n",
       "14        [Fire, Flying, Psychic, Rock]            NaN  "
      ]
     },
     "execution_count": 15,
     "metadata": {},
     "output_type": "execute_result"
    }
   ],
   "source": [
    "#Q3Get all Pokemons that have no multipliers at all\n",
    "list_multipliers = []\n",
    "pokemon_with_no_multipliers = pokemon[pokemon[\"multipliers\"].isnull()]\n",
    "print(\"No of pokemons with no multipliers\", pokemon_with_no_multipliers.shape[0])\n",
    "pokemon_with_no_multipliers.head()"
   ]
  },
  {
   "cell_type": "code",
   "execution_count": 16,
   "id": "f09946c7",
   "metadata": {},
   "outputs": [],
   "source": [
    "dic_mul = dict(pokemon[\"multipliers\"].isnull().value_counts())\n"
   ]
  },
  {
   "cell_type": "code",
   "execution_count": 17,
   "id": "c8d4bccc",
   "metadata": {},
   "outputs": [
    {
     "data": {
      "text/plain": [
       "[]"
      ]
     },
     "execution_count": 17,
     "metadata": {},
     "output_type": "execute_result"
    },
    {
     "data": {
      "image/png": "[encoded data removed]",
      "text/plain": [
       "<Figure size 432x288 with 1 Axes>"
      ]
     },
     "metadata": {
      "needs_background": "light"
     },
     "output_type": "display_data"
    }
   ],
   "source": [
    "plt.xlabel(\"Multipliers with null \")\n",
    "plt.ylabel(\"Count of pokemons\")\n",
    "plt.title(\"Plot of no of pokemons vs multipliers with null\")\n",
    "sns.barplot(list(dic_mul.keys()),list(dic_mul.values()))\n",
    "plt.plot()"
   ]
  },
  {
   "cell_type": "code",
   "execution_count": 21,
   "id": "f66d7a53",
   "metadata": {},
   "outputs": [
    {
     "data": {
      "text/plain": [
       "(150, 17)"
      ]
     },
     "execution_count": 21,
     "metadata": {},
     "output_type": "execute_result"
    }
   ],
   "source": [
    "#Q4.Get all Pokemons that do not have more than 2 evolutions\n",
    "pokemon_evol = pd.DataFrame(columns=pokemon.columns)\n",
    "list_evo = []\n",
    "for i in range(pokemon.shape[0]):\n",
    "    No_Prev_Evo = 0\n",
    "    No_Next_Evo =  0\n",
    "    if( type(pokemon[\"prev_evolution\"].iloc[i]) ==list):\n",
    "        No_Prev_Evo = len(pokemon[\"prev_evolution\"].iloc[i])\n",
    "    if( type(pokemon[\"next_evolution\"].iloc[i]) ==list):\n",
    "        No_Next_Evo = len(pokemon[\"next_evolution\"].iloc[i])\n",
    "    \n",
    "    if((No_Prev_Evo + No_Next_Evo) <3):\n",
    "        list_evo.append(No_Prev_Evo + No_Next_Evo)\n",
    "        \n",
    "        pokemon_evol = pokemon_evol.append(pokemon.iloc[i],ignore_index=True)\n",
    "        \n",
    "pokemon_evol.shape"
   ]
  },
  {
   "cell_type": "code",
   "execution_count": 22,
   "id": "36ec382f",
   "metadata": {},
   "outputs": [
    {
     "name": "stdout",
     "output_type": "stream",
     "text": [
      "{0: 25, 1: 77, 2: 48}\n"
     ]
    },
    {
     "data": {
      "text/plain": [
       "[]"
      ]
     },
     "execution_count": 22,
     "metadata": {},
     "output_type": "execute_result"
    },
    {
     "data": {
      "image/png": "[encoded data removed]",
      "text/plain": [
       "<Figure size 432x288 with 1 Axes>"
      ]
     },
     "metadata": {
      "needs_background": "light"
     },
     "output_type": "display_data"
    }
   ],
   "source": [
    "plt.xlabel(\"No of evolutions \")\n",
    "plt.ylabel(\"Count of pokemons\")\n",
    "plt.title(\"Plot of no of pokemons vs no of evolutions \")\n",
    "dic = {}\n",
    "for val in (list(set(list_evo))):\n",
    "    dic[val] = list_evo.count(val)\n",
    "print(dic)\n",
    "sns.barplot(x = list(dic.keys()), y= list(dic.values()))\n",
    "plt.plot()"
   ]
  },
  {
   "cell_type": "code",
   "execution_count": 23,
   "id": "729a734d",
   "metadata": {},
   "outputs": [
    {
     "data": {
      "text/html": [
       "<div>\n",
       "<style scoped>\n",
       "    .dataframe tbody tr th:only-of-type {\n",
       "        vertical-align: middle;\n",
       "    }\n",
       "\n",
       "    .dataframe tbody tr th {\n",
       "        vertical-align: top;\n",
       "    }\n",
       "\n",
       "    .dataframe thead th {\n",
       "        text-align: right;\n",
       "    }\n",
       "</style>\n",
       "<table border=\"1\" class=\"dataframe\">\n",
       "  <thead>\n",
       "    <tr style=\"text-align: right;\">\n",
       "      <th></th>\n",
       "      <th>id</th>\n",
       "      <th>num</th>\n",
       "      <th>name</th>\n",
       "      <th>img</th>\n",
       "      <th>type</th>\n",
       "      <th>height</th>\n",
       "      <th>weight</th>\n",
       "      <th>candy</th>\n",
       "      <th>candy_count</th>\n",
       "      <th>egg</th>\n",
       "      <th>spawn_chance</th>\n",
       "      <th>avg_spawns</th>\n",
       "      <th>spawn_time</th>\n",
       "      <th>multipliers</th>\n",
       "      <th>prev_evolution</th>\n",
       "      <th>weaknesses</th>\n",
       "      <th>next_evolution</th>\n",
       "    </tr>\n",
       "  </thead>\n",
       "  <tbody>\n",
       "    <tr>\n",
       "      <th>0</th>\n",
       "      <td>7</td>\n",
       "      <td>007</td>\n",
       "      <td>Squirtle</td>\n",
       "      <td>http://www.serebii.net/pokemongo/pokemon/007.png</td>\n",
       "      <td>[Water]</td>\n",
       "      <td>0.51 m</td>\n",
       "      <td>9.0 kg</td>\n",
       "      <td>Squirtle Candy</td>\n",
       "      <td>25</td>\n",
       "      <td>2 km</td>\n",
       "      <td>0.58</td>\n",
       "      <td>58</td>\n",
       "      <td>04:25</td>\n",
       "      <td>[2.1]</td>\n",
       "      <td>NaN</td>\n",
       "      <td>[Electric, Grass]</td>\n",
       "      <td>[{'num': '008', 'name': 'Wartortle'}, {'num': ...</td>\n",
       "    </tr>\n",
       "    <tr>\n",
       "      <th>1</th>\n",
       "      <td>9</td>\n",
       "      <td>009</td>\n",
       "      <td>Blastoise</td>\n",
       "      <td>http://www.serebii.net/pokemongo/pokemon/009.png</td>\n",
       "      <td>[Water]</td>\n",
       "      <td>1.60 m</td>\n",
       "      <td>85.5 kg</td>\n",
       "      <td>Squirtle Candy</td>\n",
       "      <td>NaN</td>\n",
       "      <td>Not in Eggs</td>\n",
       "      <td>0.0067</td>\n",
       "      <td>0.67</td>\n",
       "      <td>00:06</td>\n",
       "      <td>None</td>\n",
       "      <td>[{'num': '007', 'name': 'Squirtle'}, {'num': '...</td>\n",
       "      <td>[Electric, Grass]</td>\n",
       "      <td>NaN</td>\n",
       "    </tr>\n",
       "    <tr>\n",
       "      <th>2</th>\n",
       "      <td>11</td>\n",
       "      <td>011</td>\n",
       "      <td>Metapod</td>\n",
       "      <td>http://www.serebii.net/pokemongo/pokemon/011.png</td>\n",
       "      <td>[Bug]</td>\n",
       "      <td>0.71 m</td>\n",
       "      <td>9.9 kg</td>\n",
       "      <td>Caterpie Candy</td>\n",
       "      <td>50</td>\n",
       "      <td>Not in Eggs</td>\n",
       "      <td>0.187</td>\n",
       "      <td>18.7</td>\n",
       "      <td>02:11</td>\n",
       "      <td>[3.55, 3.79]</td>\n",
       "      <td>[{'num': '010', 'name': 'Caterpie'}]</td>\n",
       "      <td>[Fire, Flying, Rock]</td>\n",
       "      <td>[{'num': '012', 'name': 'Butterfree'}]</td>\n",
       "    </tr>\n",
       "    <tr>\n",
       "      <th>3</th>\n",
       "      <td>13</td>\n",
       "      <td>013</td>\n",
       "      <td>Weedle</td>\n",
       "      <td>http://www.serebii.net/pokemongo/pokemon/013.png</td>\n",
       "      <td>[Bug, Poison]</td>\n",
       "      <td>0.30 m</td>\n",
       "      <td>3.2 kg</td>\n",
       "      <td>Weedle Candy</td>\n",
       "      <td>12</td>\n",
       "      <td>2 km</td>\n",
       "      <td>7.12</td>\n",
       "      <td>712</td>\n",
       "      <td>02:21</td>\n",
       "      <td>[1.01, 1.09]</td>\n",
       "      <td>NaN</td>\n",
       "      <td>[Fire, Flying, Psychic, Rock]</td>\n",
       "      <td>[{'num': '014', 'name': 'Kakuna'}, {'num': '01...</td>\n",
       "    </tr>\n",
       "    <tr>\n",
       "      <th>4</th>\n",
       "      <td>14</td>\n",
       "      <td>014</td>\n",
       "      <td>Kakuna</td>\n",
       "      <td>http://www.serebii.net/pokemongo/pokemon/014.png</td>\n",
       "      <td>[Bug, Poison]</td>\n",
       "      <td>0.61 m</td>\n",
       "      <td>10.0 kg</td>\n",
       "      <td>Weedle Candy</td>\n",
       "      <td>50</td>\n",
       "      <td>Not in Eggs</td>\n",
       "      <td>0.44</td>\n",
       "      <td>44</td>\n",
       "      <td>02:30</td>\n",
       "      <td>[3.01, 3.41]</td>\n",
       "      <td>[{'num': '013', 'name': 'Weedle'}]</td>\n",
       "      <td>[Fire, Flying, Psychic, Rock]</td>\n",
       "      <td>[{'num': '015', 'name': 'Beedrill'}]</td>\n",
       "    </tr>\n",
       "  </tbody>\n",
       "</table>\n",
       "</div>"
      ],
      "text/plain": [
       "   id  num       name                                               img  \\\n",
       "0   7  007   Squirtle  http://www.serebii.net/pokemongo/pokemon/007.png   \n",
       "1   9  009  Blastoise  http://www.serebii.net/pokemongo/pokemon/009.png   \n",
       "2  11  011    Metapod  http://www.serebii.net/pokemongo/pokemon/011.png   \n",
       "3  13  013     Weedle  http://www.serebii.net/pokemongo/pokemon/013.png   \n",
       "4  14  014     Kakuna  http://www.serebii.net/pokemongo/pokemon/014.png   \n",
       "\n",
       "            type  height   weight           candy candy_count          egg  \\\n",
       "0        [Water]  0.51 m   9.0 kg  Squirtle Candy          25         2 km   \n",
       "1        [Water]  1.60 m  85.5 kg  Squirtle Candy         NaN  Not in Eggs   \n",
       "2          [Bug]  0.71 m   9.9 kg  Caterpie Candy          50  Not in Eggs   \n",
       "3  [Bug, Poison]  0.30 m   3.2 kg    Weedle Candy          12         2 km   \n",
       "4  [Bug, Poison]  0.61 m  10.0 kg    Weedle Candy          50  Not in Eggs   \n",
       "\n",
       "  spawn_chance avg_spawns spawn_time   multipliers  \\\n",
       "0         0.58         58      04:25         [2.1]   \n",
       "1       0.0067       0.67      00:06          None   \n",
       "2        0.187       18.7      02:11  [3.55, 3.79]   \n",
       "3         7.12        712      02:21  [1.01, 1.09]   \n",
       "4         0.44         44      02:30  [3.01, 3.41]   \n",
       "\n",
       "                                      prev_evolution  \\\n",
       "0                                                NaN   \n",
       "1  [{'num': '007', 'name': 'Squirtle'}, {'num': '...   \n",
       "2               [{'num': '010', 'name': 'Caterpie'}]   \n",
       "3                                                NaN   \n",
       "4                 [{'num': '013', 'name': 'Weedle'}]   \n",
       "\n",
       "                      weaknesses  \\\n",
       "0              [Electric, Grass]   \n",
       "1              [Electric, Grass]   \n",
       "2           [Fire, Flying, Rock]   \n",
       "3  [Fire, Flying, Psychic, Rock]   \n",
       "4  [Fire, Flying, Psychic, Rock]   \n",
       "\n",
       "                                      next_evolution  \n",
       "0  [{'num': '008', 'name': 'Wartortle'}, {'num': ...  \n",
       "1                                                NaN  \n",
       "2             [{'num': '012', 'name': 'Butterfree'}]  \n",
       "3  [{'num': '014', 'name': 'Kakuna'}, {'num': '01...  \n",
       "4               [{'num': '015', 'name': 'Beedrill'}]  "
      ]
     },
     "execution_count": 23,
     "metadata": {},
     "output_type": "execute_result"
    }
   ],
   "source": [
    "#Q5. Get all Pokemons whose spawn time is less than 300 seconds.\n",
    "spawn_t =0\n",
    "spawn_nt = 0\n",
    "pokemon_spawn = pd.DataFrame(columns=pokemon.columns)\n",
    "for i in range(pokemon.shape[0]):\n",
    "    if(pokemon[\"spawn_time\"].iloc[i] != \"N/A\" ):\n",
    "        lis = pokemon[\"spawn_time\"].iloc[i].split(\":\")\n",
    "        total_spwan_time = int(lis[0]) * 60 + int(lis[1])\n",
    "        if (total_spwan_time < 300):\n",
    "            spawn_t += 1 \n",
    "            pokemon_spawn = pokemon_spawn.append(pokemon.iloc[i],ignore_index=True)\n",
    "        else:\n",
    "            spawn_nt+=1\n",
    "    \n",
    "      \n",
    "pokemon_spawn.head()  "
   ]
  },
  {
   "cell_type": "code",
   "execution_count": 24,
   "id": "2f3fcb54",
   "metadata": {},
   "outputs": [
    {
     "data": {
      "text/plain": [
       "[]"
      ]
     },
     "execution_count": 24,
     "metadata": {},
     "output_type": "execute_result"
    },
    {
     "data": {
      "image/png": "[encoded data removed]",
      "text/plain": [
       "<Figure size 432x288 with 1 Axes>"
      ]
     },
     "metadata": {
      "needs_background": "light"
     },
     "output_type": "display_data"
    }
   ],
   "source": [
    "plt.xlabel(\"spawn time \")\n",
    "plt.ylabel(\"Count of pokemons\")\n",
    "plt.title(\"Plot of no of pokemons vs spawn_time \")\n",
    "\n",
    "sns.barplot(y = [spawn_t,spawn_nt], x= [\"spawn time less than 300 sec\",\"spawn time more than 300 sec\"])\n",
    "plt.plot()"
   ]
  },
  {
   "cell_type": "code",
   "execution_count": 25,
   "id": "77c0a020",
   "metadata": {},
   "outputs": [
    {
     "name": "stdout",
     "output_type": "stream",
     "text": [
      "There is no pokemon who has more than two capabilities\n"
     ]
    }
   ],
   "source": [
    "#6.Get all Pokemon who have more than two types of capabilities\n",
    "pokemon_capa = pd.DataFrame(columns=pokemon.columns)\n",
    "for i in range (pokemon.shape[0]):\n",
    "    capa = len(pokemon['type'].iloc[i])\n",
    "    if(capa >2):\n",
    "        pokemon_capa = pokemon_capa.append(pokemon.iloc[i])\n",
    "if(pokemon_capa.shape[0] == 0):\n",
    "    print(\"There is no pokemon who has more than two capabilities\")\n",
    "else:\n",
    "    pokemon_capa.head()\n",
    "    "
   ]
  },
  {
   "cell_type": "markdown",
   "id": "3c922499",
   "metadata": {},
   "source": [
    "#Question 7 -\n",
    "Using the data from Question 4, write code to analyze the data and answer the following questions Note -\n",
    "1. Draw plots to demonstrate the analysis for the following questions for better visualizations\n",
    "2. Write code comments wherever required for code understanding\n",
    "Insights to be drawn -\n",
    "\n",
    "● Get all the Earth meteorites that fell before the year 2000\n",
    "\n",
    "● Get all the earth meteorites co-ordinates who fell before the year 1970\n",
    "\n",
    "● Assuming that the mass of the earth meteorites was in kg, get all those whose mass was more\n",
    "than 10000kg\n"
   ]
  },
  {
   "cell_type": "code",
   "execution_count": 26,
   "id": "a1477824",
   "metadata": {},
   "outputs": [],
   "source": [
    "url = 'https://data.nasa.gov/resource/y77d-th95.json'\n",
    "nassa = json_csv(url)"
   ]
  },
  {
   "cell_type": "code",
   "execution_count": 27,
   "id": "d0f3bf16",
   "metadata": {},
   "outputs": [],
   "source": [
    "import pandas as pd\n",
    "import numpy as np\n",
    "\n",
    "def earth_met_before_2000(nassa):\n",
    "    df = nassa[nassa.year.dt.year < 2000]\n",
    "    return df\n",
    "def earth_met_before_1970(nassa):\n",
    "    df = nassa[nassa.year.dt.year < 1970][\"point_coordinates\"]\n",
    "    return df\n",
    "def earth_met_mass(nassa):\n",
    "    nassa.fillna('0',inplace=True)\n",
    "    df = nassa[nassa.mass.astype('float') >10000]\n",
    "    return df\n",
    "\n",
    "\n",
    "nassa[\"year\"] = pd.to_datetime(nassa.year,errors = 'coerce')\n",
    "met_before_2000 = earth_met_before_2000(nassa)\n",
    "met_before_1970 =  earth_met_before_1970(nassa)\n",
    "mass_more_10000 = earth_met_mass(nassa)"
   ]
  },
  {
   "cell_type": "code",
   "execution_count": 28,
   "id": "c9ffa685",
   "metadata": {},
   "outputs": [
    {
     "data": {
      "text/html": [
       "<div>\n",
       "<style scoped>\n",
       "    .dataframe tbody tr th:only-of-type {\n",
       "        vertical-align: middle;\n",
       "    }\n",
       "\n",
       "    .dataframe tbody tr th {\n",
       "        vertical-align: top;\n",
       "    }\n",
       "\n",
       "    .dataframe thead th {\n",
       "        text-align: right;\n",
       "    }\n",
       "</style>\n",
       "<table border=\"1\" class=\"dataframe\">\n",
       "  <thead>\n",
       "    <tr style=\"text-align: right;\">\n",
       "      <th></th>\n",
       "      <th>name</th>\n",
       "      <th>id</th>\n",
       "      <th>nametype</th>\n",
       "      <th>recclass</th>\n",
       "      <th>mass</th>\n",
       "      <th>fall</th>\n",
       "      <th>year</th>\n",
       "      <th>reclat</th>\n",
       "      <th>reclong</th>\n",
       "      <th>point_coordinates</th>\n",
       "    </tr>\n",
       "  </thead>\n",
       "  <tbody>\n",
       "    <tr>\n",
       "      <th>0</th>\n",
       "      <td>Aachen</td>\n",
       "      <td>1</td>\n",
       "      <td>Valid</td>\n",
       "      <td>L5</td>\n",
       "      <td>21</td>\n",
       "      <td>Fell</td>\n",
       "      <td>1880-01-01</td>\n",
       "      <td>50.775000</td>\n",
       "      <td>6.083330</td>\n",
       "      <td>[6.08333, 50.775]</td>\n",
       "    </tr>\n",
       "    <tr>\n",
       "      <th>1</th>\n",
       "      <td>Aarhus</td>\n",
       "      <td>2</td>\n",
       "      <td>Valid</td>\n",
       "      <td>H6</td>\n",
       "      <td>720</td>\n",
       "      <td>Fell</td>\n",
       "      <td>1951-01-01</td>\n",
       "      <td>56.183330</td>\n",
       "      <td>10.233330</td>\n",
       "      <td>[10.23333, 56.18333]</td>\n",
       "    </tr>\n",
       "    <tr>\n",
       "      <th>2</th>\n",
       "      <td>Abee</td>\n",
       "      <td>6</td>\n",
       "      <td>Valid</td>\n",
       "      <td>EH4</td>\n",
       "      <td>107000</td>\n",
       "      <td>Fell</td>\n",
       "      <td>1952-01-01</td>\n",
       "      <td>54.216670</td>\n",
       "      <td>-113.000000</td>\n",
       "      <td>[-113, 54.21667]</td>\n",
       "    </tr>\n",
       "    <tr>\n",
       "      <th>3</th>\n",
       "      <td>Acapulco</td>\n",
       "      <td>10</td>\n",
       "      <td>Valid</td>\n",
       "      <td>Acapulcoite</td>\n",
       "      <td>1914</td>\n",
       "      <td>Fell</td>\n",
       "      <td>1976-01-01</td>\n",
       "      <td>16.883330</td>\n",
       "      <td>-99.900000</td>\n",
       "      <td>[-99.9, 16.88333]</td>\n",
       "    </tr>\n",
       "    <tr>\n",
       "      <th>4</th>\n",
       "      <td>Achiras</td>\n",
       "      <td>370</td>\n",
       "      <td>Valid</td>\n",
       "      <td>L6</td>\n",
       "      <td>780</td>\n",
       "      <td>Fell</td>\n",
       "      <td>1902-01-01</td>\n",
       "      <td>-33.166670</td>\n",
       "      <td>-64.950000</td>\n",
       "      <td>[-64.95, -33.16667]</td>\n",
       "    </tr>\n",
       "    <tr>\n",
       "      <th>...</th>\n",
       "      <td>...</td>\n",
       "      <td>...</td>\n",
       "      <td>...</td>\n",
       "      <td>...</td>\n",
       "      <td>...</td>\n",
       "      <td>...</td>\n",
       "      <td>...</td>\n",
       "      <td>...</td>\n",
       "      <td>...</td>\n",
       "      <td>...</td>\n",
       "    </tr>\n",
       "    <tr>\n",
       "      <th>994</th>\n",
       "      <td>Timochin</td>\n",
       "      <td>24004</td>\n",
       "      <td>Valid</td>\n",
       "      <td>H5</td>\n",
       "      <td>65500</td>\n",
       "      <td>Fell</td>\n",
       "      <td>1807-01-01</td>\n",
       "      <td>54.500000</td>\n",
       "      <td>35.200000</td>\n",
       "      <td>[35.2, 54.5]</td>\n",
       "    </tr>\n",
       "    <tr>\n",
       "      <th>995</th>\n",
       "      <td>Tirupati</td>\n",
       "      <td>24009</td>\n",
       "      <td>Valid</td>\n",
       "      <td>H6</td>\n",
       "      <td>230</td>\n",
       "      <td>Fell</td>\n",
       "      <td>1934-01-01</td>\n",
       "      <td>13.633330</td>\n",
       "      <td>79.416670</td>\n",
       "      <td>[79.41667, 13.63333]</td>\n",
       "    </tr>\n",
       "    <tr>\n",
       "      <th>997</th>\n",
       "      <td>Tjabe</td>\n",
       "      <td>24011</td>\n",
       "      <td>Valid</td>\n",
       "      <td>H6</td>\n",
       "      <td>20000</td>\n",
       "      <td>Fell</td>\n",
       "      <td>1869-01-01</td>\n",
       "      <td>-7.083330</td>\n",
       "      <td>111.533330</td>\n",
       "      <td>[111.53333, -7.08333]</td>\n",
       "    </tr>\n",
       "    <tr>\n",
       "      <th>998</th>\n",
       "      <td>Tjerebon</td>\n",
       "      <td>24012</td>\n",
       "      <td>Valid</td>\n",
       "      <td>L5</td>\n",
       "      <td>16500</td>\n",
       "      <td>Fell</td>\n",
       "      <td>1922-01-01</td>\n",
       "      <td>-6.666670</td>\n",
       "      <td>106.583330</td>\n",
       "      <td>[106.58333, -6.66667]</td>\n",
       "    </tr>\n",
       "    <tr>\n",
       "      <th>999</th>\n",
       "      <td>Tomakovka</td>\n",
       "      <td>24019</td>\n",
       "      <td>Valid</td>\n",
       "      <td>LL6</td>\n",
       "      <td>600</td>\n",
       "      <td>Fell</td>\n",
       "      <td>1905-01-01</td>\n",
       "      <td>47.850000</td>\n",
       "      <td>34.766670</td>\n",
       "      <td>[34.76667, 47.85]</td>\n",
       "    </tr>\n",
       "  </tbody>\n",
       "</table>\n",
       "<p>912 rows × 10 columns</p>\n",
       "</div>"
      ],
      "text/plain": [
       "          name     id nametype     recclass    mass  fall       year  \\\n",
       "0       Aachen      1    Valid           L5      21  Fell 1880-01-01   \n",
       "1       Aarhus      2    Valid           H6     720  Fell 1951-01-01   \n",
       "2         Abee      6    Valid          EH4  107000  Fell 1952-01-01   \n",
       "3     Acapulco     10    Valid  Acapulcoite    1914  Fell 1976-01-01   \n",
       "4      Achiras    370    Valid           L6     780  Fell 1902-01-01   \n",
       "..         ...    ...      ...          ...     ...   ...        ...   \n",
       "994   Timochin  24004    Valid           H5   65500  Fell 1807-01-01   \n",
       "995   Tirupati  24009    Valid           H6     230  Fell 1934-01-01   \n",
       "997      Tjabe  24011    Valid           H6   20000  Fell 1869-01-01   \n",
       "998   Tjerebon  24012    Valid           L5   16500  Fell 1922-01-01   \n",
       "999  Tomakovka  24019    Valid          LL6     600  Fell 1905-01-01   \n",
       "\n",
       "         reclat      reclong      point_coordinates  \n",
       "0     50.775000     6.083330      [6.08333, 50.775]  \n",
       "1     56.183330    10.233330   [10.23333, 56.18333]  \n",
       "2     54.216670  -113.000000       [-113, 54.21667]  \n",
       "3     16.883330   -99.900000      [-99.9, 16.88333]  \n",
       "4    -33.166670   -64.950000    [-64.95, -33.16667]  \n",
       "..          ...          ...                    ...  \n",
       "994   54.500000    35.200000           [35.2, 54.5]  \n",
       "995   13.633330    79.416670   [79.41667, 13.63333]  \n",
       "997   -7.083330   111.533330  [111.53333, -7.08333]  \n",
       "998   -6.666670   106.583330  [106.58333, -6.66667]  \n",
       "999   47.850000    34.766670      [34.76667, 47.85]  \n",
       "\n",
       "[912 rows x 10 columns]"
      ]
     },
     "execution_count": 28,
     "metadata": {},
     "output_type": "execute_result"
    }
   ],
   "source": [
    "(met_before_2000)"
   ]
  },
  {
   "cell_type": "code",
   "execution_count": 29,
   "id": "3e72bef3",
   "metadata": {},
   "outputs": [
    {
     "data": {
      "text/plain": [
       "0          [6.08333, 50.775]\n",
       "1       [10.23333, 56.18333]\n",
       "2           [-113, 54.21667]\n",
       "4        [-64.95, -33.16667]\n",
       "5               [71.8, 32.1]\n",
       "               ...          \n",
       "994             [35.2, 54.5]\n",
       "995     [79.41667, 13.63333]\n",
       "997    [111.53333, -7.08333]\n",
       "998    [106.58333, -6.66667]\n",
       "999        [34.76667, 47.85]\n",
       "Name: point_coordinates, Length: 763, dtype: object"
      ]
     },
     "execution_count": 29,
     "metadata": {},
     "output_type": "execute_result"
    }
   ],
   "source": [
    "(met_before_1970)"
   ]
  },
  {
   "cell_type": "code",
   "execution_count": 30,
   "id": "051228e1",
   "metadata": {},
   "outputs": [
    {
     "data": {
      "text/html": [
       "<div>\n",
       "<style scoped>\n",
       "    .dataframe tbody tr th:only-of-type {\n",
       "        vertical-align: middle;\n",
       "    }\n",
       "\n",
       "    .dataframe tbody tr th {\n",
       "        vertical-align: top;\n",
       "    }\n",
       "\n",
       "    .dataframe thead th {\n",
       "        text-align: right;\n",
       "    }\n",
       "</style>\n",
       "<table border=\"1\" class=\"dataframe\">\n",
       "  <thead>\n",
       "    <tr style=\"text-align: right;\">\n",
       "      <th></th>\n",
       "      <th>name</th>\n",
       "      <th>id</th>\n",
       "      <th>nametype</th>\n",
       "      <th>recclass</th>\n",
       "      <th>mass</th>\n",
       "      <th>fall</th>\n",
       "      <th>year</th>\n",
       "      <th>reclat</th>\n",
       "      <th>reclong</th>\n",
       "      <th>point_coordinates</th>\n",
       "    </tr>\n",
       "  </thead>\n",
       "  <tbody>\n",
       "    <tr>\n",
       "      <th>2</th>\n",
       "      <td>Abee</td>\n",
       "      <td>6</td>\n",
       "      <td>Valid</td>\n",
       "      <td>EH4</td>\n",
       "      <td>107000</td>\n",
       "      <td>Fell</td>\n",
       "      <td>1952-01-01 00:00:00</td>\n",
       "      <td>54.216670</td>\n",
       "      <td>-113.000000</td>\n",
       "      <td>[-113, 54.21667]</td>\n",
       "    </tr>\n",
       "    <tr>\n",
       "      <th>7</th>\n",
       "      <td>Agen</td>\n",
       "      <td>392</td>\n",
       "      <td>Valid</td>\n",
       "      <td>H5</td>\n",
       "      <td>30000</td>\n",
       "      <td>Fell</td>\n",
       "      <td>1814-01-01 00:00:00</td>\n",
       "      <td>44.216670</td>\n",
       "      <td>0.616670</td>\n",
       "      <td>[0.61667, 44.21667]</td>\n",
       "    </tr>\n",
       "    <tr>\n",
       "      <th>11</th>\n",
       "      <td>Aïr</td>\n",
       "      <td>424</td>\n",
       "      <td>Valid</td>\n",
       "      <td>L6</td>\n",
       "      <td>24000</td>\n",
       "      <td>Fell</td>\n",
       "      <td>1925-01-01 00:00:00</td>\n",
       "      <td>19.083330</td>\n",
       "      <td>8.383330</td>\n",
       "      <td>[8.38333, 19.08333]</td>\n",
       "    </tr>\n",
       "    <tr>\n",
       "      <th>16</th>\n",
       "      <td>Akyumak</td>\n",
       "      <td>433</td>\n",
       "      <td>Valid</td>\n",
       "      <td>Iron, IVA</td>\n",
       "      <td>50000</td>\n",
       "      <td>Fell</td>\n",
       "      <td>1981-01-01 00:00:00</td>\n",
       "      <td>39.916670</td>\n",
       "      <td>42.816670</td>\n",
       "      <td>[42.81667, 39.91667]</td>\n",
       "    </tr>\n",
       "    <tr>\n",
       "      <th>27</th>\n",
       "      <td>Alfianello</td>\n",
       "      <td>466</td>\n",
       "      <td>Valid</td>\n",
       "      <td>L6</td>\n",
       "      <td>228000</td>\n",
       "      <td>Fell</td>\n",
       "      <td>1883-01-01 00:00:00</td>\n",
       "      <td>45.266670</td>\n",
       "      <td>10.150000</td>\n",
       "      <td>[10.15, 45.26667]</td>\n",
       "    </tr>\n",
       "    <tr>\n",
       "      <th>...</th>\n",
       "      <td>...</td>\n",
       "      <td>...</td>\n",
       "      <td>...</td>\n",
       "      <td>...</td>\n",
       "      <td>...</td>\n",
       "      <td>...</td>\n",
       "      <td>...</td>\n",
       "      <td>...</td>\n",
       "      <td>...</td>\n",
       "      <td>...</td>\n",
       "    </tr>\n",
       "    <tr>\n",
       "      <th>991</th>\n",
       "      <td>Tieschitz</td>\n",
       "      <td>23989</td>\n",
       "      <td>Valid</td>\n",
       "      <td>H/L3.6</td>\n",
       "      <td>28000</td>\n",
       "      <td>Fell</td>\n",
       "      <td>1878-01-01 00:00:00</td>\n",
       "      <td>49.600000</td>\n",
       "      <td>17.116670</td>\n",
       "      <td>[17.11667, 49.6]</td>\n",
       "    </tr>\n",
       "    <tr>\n",
       "      <th>992</th>\n",
       "      <td>Tilden</td>\n",
       "      <td>23998</td>\n",
       "      <td>Valid</td>\n",
       "      <td>L6</td>\n",
       "      <td>74800</td>\n",
       "      <td>Fell</td>\n",
       "      <td>1927-01-01 00:00:00</td>\n",
       "      <td>38.200000</td>\n",
       "      <td>-89.683330</td>\n",
       "      <td>[-89.68333, 38.2]</td>\n",
       "    </tr>\n",
       "    <tr>\n",
       "      <th>994</th>\n",
       "      <td>Timochin</td>\n",
       "      <td>24004</td>\n",
       "      <td>Valid</td>\n",
       "      <td>H5</td>\n",
       "      <td>65500</td>\n",
       "      <td>Fell</td>\n",
       "      <td>1807-01-01 00:00:00</td>\n",
       "      <td>54.500000</td>\n",
       "      <td>35.200000</td>\n",
       "      <td>[35.2, 54.5]</td>\n",
       "    </tr>\n",
       "    <tr>\n",
       "      <th>997</th>\n",
       "      <td>Tjabe</td>\n",
       "      <td>24011</td>\n",
       "      <td>Valid</td>\n",
       "      <td>H6</td>\n",
       "      <td>20000</td>\n",
       "      <td>Fell</td>\n",
       "      <td>1869-01-01 00:00:00</td>\n",
       "      <td>-7.083330</td>\n",
       "      <td>111.533330</td>\n",
       "      <td>[111.53333, -7.08333]</td>\n",
       "    </tr>\n",
       "    <tr>\n",
       "      <th>998</th>\n",
       "      <td>Tjerebon</td>\n",
       "      <td>24012</td>\n",
       "      <td>Valid</td>\n",
       "      <td>L5</td>\n",
       "      <td>16500</td>\n",
       "      <td>Fell</td>\n",
       "      <td>1922-01-01 00:00:00</td>\n",
       "      <td>-6.666670</td>\n",
       "      <td>106.583330</td>\n",
       "      <td>[106.58333, -6.66667]</td>\n",
       "    </tr>\n",
       "  </tbody>\n",
       "</table>\n",
       "<p>243 rows × 10 columns</p>\n",
       "</div>"
      ],
      "text/plain": [
       "           name     id nametype   recclass    mass  fall                 year  \\\n",
       "2          Abee      6    Valid        EH4  107000  Fell  1952-01-01 00:00:00   \n",
       "7          Agen    392    Valid         H5   30000  Fell  1814-01-01 00:00:00   \n",
       "11          Aïr    424    Valid         L6   24000  Fell  1925-01-01 00:00:00   \n",
       "16      Akyumak    433    Valid  Iron, IVA   50000  Fell  1981-01-01 00:00:00   \n",
       "27   Alfianello    466    Valid         L6  228000  Fell  1883-01-01 00:00:00   \n",
       "..          ...    ...      ...        ...     ...   ...                  ...   \n",
       "991   Tieschitz  23989    Valid     H/L3.6   28000  Fell  1878-01-01 00:00:00   \n",
       "992      Tilden  23998    Valid         L6   74800  Fell  1927-01-01 00:00:00   \n",
       "994    Timochin  24004    Valid         H5   65500  Fell  1807-01-01 00:00:00   \n",
       "997       Tjabe  24011    Valid         H6   20000  Fell  1869-01-01 00:00:00   \n",
       "998    Tjerebon  24012    Valid         L5   16500  Fell  1922-01-01 00:00:00   \n",
       "\n",
       "        reclat      reclong      point_coordinates  \n",
       "2    54.216670  -113.000000       [-113, 54.21667]  \n",
       "7    44.216670     0.616670    [0.61667, 44.21667]  \n",
       "11   19.083330     8.383330    [8.38333, 19.08333]  \n",
       "16   39.916670    42.816670   [42.81667, 39.91667]  \n",
       "27   45.266670    10.150000      [10.15, 45.26667]  \n",
       "..         ...          ...                    ...  \n",
       "991  49.600000    17.116670       [17.11667, 49.6]  \n",
       "992  38.200000   -89.683330      [-89.68333, 38.2]  \n",
       "994  54.500000    35.200000           [35.2, 54.5]  \n",
       "997  -7.083330   111.533330  [111.53333, -7.08333]  \n",
       "998  -6.666670   106.583330  [106.58333, -6.66667]  \n",
       "\n",
       "[243 rows x 10 columns]"
      ]
     },
     "execution_count": 30,
     "metadata": {},
     "output_type": "execute_result"
    }
   ],
   "source": [
    "mass_more_10000"
   ]
  },
  {
   "cell_type": "markdown",
   "id": "1b79dda2",
   "metadata": {},
   "source": [
    "#Question 8 -\n",
    "Using the data from Question 5, write code the analyze the data and answer the following questions Note -\n",
    "1. Draw plots to demonstrate the analysis for the following questions and better visualizations\n",
    "2. Write code comments wherever required for code understanding\n",
    "Insights to be drawn -\n",
    "\n",
    "● Get all the overall ratings for each season and using plots compare the ratings for all the\n",
    "seasons, like season 1 ratings, season 2, and so on.\n",
    "\n",
    "● Get all the episode names, whose average rating is more than 8 for every season\n",
    "\n",
    "● Get all the episode names that aired before May 2019\n",
    "\n",
    "● Get the episode name from each season with the highest and lowest rating\n",
    "\n",
    "● Get the summary for the most popular ( ratings ) episode in every season"
   ]
  },
  {
   "cell_type": "code",
   "execution_count": 31,
   "id": "13829a5c",
   "metadata": {},
   "outputs": [],
   "source": [
    "from datetime import datetime\n",
    "url = \"http://api.tvmaze.com/singlesearch/shows?q=westworld&embed=episodes\"\n",
    "df = json_data_for(url)"
   ]
  },
  {
   "cell_type": "code",
   "execution_count": 32,
   "id": "8fb6ab82",
   "metadata": {},
   "outputs": [],
   "source": [
    "#Q1.Get all the overall ratings for each season and using plots compare the ratings for all the seasons,\n",
    "#like season 1 ratings, season 2, and so on.\n",
    "\n",
    "def season_rating(df):\n",
    "    rating = {}\n",
    "    for val in list(set(df[\"season\"])) :\n",
    "        lis = df[df[\"season\"] == val][\"average_rating\"]\n",
    "        total_rating = sum(lis)/lis.count()\n",
    "        rating[val] = int(total_rating)\n",
    "    return rating\n"
   ]
  },
  {
   "cell_type": "code",
   "execution_count": 33,
   "id": "f5818b1a",
   "metadata": {},
   "outputs": [
    {
     "name": "stdout",
     "output_type": "stream",
     "text": [
      "Ratings of all the seasons are  {1: 8, 2: 8, 3: 7, 4: 7}\n"
     ]
    },
    {
     "data": {
      "text/plain": [
       "[]"
      ]
     },
     "execution_count": 33,
     "metadata": {},
     "output_type": "execute_result"
    },
    {
     "data": {
      "image/png": "[encoded data removed]",
      "text/plain": [
       "<Figure size 432x288 with 1 Axes>"
      ]
     },
     "metadata": {
      "needs_background": "light"
     },
     "output_type": "display_data"
    }
   ],
   "source": [
    "ratings = season_rating(df)\n",
    "print(\"Ratings of all the seasons are \",ratings)\n",
    "\n",
    "plt.xlabel(\"Seasons \")\n",
    "plt.ylabel(\"Ratings\")\n",
    "plt.title(\"Seasons vs Ratings \")\n",
    "\n",
    "sns.barplot(y = list(ratings.values()), x= list(ratings.keys()))\n",
    "plt.plot()"
   ]
  },
  {
   "cell_type": "code",
   "execution_count": 34,
   "id": "f012bca0",
   "metadata": {},
   "outputs": [
    {
     "name": "stdout",
     "output_type": "stream",
     "text": [
      "[\"Trompe L'Oeil\", 'The Well-Tempered Clavier', 'The Bicameral Mind', 'Kiksuya', 'Vanishing Point', 'The Passenger']\n"
     ]
    }
   ],
   "source": [
    "# Get all the episode names, whose average rating is more than 8 for every season\n",
    "def episode_name(df):\n",
    "    list_names =[]\n",
    "    df_new = df[df[\"average_rating\"] >8]\n",
    "    list_names = df_new[\"name\"]\n",
    "    return (list_names)\n",
    "\n",
    "episode_name_list = episode_name(df)\n",
    "print(list(episode_name_list))\n",
    "    "
   ]
  },
  {
   "cell_type": "code",
   "execution_count": 35,
   "id": "3c5a96a0",
   "metadata": {},
   "outputs": [
    {
     "name": "stdout",
     "output_type": "stream",
     "text": [
      "['The Original', 'Chestnut', 'The Stray', 'Dissonance Theory', 'Contrapasso', 'The Adversary', \"Trompe L'Oeil\", 'Trace Decay', 'The Well-Tempered Clavier', 'The Bicameral Mind', 'Journey Into Night', 'Reunion', 'Virtù e Fortuna', 'The Riddle of the Sphinx', 'Akane No Mai', 'Phase Space', 'Les Écorchés', 'Kiksuya', 'Vanishing Point', 'The Passenger']\n"
     ]
    }
   ],
   "source": [
    "#Get all the episode names that aired before May 2019\n",
    "def episode_name_before_may_2019(df):\n",
    "    list_episodes = []\n",
    "    dat_str ='2019-05-31'\n",
    "    dat = datetime.strptime(dat_str,'%Y-%m-%d')\n",
    "    dat_n = datetime.date(dat)\n",
    "    for i in range ( df.shape[0]):\n",
    "        airdate = pd.to_datetime(df.airdate.iloc[i]).date()\n",
    "        if(airdate < dat_n):\n",
    "            list_episodes.append(df[\"name\"].iloc[i])\n",
    "    return (list_episodes)\n",
    "        \n",
    "            \n",
    "episode_before_2019 = episode_name_before_may_2019(df)\n",
    "print(episode_before_2019)"
   ]
  },
  {
   "cell_type": "code",
   "execution_count": 36,
   "id": "d9cac82a",
   "metadata": {},
   "outputs": [],
   "source": [
    "#Get the episode name from each season with the highest and lowest rating\n",
    "\n",
    "def episode_max_min(df):\n",
    "    list_of_seasons = list(set(df[\"season\"]))\n",
    "    dic_rating = {}\n",
    "    for val in list_of_seasons:\n",
    "        df_new = df[df[\"season\"] == val]\n",
    "        df_new = df_new.sort_values(by=\"average_rating\")\n",
    "        dic = {\"min_rating\":df_new[\"name\"].iloc[0],\"max_rating\" :df_new[\"name\"].iloc[-1] }\n",
    "        s = \"season\" + str(val)\n",
    "        dic_rating[s] = dic \n",
    "    return dic_rating"
   ]
  },
  {
   "cell_type": "code",
   "execution_count": 37,
   "id": "da837a0f",
   "metadata": {},
   "outputs": [
    {
     "name": "stdout",
     "output_type": "stream",
     "text": [
      "{'season1': {'min_rating': 'The Stray', 'max_rating': 'The Bicameral Mind'}, 'season2': {'min_rating': 'Akane No Mai', 'max_rating': 'Kiksuya'}, 'season3': {'min_rating': 'Decoherence', 'max_rating': 'The Mother of Exiles'}, 'season4': {'min_rating': 'The Auguries', 'max_rating': 'Zhuangzi'}}\n"
     ]
    }
   ],
   "source": [
    "ratings = episode_max_min(df)\n",
    "print(ratings)"
   ]
  },
  {
   "cell_type": "code",
   "execution_count": 38,
   "id": "3865ade6",
   "metadata": {},
   "outputs": [],
   "source": [
    "#Get the summary for the most popular ( ratings ) episode in every season\n",
    "def episode_popular(df):\n",
    "    list_of_seasons = list(set(df[\"season\"]))\n",
    "    dic_rating = {}\n",
    "    for val in list_of_seasons:\n",
    "        df_new = df[df[\"season\"] == val]\n",
    "        df_new = df_new.sort_values(by=\"average_rating\")\n",
    "        s = \"season\" + str(val)\n",
    "        dic_rating[s] = df_new[\"summary\"].iloc[-1] \n",
    "    return dic_rating"
   ]
  },
  {
   "cell_type": "code",
   "execution_count": 39,
   "id": "7a39d8d4",
   "metadata": {},
   "outputs": [
    {
     "name": "stdout",
     "output_type": "stream",
     "text": [
      "{'season1': \"Delores finds out the truth about William's fate. Meanwhile, Maeve organizes an escape plan, only to discover that someone else is pulling the strings. And Robert plays the final piece in his grand narrative.\", 'season2': \"Another of Westworld's Host revolutionaries is revealed. Meanwhile, Emily finds the Man and convinces the Ghost Nation to hand him over to her to ensure his suffering.\", 'season3': \"The truth doesn't always set you free.\", 'season4': 'God is bored.'}\n"
     ]
    }
   ],
   "source": [
    "popular_summary_rating = episode_popular(df)\n",
    "print(popular_summary_rating)"
   ]
  },
  {
   "cell_type": "markdown",
   "id": "d846a7ea",
   "metadata": {},
   "source": [
    "Question 9 -\n",
    "Write a program to read the data from the following link, perform data analysis and answer the following\n",
    "questions\n",
    "Note -\n",
    "\n",
    "1. Write code comments wherever required for code understanding\n",
    "Link - https://data.wa.gov/api/views/f6w7-q2d2/rows.csv?accessType=DOWNLOAD\n",
    "Insights to be drawn -\n",
    "\n",
    "● Get all the cars and their types that do not qualify for clean alternative fuel vehicle\n",
    "\n",
    "● Get all TESLA cars with the model year, and model type made in Bothell City.\n",
    "\n",
    "● Get all the cars that have an electric range of more than 100, and were made after 2015\n",
    "\n",
    "● Draw plots to show the distribution between city and electric vehicle type"
   ]
  },
  {
   "cell_type": "code",
   "execution_count": 40,
   "id": "e476fecd",
   "metadata": {},
   "outputs": [],
   "source": [
    "import pandas as pd\n",
    "#loading the data\n",
    "url = \"https://data.wa.gov/api/views/f6w7-q2d2/rows.csv?accessType=DOWNLOAD\"\n",
    "data = pd.read_csv(url)"
   ]
  },
  {
   "cell_type": "code",
   "execution_count": 41,
   "id": "79a401e5",
   "metadata": {},
   "outputs": [
    {
     "data": {
      "text/plain": [
       "(69892, 17)"
      ]
     },
     "execution_count": 41,
     "metadata": {},
     "output_type": "execute_result"
    }
   ],
   "source": [
    "# Get all the cars and their types that do not qualify for clean alternative fuel vehicle\n",
    "def clean_alternative_fuel_vechicle(data):\n",
    "    df = data[data[\"Clean Alternative Fuel Vehicle (CAFV) Eligibility\"] != \"Clean Alternative Fuel Vehicle Eligible\" ]\n",
    "    return df\n",
    "clean_fuel_vechicle = clean_alternative_fuel_vechicle(data)\n",
    "clean_fuel_vechicle.shape"
   ]
  },
  {
   "cell_type": "code",
   "execution_count": 42,
   "id": "4b0536f1",
   "metadata": {},
   "outputs": [
    {
     "data": {
      "text/plain": [
       "(2407, 17)"
      ]
     },
     "execution_count": 42,
     "metadata": {},
     "output_type": "execute_result"
    }
   ],
   "source": [
    "# Get all TESLA cars with the model year, and model type made in Bothell City.\n",
    "def tesla_bothell_car(data):\n",
    "    return(data[(data[\"City\"] == 'Bothell') & (data[\"Make\"] == \"TESLA\") ])\n",
    "\n",
    "cars = tesla_bothell_car(data)\n",
    "cars.shape"
   ]
  },
  {
   "cell_type": "code",
   "execution_count": 43,
   "id": "a17f2721",
   "metadata": {},
   "outputs": [
    {
     "data": {
      "text/plain": [
       "(34066, 17)"
      ]
     },
     "execution_count": 43,
     "metadata": {},
     "output_type": "execute_result"
    }
   ],
   "source": [
    "#  Get all the cars that have an electric range of more than 100, and were made after 2015\n",
    "def car_range(data):\n",
    "    df = data[(data[\"Electric Range\"] >100) & (  ((data[\"Model Year\"]).astype(int))  >2015)]\n",
    "    return df\n",
    "new_range_car =  car_range(data)\n",
    "new_range_car.shape\n",
    "    "
   ]
  },
  {
   "cell_type": "code",
   "execution_count": 44,
   "id": "c96e122b",
   "metadata": {},
   "outputs": [],
   "source": [
    "#Draw plots to show the distribution between city and electric vehicle type"
   ]
  },
  {
   "cell_type": "code",
   "execution_count": 45,
   "id": "60f0fcc0",
   "metadata": {},
   "outputs": [],
   "source": [
    "import seaborn as sns\n",
    "import matplotlib.pyplot as plt\n",
    "%matplotlib inline"
   ]
  },
  {
   "cell_type": "code",
   "execution_count": 46,
   "id": "90178d0a",
   "metadata": {},
   "outputs": [
    {
     "data": {
      "text/plain": [
       "[]"
      ]
     },
     "execution_count": 46,
     "metadata": {},
     "output_type": "execute_result"
    },
    {
     "data": {
      "text/plain": [
       "<Figure size 1440x1440 with 0 Axes>"
      ]
     },
     "metadata": {},
     "output_type": "display_data"
    },
    {
     "data": {
      "image/png": "[encoded data removed]",
      "text/plain": [
       "<Figure size 583.5x360 with 1 Axes>"
      ]
     },
     "metadata": {
      "needs_background": "light"
     },
     "output_type": "display_data"
    }
   ],
   "source": [
    "df = data.fillna(0)\n",
    "plt.figure(figsize=(20, 20))\n",
    "sns.catplot(data = df , x=\"City\",kind=\"count\",hue = \"Electric Vehicle Type\")\n",
    "\n",
    "plt.plot()\n"
   ]
  },
  {
   "cell_type": "markdown",
   "id": "6bbc3ccf",
   "metadata": {},
   "source": [
    "Question 10 -\n",
    "Write a program to count the number of verbs, nouns, pronouns, and adjectives in a given particular phrase or\n",
    "paragraph, and return their respective count as a dictionary.\n",
    "Note -\n",
    "\n",
    "1. Write code comments wherever required for code\n",
    "\n",
    "2. You have to write at least 2 additional test cases in which your program will run successfully and providean explanation for the same.\n",
    "Example Output "
   ]
  },
  {
   "cell_type": "code",
   "execution_count": 47,
   "id": "a7ab0bd4",
   "metadata": {},
   "outputs": [],
   "source": [
    "import nltk\n",
    "def word_parsing(lines):\n",
    "    \n",
    "    is_noun = lambda pos: pos[:2] == 'NN'\n",
    "    is_verb = lambda pos: pos[:2] == 'VB'\n",
    "    is_pronouns = lambda pos: pos[:3] == 'PRP'\n",
    "    is_adjective = lambda pos: pos[:2] == 'JJ'\n",
    "    tokenized = nltk.word_tokenize(lines)\n",
    "    dic = {}\n",
    "    dic[\"nouns\"] = len([word for (word, pos) in nltk.pos_tag(tokenized) if is_noun(pos)])\n",
    "    dic[\"verb\"] =  len([word for (word, pos) in nltk.pos_tag(tokenized) if is_verb(pos)])\n",
    "    dic[\"adjective\"] = len([word for (word, pos) in nltk.pos_tag(tokenized) if is_adjective(pos)])\n",
    "    dic[\"pronoun\"] = len([word for (word, pos) in nltk.pos_tag(tokenized) if is_pronouns(pos)])\n",
    "    return dic"
   ]
  },
  {
   "cell_type": "code",
   "execution_count": 48,
   "id": "bb81ffe5",
   "metadata": {},
   "outputs": [
    {
     "name": "stdout",
     "output_type": "stream",
     "text": [
      "For first sentence {'nouns': 3, 'verb': 2, 'adjective': 2, 'pronoun': 1}\n",
      "For second sentence {'nouns': 17, 'verb': 2, 'adjective': 2, 'pronoun': 0}\n",
      "For third sentence {'nouns': 9, 'verb': 6, 'adjective': 4, 'pronoun': 1}\n"
     ]
    }
   ],
   "source": [
    "line_1 = 'Ram is a good boy. He is the smart boy.'\n",
    "line_2 = \"In Japan, people of all ages and walks of life read manga. The medium includes works in a broad range of genres: action, adventure, business and commerce, comedy, detective, drama, historical\"\n",
    "line_3 = \"A mango is an edible stone fruit produced by the tropical tree Mangifera indica. It is believed to have originated in southern Asia, particularly in eastern India, Bangladesh, \"\n",
    "\n",
    "dic = word_parsing(line_1)\n",
    "print(\"For first sentence\",dic)\n",
    "\n",
    "dic = word_parsing(line_2)\n",
    "print(\"For second sentence\",dic)\n",
    "\n",
    "dic = word_parsing(line_3)\n",
    "print(\"For third sentence\",dic)"
   ]
  },
  {
   "cell_type": "code",
   "execution_count": null,
   "id": "5ca7f199",
   "metadata": {},
   "outputs": [],
   "source": []
  },
  {
   "cell_type": "code",
   "execution_count": null,
   "id": "18d02721",
   "metadata": {},
   "outputs": [],
   "source": []
  },
  {
   "cell_type": "code",
   "execution_count": null,
   "id": "7272bf9b",
   "metadata": {},
   "outputs": [],
   "source": []
  }
 ],
 "metadata": {
  "kernelspec": {
   "display_name": "Python 3 (ipykernel)",
   "language": "python",
   "name": "python3"
  },
  "language_info": {
   "codemirror_mode": {
    "name": "ipython",
    "version": 3
   },
   "file_extension": ".py",
   "mimetype": "text/x-python",
   "name": "python",
   "nbconvert_exporter": "python",
   "pygments_lexer": "ipython3",
   "version": "3.9.12"
  }
 },
 "nbformat": 4,
 "nbformat_minor": 5
}
