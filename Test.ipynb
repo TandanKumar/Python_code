{
 "cells": [
  {
   "cell_type": "markdown",
   "id": "fe43334b",
   "metadata": {},
   "source": [
    "# 1.Given an integer array nums, move all 0's to the end of it while maintaining the relative order of the non-zero elements.\n",
    "\n",
    "Note that you must do this in-place without making a copy of the array.\n",
    "\n",
    "Example 1:\n",
    "Input: nums = [0,1,0,3,12]\n",
    "Output: [1,3,12,0,0]\n",
    "\n",
    "Example 2:\n",
    "Input: nums = [0]\n",
    "Output: [0]\n",
    "\n",
    "Constraints:\n",
    "a. 1 <= nums.length <= 10^4\n",
    "b. -2^31 <= nums[i] <= 2^31 - 1\n"
   ]
  },
  {
   "cell_type": "code",
   "execution_count": 3,
   "id": "ad9b98c4",
   "metadata": {},
   "outputs": [
    {
     "name": "stdout",
     "output_type": "stream",
     "text": [
      "[1, 3, 12, 0, 0]\n"
     ]
    }
   ],
   "source": [
    "class solution1:\n",
    "    def __init__(self):\n",
    "        pass\n",
    "    def order_zero(self,array):\n",
    "        '''\n",
    "            This function will take the array of elements containg 0 and return the array with zeroes in the last and \n",
    "            element in the first in same order\n",
    "            :type array: list[int]\n",
    "            :rtye : list[int]\n",
    "        '''\n",
    "        try:\n",
    "            counter=0\n",
    "            for i in range(len(array)):\n",
    "                if(array[i] != 0):\n",
    "                    array[counter] = array[i]\n",
    "                    counter+=1\n",
    "            while(counter < len(array)):\n",
    "                array[counter] = 0\n",
    "                counter+=1\n",
    "            return array\n",
    "            \n",
    "        except Exception as e:\n",
    "            print(\"error has occure \",e)\n",
    "\n",
    "sol = solution1()\n",
    "nums = [0,1,0,3,12]\n",
    "print(sol.order_zero(nums))"
   ]
  },
  {
   "cell_type": "markdown",
   "id": "443b644e",
   "metadata": {},
   "source": [
    "# 2.Given a string s, find the first non-repeating character in it and return its index. If it does not exist, return -1.\n",
    "\n",
    "Example 1:\n",
    "Input: s = \"leetcode\"\n",
    "Output: 0\n",
    "\n",
    "Example 2:\n",
    "Input: s = \"loveleetcode\"\n",
    "Output: 2\n",
    "\n",
    "Example 3:\n",
    "Input: s = \"aabb\"\n",
    "Output: -1\n",
    "\n",
    "Constraints:\n",
    "a. 1 <= s.length <= 10^5\n",
    "b. s consists of only lowercase English letters."
   ]
  },
  {
   "cell_type": "code",
   "execution_count": 19,
   "id": "045ac536",
   "metadata": {},
   "outputs": [
    {
     "name": "stdout",
     "output_type": "stream",
     "text": [
      "0\n"
     ]
    }
   ],
   "source": [
    "from collections import Counter\n",
    "class solution2:\n",
    "    def __init__(self):\n",
    "        pass\n",
    "    def non_repeat(self,s):\n",
    "        '''\n",
    "           This function will take the input of a string and return the first pos whose of char whose count is 0\n",
    "           :type s :string[int]\n",
    "           :rtype = int\n",
    "        \n",
    "        '''\n",
    "        try:\n",
    "            counter = Counter(s)\n",
    "            if(min(counter.values()) >1):\n",
    "                return -1\n",
    "            index =0\n",
    "            for val in counter.items():\n",
    "                if((val[1] ==1)):\n",
    "                    break\n",
    "                index+=1\n",
    "            return(index)\n",
    "            \n",
    "        except Exception as e:\n",
    "            print(\"error has occure \",e)\n",
    "\n",
    "sol = solution2()\n",
    "s = \"leetcode\"\n",
    "print(sol.non_repeat(s))"
   ]
  },
  {
   "cell_type": "code",
   "execution_count": null,
   "id": "72590b83",
   "metadata": {},
   "outputs": [],
   "source": []
  },
  {
   "cell_type": "code",
   "execution_count": null,
   "id": "a7fca778",
   "metadata": {},
   "outputs": [],
   "source": []
  },
  {
   "cell_type": "code",
   "execution_count": null,
   "id": "fdecc85c",
   "metadata": {},
   "outputs": [],
   "source": []
  },
  {
   "cell_type": "code",
   "execution_count": null,
   "id": "b08dcc62",
   "metadata": {},
   "outputs": [],
   "source": []
  }
 ],
 "metadata": {
  "kernelspec": {
   "display_name": "Python 3 (ipykernel)",
   "language": "python",
   "name": "python3"
  },
  "language_info": {
   "codemirror_mode": {
    "name": "ipython",
    "version": 3
   },
   "file_extension": ".py",
   "mimetype": "text/x-python",
   "name": "python",
   "nbconvert_exporter": "python",
   "pygments_lexer": "ipython3",
   "version": "3.7.16"
  }
 },
 "nbformat": 4,
 "nbformat_minor": 5
}
