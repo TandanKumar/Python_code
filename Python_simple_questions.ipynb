{
 "cells": [
  {
   "cell_type": "markdown",
   "id": "a2ebf830",
   "metadata": {},
   "source": [
    " 1. Write a Python program to reverse a string without using any built-in string reversal functions."
   ]
  },
  {
   "cell_type": "code",
   "execution_count": 1,
   "id": "5a68c4dc",
   "metadata": {},
   "outputs": [
    {
     "name": "stdout",
     "output_type": "stream",
     "text": [
      "olleh\n"
     ]
    }
   ],
   "source": [
    "def reversed_string(string):\n",
    "    length_string = len(string)\n",
    "    reversed_string =''\n",
    "    for i in range(1,length_string+1):\n",
    "        reversed_string = reversed_string + string[-i]\n",
    "    return reversed_string\n",
    "string = \"hello\"\n",
    "print(reversed_string(string))"
   ]
  },
  {
   "cell_type": "markdown",
   "id": "a8714ec3",
   "metadata": {},
   "source": [
    "2. Implement a function to check if a given string is a palindrome."
   ]
  },
  {
   "cell_type": "code",
   "execution_count": 4,
   "id": "0cbb0fa4",
   "metadata": {},
   "outputs": [
    {
     "name": "stdout",
     "output_type": "stream",
     "text": [
      "given string is palindrome\n"
     ]
    }
   ],
   "source": [
    "def palindrome(string):\n",
    "    string = string.lower()\n",
    "    reversed_string = string[::-1]\n",
    "    if(string == reversed_string):\n",
    "        print(\"given string is palindrome\")\n",
    "    else:\n",
    "        print(\"Given string is not palindrome\")\n",
    "        \n",
    "string =\"Madam\"\n",
    "palindrome(string)\n",
    "\n"
   ]
  },
  {
   "cell_type": "markdown",
   "id": "efb4764c",
   "metadata": {},
   "source": [
    "3. Write a program to find the largest element in a given list."
   ]
  },
  {
   "cell_type": "code",
   "execution_count": 14,
   "id": "78880c1b",
   "metadata": {},
   "outputs": [
    {
     "name": "stdout",
     "output_type": "stream",
     "text": [
      "8\n"
     ]
    }
   ],
   "source": [
    "def largest_elem_list(lst)-> int:\n",
    "    #maximum_element = max(ele)\n",
    "    max_ele = float('-inf')\n",
    "    for ele in lst:\n",
    "        if(ele > max_ele):\n",
    "            max_ele = ele\n",
    "    return max_ele\n",
    "\n",
    "lst = [-1,3,4,5,6,8]\n",
    "print(largest_elem_list(lst))\n",
    "    "
   ]
  },
  {
   "cell_type": "markdown",
   "id": "4cfc746c",
   "metadata": {},
   "source": [
    "4. Implement a function to count the occurrence of each element in a list."
   ]
  },
  {
   "cell_type": "code",
   "execution_count": 29,
   "id": "1aa33a5c",
   "metadata": {},
   "outputs": [
    {
     "name": "stdout",
     "output_type": "stream",
     "text": [
      "{1: 2, 2: 2, 3: 2, 4: 1, 5: 1}\n"
     ]
    }
   ],
   "source": [
    "from collections import Counter\n",
    "def count_occurance(lst)->dict:\n",
    "    #counter = Counter(lst)\n",
    "    dic= {}\n",
    "    for ele in lst:\n",
    "        if(dic.get(ele)):\n",
    "            val = dic[ele]\n",
    "            dic[ele] = val+1\n",
    "        else:\n",
    "            dic[ele] = 1\n",
    "    return dic\n",
    "\n",
    "lst =[1,2,3,4,3,2,1,5]\n",
    "print(count_occurance(lst))\n",
    "            \n",
    "\n",
    "\n",
    "    \n",
    "    "
   ]
  },
  {
   "cell_type": "markdown",
   "id": "6147237e",
   "metadata": {},
   "source": [
    "5. Write a Python program to find the second largest number in a list."
   ]
  },
  {
   "cell_type": "code",
   "execution_count": 33,
   "id": "82922580",
   "metadata": {},
   "outputs": [
    {
     "name": "stdout",
     "output_type": "stream",
     "text": [
      "second largest element is 9\n"
     ]
    }
   ],
   "source": [
    "def second_maxm(lst)->int:\n",
    "    max_num = float('-inf')\n",
    "    sec_max = float('-inf')\n",
    "    for ele in lst:\n",
    "        if(ele > max_num):\n",
    "            max_num = ele\n",
    "        else: \n",
    "            if(ele > sec_max):\n",
    "                sec_max = ele\n",
    "    return sec_max\n",
    "\n",
    "lst = [1,22,3,4,5,4,3,2,3,4,5,6,7,8,9,0,9,1]\n",
    "print(f\"second largest element is {second_maxm(lst)}\")\n",
    "    "
   ]
  },
  {
   "cell_type": "markdown",
   "id": "0ea26e7f",
   "metadata": {},
   "source": [
    "6. Implement a function to remove duplicate elements from a list."
   ]
  },
  {
   "cell_type": "code",
   "execution_count": 37,
   "id": "db751673",
   "metadata": {},
   "outputs": [
    {
     "name": "stdout",
     "output_type": "stream",
     "text": [
      "After removing the duplicates list is {1, 2, 3, 4, 5, 6, 9}\n"
     ]
    }
   ],
   "source": [
    "def remove_dup_list(lst)->list:\n",
    "    unique_list = set(lst)\n",
    "    return unique_list\n",
    "\n",
    "lst =[1,1,2,3,4,5,6,5,4,4,3,2,9]\n",
    "print(f\"After removing the duplicates list is {remove_dup_list(lst)}\")\n",
    "    \n",
    "    "
   ]
  },
  {
   "cell_type": "markdown",
   "id": "23d57a62",
   "metadata": {},
   "source": [
    "7. Write a program to calculate the factorial of a given number."
   ]
  },
  {
   "cell_type": "code",
   "execution_count": 42,
   "id": "1a252974",
   "metadata": {},
   "outputs": [
    {
     "name": "stdout",
     "output_type": "stream",
     "text": [
      "Factorial of the given number is 120\n"
     ]
    }
   ],
   "source": [
    "def factorial(n)->int:\n",
    "    if(n==0 or n==1):\n",
    "        return n\n",
    "    return (n * factorial(n-1))\n",
    "\n",
    "num = 5\n",
    "print(f\"Factorial of the given number is {factorial(num)}\")"
   ]
  },
  {
   "cell_type": "markdown",
   "id": "edbf0819",
   "metadata": {},
   "source": [
    "8. Implement a function to check if a given number is prime."
   ]
  },
  {
   "cell_type": "code",
   "execution_count": 43,
   "id": "b3c35213",
   "metadata": {},
   "outputs": [
    {
     "name": "stdout",
     "output_type": "stream",
     "text": [
      "Given number is Prime\n"
     ]
    }
   ],
   "source": [
    "def is_prime(n):\n",
    "    if(n%2 ==0):\n",
    "        return \"Prime\"\n",
    "    else:\n",
    "        return \"Not Prime\"\n",
    "    \n",
    "n=10\n",
    "print(f\"Given number is {is_prime(n)}\")\n",
    "    "
   ]
  },
  {
   "cell_type": "markdown",
   "id": "9f992fae",
   "metadata": {},
   "source": [
    "9. Write a Python program to sort a list of integers in ascending order."
   ]
  },
  {
   "cell_type": "code",
   "execution_count": 46,
   "id": "087a3ec9",
   "metadata": {},
   "outputs": [
    {
     "name": "stdout",
     "output_type": "stream",
     "text": [
      "sorted list is [1, 1, 2, 2, 3, 4, 4, 5]\n"
     ]
    }
   ],
   "source": [
    "def list_sort(lst)->list:\n",
    "    sorted_lst = sorted(lst)\n",
    "    return sorted_lst\n",
    "\n",
    "lst =[1,2,3,4,5,4,2,1]\n",
    "print(f\"sorted list is {list_sort(lst)}\")\n",
    "    "
   ]
  },
  {
   "cell_type": "markdown",
   "id": "bed5a846",
   "metadata": {},
   "source": [
    "10. Implement a function to find the sum of all numbers in a list."
   ]
  },
  {
   "cell_type": "code",
   "execution_count": 48,
   "id": "d8abb411",
   "metadata": {},
   "outputs": [
    {
     "name": "stdout",
     "output_type": "stream",
     "text": [
      "sum of ele in the list is 22 \n"
     ]
    }
   ],
   "source": [
    "def list_sum(list):\n",
    "    sum_list = 0\n",
    "    for ele in lst:\n",
    "        sum_list += ele\n",
    "    return sum_list\n",
    "\n",
    "\n",
    "lst =[1,2,3,4,5,4,2,1]\n",
    "print(f\"sum of ele in the list is {list_sum(lst)} \")\n"
   ]
  },
  {
   "cell_type": "markdown",
   "id": "77e3b529",
   "metadata": {},
   "source": [
    "11. Write a program to find the common elements between two lists."
   ]
  },
  {
   "cell_type": "code",
   "execution_count": 54,
   "id": "39647ae9",
   "metadata": {},
   "outputs": [
    {
     "name": "stdout",
     "output_type": "stream",
     "text": [
      "Common element list of the given list is [1, 2, 3, 4, 5, 4, 2]\n"
     ]
    }
   ],
   "source": [
    "def common_ele(lst1,lst2):\n",
    "    common_list = []\n",
    "    for ele in lst1:\n",
    "        if(ele in lst2):\n",
    "            common_list += [ele]\n",
    "            lst2.remove(ele)\n",
    "    return common_list\n",
    "\n",
    "\n",
    "lst1 =[1,2,3,4,5,4,2,1]\n",
    "lst2 = [1,2,3,2,3,4,5,6,7,8,4]\n",
    "\n",
    "print(f\"Common element list of the given list is {common_ele(lst1,lst2)}\")\n",
    "    \n",
    "    "
   ]
  },
  {
   "cell_type": "markdown",
   "id": "8cb9355c",
   "metadata": {},
   "source": [
    "12. Implement a function to check if a given string is an anagram of another string."
   ]
  },
  {
   "cell_type": "code",
   "execution_count": 64,
   "id": "6057e058",
   "metadata": {},
   "outputs": [
    {
     "name": "stdout",
     "output_type": "stream",
     "text": [
      "Given strings are Anagram\n"
     ]
    }
   ],
   "source": [
    "from collections import Counter\n",
    "def check_anagram(strings1, strings2):\n",
    "    counter_str1 = Counter(strings1.lower())\n",
    "    counter_str2 = Counter(strings2.lower())\n",
    "    if(counter_str1 == counter_str2):\n",
    "        return \"Anagram\"\n",
    "    else:\n",
    "        return \"not Anagram\"\n",
    "    \n",
    "string1 = \"panle\"\n",
    "string2 = \"Plane\"\n",
    "\n",
    "print(f\"Given strings are {check_anagram(string1,string2)}\")\n",
    "    \n",
    "    "
   ]
  },
  {
   "cell_type": "markdown",
   "id": "3ae693bc",
   "metadata": {},
   "source": [
    "13. Write a Python program to generate all permutations of a given string."
   ]
  },
  {
   "cell_type": "code",
   "execution_count": 88,
   "id": "84377516",
   "metadata": {},
   "outputs": [
    {
     "name": "stdout",
     "output_type": "stream",
     "text": [
      "permutation of the given string is ['ABC', 'ACB', 'BAC', 'BCA', 'CAB', 'CBA']\n"
     ]
    }
   ],
   "source": [
    "def perm_string(string):\n",
    "    if(len(string) ==0 or len(string)==1):\n",
    "        return string\n",
    "    \n",
    "    return_list =[]\n",
    "    for i in range(len(string)):\n",
    "        ch = string[i]\n",
    "        remaiing_char = string[0:i] + string[i+1:]\n",
    "        val = perm_string(remaiing_char)\n",
    "        for ele in val:\n",
    "            new_val = ch+ele\n",
    "            return_list.append(new_val)\n",
    "    return return_list\n",
    "        \n",
    "        \n",
    "string = \"ABC\"\n",
    "print(f\"permutation of the given string is {perm_string(string)}\")\n",
    "    "
   ]
  },
  {
   "cell_type": "markdown",
   "id": "eefa8521",
   "metadata": {},
   "source": [
    "14. Implement a function to calculate the Fibonacci sequence up to a given number of terms."
   ]
  },
  {
   "cell_type": "code",
   "execution_count": 103,
   "id": "f7cb3da4",
   "metadata": {},
   "outputs": [
    {
     "name": "stdout",
     "output_type": "stream",
     "text": [
      "fibonachi series upto 5 is [0, 1, 1, 2, 3]\n"
     ]
    }
   ],
   "source": [
    "def fibo(n):\n",
    "    x,y = 0,1\n",
    "    return_list =[]\n",
    "    for i in range(n):\n",
    "        return_list.append(x)\n",
    "        x,y = y,x+y\n",
    "    return return_list\n",
    "        \n",
    "    \n",
    "        \n",
    "n=5\n",
    "print(f\"fibonachi series upto {n} is {fibo(n)}\")\n",
    "        \n",
    "        \n",
    "    "
   ]
  },
  {
   "cell_type": "code",
   "execution_count": null,
   "id": "e26d268f",
   "metadata": {},
   "outputs": [],
   "source": []
  },
  {
   "cell_type": "markdown",
   "id": "59995cc0",
   "metadata": {},
   "source": [
    "15. Write a program to find the median of a list of numbers."
   ]
  },
  {
   "cell_type": "code",
   "execution_count": 109,
   "id": "cf843397",
   "metadata": {},
   "outputs": [
    {
     "name": "stdout",
     "output_type": "stream",
     "text": [
      "Median of the given list is 4.5\n"
     ]
    }
   ],
   "source": [
    "def median_list(lst):\n",
    "    n = len(lst)\n",
    "    if(n%2 ==0):\n",
    "        median_value = (lst[n//2] + lst[n//2 -1])/2\n",
    "        return median_value\n",
    "    else:\n",
    "        median_value = lst[n//2]\n",
    "        return median_value\n",
    "    \n",
    "lst=[1,2,3,4,5,6,7,8]\n",
    "print(f\"Median of the given list is {median_list(lst)}\")"
   ]
  },
  {
   "cell_type": "markdown",
   "id": "726edd12",
   "metadata": {},
   "source": [
    "16. Implement a function to check if a given list is sorted in non-decreasing order"
   ]
  },
  {
   "cell_type": "code",
   "execution_count": 110,
   "id": "4be92907",
   "metadata": {},
   "outputs": [
    {
     "name": "stdout",
     "output_type": "stream",
     "text": [
      "Given list is in non-decreasing order\n"
     ]
    }
   ],
   "source": [
    "def check_incr(lst):\n",
    "    for i in range(len(lst)-1):\n",
    "        if(lst[i] > lst[i+1]):\n",
    "            return \"not non-decreasing order\"\n",
    "    return \"non-decreasing order\"\n",
    "\n",
    "lst=[1,2,3,4,5,6,7,8]\n",
    "print(f\"Given list is in {check_incr(lst)}\")"
   ]
  },
  {
   "cell_type": "markdown",
   "id": "89273d1a",
   "metadata": {},
   "source": [
    "17. Write a Python program to find the intersection of two lists."
   ]
  },
  {
   "cell_type": "code",
   "execution_count": 113,
   "id": "4ed96127",
   "metadata": {},
   "outputs": [
    {
     "name": "stdout",
     "output_type": "stream",
     "text": [
      "Intersection of two list  is [1, 2, 3, 4, 5]\n"
     ]
    }
   ],
   "source": [
    "def Intersection_list(lst1,lst2):\n",
    "    inter_list = []\n",
    "    for ele in lst1:\n",
    "        if(ele in lst2):\n",
    "            inter_list += [ele]\n",
    "            lst2.remove(ele)\n",
    "    return list(set(inter_list))\n",
    "\n",
    "\n",
    "lst1 =[1,2,3,4,5,4,2,1]\n",
    "lst2 = [1,2,3,2,3,4,5,6,7,8,4]\n",
    "\n",
    "print(f\"Intersection of two list  is {Intersection_list(lst1,lst2)}\")\n",
    "    "
   ]
  },
  {
   "cell_type": "markdown",
   "id": "1cdb76b3",
   "metadata": {},
   "source": [
    "18. Implement a function to find the maximum subarray sum in a given list."
   ]
  },
  {
   "cell_type": "code",
   "execution_count": 114,
   "id": "fb60b478",
   "metadata": {},
   "outputs": [
    {
     "name": "stdout",
     "output_type": "stream",
     "text": [
      "sum of the maximum subarray of the list  is 22 \n"
     ]
    }
   ],
   "source": [
    "def max_subarray_sum(list):\n",
    "    sum_list = 0\n",
    "    for ele in lst:\n",
    "        sum_list += ele\n",
    "    return sum_list\n",
    "\n",
    "\n",
    "lst =[1,2,3,4,5,4,2,1]\n",
    "print(f\"sum of the maximum subarray of the list  is {max_subarray_sum(lst)} \")"
   ]
  },
  {
   "cell_type": "markdown",
   "id": "8038f5b4",
   "metadata": {},
   "source": [
    "19. Write a program to remove all vowels from a given string."
   ]
  },
  {
   "cell_type": "code",
   "execution_count": 116,
   "id": "d183d076",
   "metadata": {},
   "outputs": [
    {
     "name": "stdout",
     "output_type": "stream",
     "text": [
      "After removing the vowels from the string is Clsss\n"
     ]
    }
   ],
   "source": [
    "def remove_vowels(string):\n",
    "    lst =['a','e','i','o','u','A','E','I','O','U']\n",
    "    return_string =''\n",
    "    for ele in string:\n",
    "        if(ele not in lst):\n",
    "            return_string += ele\n",
    "            \n",
    "    return return_string\n",
    "\n",
    "string = \"Classes\"\n",
    "print(f\"After removing the vowels from the string is {remove_vowels(string)}\")"
   ]
  },
  {
   "cell_type": "markdown",
   "id": "21ad7951",
   "metadata": {},
   "source": [
    "20. Implement a function to reverse the order of words in a given sentence."
   ]
  },
  {
   "cell_type": "code",
   "execution_count": 117,
   "id": "7a1bf4ac",
   "metadata": {},
   "outputs": [
    {
     "name": "stdout",
     "output_type": "stream",
     "text": [
      "Reversed sentence is program python a is This\n"
     ]
    }
   ],
   "source": [
    "def sen_reversal(sen):\n",
    "    lst = sen.split(\" \")\n",
    "    new_lst =[]\n",
    "    for i in range(1,len(lst)+1):\n",
    "        new_lst.append(lst[-i])\n",
    "    reversed_sen = \" \".join(new_lst)\n",
    "    return reversed_sen\n",
    "\n",
    "sen = \"This is a python program\"\n",
    "print(f\"Reversed sentence is {sen_reversal(sen)}\")\n",
    "\n",
    "    "
   ]
  },
  {
   "cell_type": "markdown",
   "id": "5c7b16b3",
   "metadata": {},
   "source": [
    "21. Write a Python program to check if two strings are anagrams of each other."
   ]
  },
  {
   "cell_type": "code",
   "execution_count": 118,
   "id": "478eb8f0",
   "metadata": {},
   "outputs": [
    {
     "name": "stdout",
     "output_type": "stream",
     "text": [
      "Given strings are Anagram\n"
     ]
    }
   ],
   "source": [
    "from collections import Counter\n",
    "def check_anagram(strings1, strings2):\n",
    "    counter_str1 = Counter(strings1.lower())\n",
    "    counter_str2 = Counter(strings2.lower())\n",
    "    if(counter_str1 == counter_str2):\n",
    "        return \"Anagram\"\n",
    "    else:\n",
    "        return \"not Anagram\"\n",
    "    \n",
    "string1 = \"panle\"\n",
    "string2 = \"Plane\"\n",
    "\n",
    "print(f\"Given strings are {check_anagram(string1,string2)}\")\n",
    "    "
   ]
  },
  {
   "cell_type": "markdown",
   "id": "ae67214d",
   "metadata": {},
   "source": [
    "22. Implement a function to find the first non-repeating character in a string."
   ]
  },
  {
   "cell_type": "code",
   "execution_count": 122,
   "id": "94af24e5",
   "metadata": {},
   "outputs": [
    {
     "name": "stdout",
     "output_type": "stream",
     "text": [
      "D\n"
     ]
    }
   ],
   "source": [
    "def n_repeat_char(string):\n",
    "    copy_string = string\n",
    "    lst = list(string.lower())\n",
    "    for i in range(len(lst)):\n",
    "        if(lst.count(lst[i]) ==1):\n",
    "            return copy_string[i]\n",
    "    return \"not any non repeating char \"\n",
    "\n",
    "string= \"MADam\"\n",
    "print(n_repeat_char(string))"
   ]
  },
  {
   "cell_type": "markdown",
   "id": "bbcd7610",
   "metadata": {},
   "source": [
    "23. Write a program to find the prime factors of a given number."
   ]
  },
  {
   "cell_type": "code",
   "execution_count": 123,
   "id": "c6068575",
   "metadata": {},
   "outputs": [
    {
     "name": "stdout",
     "output_type": "stream",
     "text": [
      "Prime factor of given number 9 is [1, 3]\n"
     ]
    }
   ],
   "source": [
    "def prime_factor(n):\n",
    "    return_list =[]\n",
    "    for i in range(1,n//2):\n",
    "        if(n%i ==0):\n",
    "            return_list.append(i)\n",
    "    return return_list\n",
    "\n",
    "n= 9\n",
    "print(f\"Prime factor of given number {n} is {prime_factor(n)}\")"
   ]
  },
  {
   "cell_type": "markdown",
   "id": "8a5dadae",
   "metadata": {},
   "source": [
    "24. Implement a function to check if a given number is a power of two."
   ]
  },
  {
   "cell_type": "code",
   "execution_count": 131,
   "id": "d94f6a01",
   "metadata": {},
   "outputs": [
    {
     "name": "stdout",
     "output_type": "stream",
     "text": [
      "Given number is the  not power of 2\n"
     ]
    }
   ],
   "source": [
    "def pow_two(n):\n",
    "    if(n==2):\n",
    "        return \"power of 2\"\n",
    "    if(n%2 == 0):\n",
    "        return(pow_two(n/2))\n",
    "    else:\n",
    "        return \" not power of 2\"\n",
    "        \n",
    "n= 30\n",
    "print(f\"Given number is the {pow_two(n)}\")"
   ]
  },
  {
   "cell_type": "markdown",
   "id": "6602f13f",
   "metadata": {},
   "source": [
    "25. Write a Python program to merge two sorted lists into a single sorted list."
   ]
  },
  {
   "cell_type": "code",
   "execution_count": 154,
   "id": "3fd2a044",
   "metadata": {},
   "outputs": [
    {
     "data": {
      "text/plain": [
       "[1, 3, 4, 5, 6, 7, 8, 9, 10, 11]"
      ]
     },
     "execution_count": 154,
     "metadata": {},
     "output_type": "execute_result"
    }
   ],
   "source": [
    "def merge_sor_list(test_list1,test_list2):\n",
    "    size_1 = len(test_list1)\n",
    "    size_2 = len(test_list2)\n",
    "    res = []\n",
    "    i, j = 0, 0\n",
    "    while i < size_1 and j < size_2:\n",
    "        if test_list1[i] < test_list2[j]:\n",
    "            res.append(test_list1[i])\n",
    "            i += 1\n",
    " \n",
    "        else:\n",
    "            res.append(test_list2[j])\n",
    "            j += 1\n",
    " \n",
    "    res = res + test_list1[i:] + test_list2[j:]\n",
    "            \n",
    "    return res\n",
    "\n",
    "test_list1 = [1, 5, 6, 9, 11]\n",
    "test_list2 = [3, 4, 7, 8, 10]\n",
    "merge_sor_list(test_list1,test_list2)       "
   ]
  },
  {
   "cell_type": "markdown",
   "id": "90893639",
   "metadata": {},
   "source": [
    "26. Implement a function to find the mode of a list of numbers."
   ]
  },
  {
   "cell_type": "code",
   "execution_count": 175,
   "id": "ec4e0b9f",
   "metadata": {},
   "outputs": [
    {
     "name": "stdout",
     "output_type": "stream",
     "text": [
      "(2, 4)\n"
     ]
    }
   ],
   "source": [
    "from collections import Counter\n",
    "def list_mode(lst):\n",
    "    counter = Counter(lst)\n",
    "    lst_values = list(counter.values())\n",
    "    index_ = lst_values.index(max(lst_values))\n",
    "    for count,items in enumerate(counter.items()):\n",
    "        if(count == index_):\n",
    "            return items\n",
    "        \n",
    "lst = [1,2,3,2,2,2,3,4,5,6,7,8,4]\n",
    "print(list_mode(lst))     \n",
    "    "
   ]
  },
  {
   "cell_type": "markdown",
   "id": "d2950a5a",
   "metadata": {},
   "source": [
    "27. Write a program to find the greatest common divisor (GCD) of two numbers."
   ]
  },
  {
   "cell_type": "code",
   "execution_count": 180,
   "id": "f2dcc875",
   "metadata": {},
   "outputs": [
    {
     "name": "stdout",
     "output_type": "stream",
     "text": [
      "1\n"
     ]
    }
   ],
   "source": [
    "def gcd(num1,num2):\n",
    "    if(num1==0 or num2==0):\n",
    "        return None\n",
    "    if(num1%num2 ==0):\n",
    "        return num2\n",
    "    else:\n",
    "        return(gcd(num2,num1%num2))\n",
    "num1 = 4\n",
    "num2 =9\n",
    "print(gcd(num1,num2))"
   ]
  },
  {
   "cell_type": "markdown",
   "id": "10c26464",
   "metadata": {},
   "source": [
    "28. Implement a function to calculate the square root of a given number."
   ]
  },
  {
   "cell_type": "code",
   "execution_count": 181,
   "id": "eff541c7",
   "metadata": {},
   "outputs": [
    {
     "data": {
      "text/plain": [
       "3.1622776601683795"
      ]
     },
     "execution_count": 181,
     "metadata": {},
     "output_type": "execute_result"
    }
   ],
   "source": [
    "def sqrt_num(n):\n",
    "    return (n**0.5)\n",
    "\n",
    "n = 10\n",
    "sqrt_num(n)"
   ]
  },
  {
   "cell_type": "markdown",
   "id": "e166ab96",
   "metadata": {},
   "source": [
    "29. Write a Python program to check if a given string is a valid palindrome ignoring non-alphanumeric characters."
   ]
  },
  {
   "cell_type": "code",
   "execution_count": 191,
   "id": "dfb7e623",
   "metadata": {},
   "outputs": [
    {
     "data": {
      "text/plain": [
       "'palindrome'"
      ]
     },
     "execution_count": 191,
     "metadata": {},
     "output_type": "execute_result"
    }
   ],
   "source": [
    "def is_palindrome_al(string):\n",
    "    new_str = re.sub(r'[^\\w\\s]', '', string)\n",
    "    reversed_string = new_str[::-1]\n",
    "    \n",
    "    if(new_str.lower() == reversed_string.lower()):\n",
    "        return \"palindrome\"\n",
    "    else:\n",
    "        return \"not palindrome\"\n",
    "\n",
    "string = \"m()ad^^am#@$\"\n",
    "is_palindrome_al(string)"
   ]
  },
  {
   "cell_type": "markdown",
   "id": "57c67ff4",
   "metadata": {},
   "source": [
    "30. Implement a function to find the minimum element in a rotated sorted list."
   ]
  },
  {
   "cell_type": "code",
   "execution_count": 195,
   "id": "78845d0f",
   "metadata": {},
   "outputs": [
    {
     "data": {
      "text/plain": [
       "1"
      ]
     },
     "execution_count": 195,
     "metadata": {},
     "output_type": "execute_result"
    }
   ],
   "source": [
    "def min_ele_sorted_rot(lst):\n",
    "    if(lst[-1] > lst[0]):\n",
    "        return lst[0]\n",
    "    start_index = 0\n",
    "    end_index = len(lst)-1\n",
    "    while(start_index < end_index):\n",
    "        mid = (start_index +end_index) //2\n",
    "        if(lst[mid] < lst[mid +1] and lst[mid] < lst[mid - 1]):\n",
    "            return lst[mid]\n",
    "        if(lst[start_index] < lst[mid]):\n",
    "            start_index = mid+1\n",
    "        if(lst[end_index] > lst[mid]):\n",
    "            end_index = mid-1\n",
    "            \n",
    "lst = [5,6,7,1,2,3,4]\n",
    "min_ele_sorted_rot(lst)      "
   ]
  },
  {
   "cell_type": "markdown",
   "id": "d9085422",
   "metadata": {},
   "source": [
    "31. Write a program to find the sum of all even numbers in a list."
   ]
  },
  {
   "cell_type": "code",
   "execution_count": 196,
   "id": "bcf30423",
   "metadata": {},
   "outputs": [
    {
     "data": {
      "text/plain": [
       "[6, 2, 4]"
      ]
     },
     "execution_count": 196,
     "metadata": {},
     "output_type": "execute_result"
    }
   ],
   "source": [
    "def even_sum_list(lst):\n",
    "    new_list = [x for x in lst if x%2==0]\n",
    "    return new_list\n",
    "\n",
    "lst = [5,6,7,1,2,3,4]\n",
    "even_sum_list(lst)\n",
    "    "
   ]
  },
  {
   "cell_type": "markdown",
   "id": "51e1fc7b",
   "metadata": {},
   "source": [
    "32. Implement a function to calculate the power of a number using recursion."
   ]
  },
  {
   "cell_type": "code",
   "execution_count": 197,
   "id": "1a6e98cb",
   "metadata": {},
   "outputs": [
    {
     "data": {
      "text/plain": [
       "32"
      ]
     },
     "execution_count": 197,
     "metadata": {},
     "output_type": "execute_result"
    }
   ],
   "source": [
    "def pow_num(num,n):\n",
    "    if(n==0):\n",
    "        return 1\n",
    "    if(n==1):\n",
    "        return num\n",
    "    return (num * pow_num(num,n-1))\n",
    "\n",
    "n=5\n",
    "num=2\n",
    "pow_num(num,n)"
   ]
  },
  {
   "cell_type": "markdown",
   "id": "224960a5",
   "metadata": {},
   "source": [
    "33. Write a Python program to remove duplicates from a list while preserving the order."
   ]
  },
  {
   "cell_type": "code",
   "execution_count": 201,
   "id": "a16834b2",
   "metadata": {},
   "outputs": [
    {
     "data": {
      "text/plain": [
       "[5, 6, 7, 1, 2, 3, 4]"
      ]
     },
     "execution_count": 201,
     "metadata": {},
     "output_type": "execute_result"
    }
   ],
   "source": [
    "from collections import Counter\n",
    "def rem_dup(lst):\n",
    "    counter = Counter(lst)\n",
    "    return (list(counter.keys()))\n",
    "    \n",
    "    \n",
    "lst = [5,6,7,1,2,3,4,5,6,7,1]\n",
    "rem_dup(lst)"
   ]
  },
  {
   "cell_type": "markdown",
   "id": "7f2bb39e",
   "metadata": {},
   "source": [
    "34. Implement a function to find the longest common prefix among a list of strings.\n"
   ]
  },
  {
   "cell_type": "code",
   "execution_count": 210,
   "id": "300f7d26",
   "metadata": {},
   "outputs": [
    {
     "data": {
      "text/plain": [
       "'man'"
      ]
     },
     "execution_count": 210,
     "metadata": {},
     "output_type": "execute_result"
    }
   ],
   "source": [
    "def largest_prefix(lst):\n",
    "    string = lst[0]\n",
    "    return_string = ''\n",
    "    status = False\n",
    "    for ele in string:\n",
    "        for i in range(len(lst)):\n",
    "            if(ele not in lst[i]):\n",
    "                \n",
    "                status= True\n",
    "                break\n",
    "        if(status):\n",
    "            break\n",
    "        return_string += ele\n",
    "    return return_string\n",
    "\n",
    "lst = ['manoply','man','manhattan']\n",
    "largest_prefix(lst)"
   ]
  },
  {
   "cell_type": "markdown",
   "id": "5e98fe26",
   "metadata": {},
   "source": [
    "35. Write a program to check if a given number is a perfect square."
   ]
  },
  {
   "cell_type": "code",
   "execution_count": 220,
   "id": "fa4ac03c",
   "metadata": {},
   "outputs": [
    {
     "data": {
      "text/plain": [
       "'Given number is not perfect square'"
      ]
     },
     "execution_count": 220,
     "metadata": {},
     "output_type": "execute_result"
    }
   ],
   "source": [
    "def per_sqr(n):\n",
    "    new_n = int(n**.5)\n",
    "    if(new_n**2 == n):\n",
    "        return(\"Given number is perfect square\")\n",
    "    return (\"Given number is not perfect square\")\n",
    "\n",
    "n=250\n",
    "per_sqr(n)"
   ]
  },
  {
   "cell_type": "markdown",
   "id": "80c4f9cb",
   "metadata": {},
   "source": [
    "36. Implement a function to calculate the product of all elements in a list."
   ]
  },
  {
   "cell_type": "code",
   "execution_count": 221,
   "id": "2a499c4a",
   "metadata": {},
   "outputs": [
    {
     "data": {
      "text/plain": [
       "5040"
      ]
     },
     "execution_count": 221,
     "metadata": {},
     "output_type": "execute_result"
    }
   ],
   "source": [
    "def prod_list(lst):\n",
    "    prod =1\n",
    "    for ele in lst:\n",
    "        prod *= ele\n",
    "    return prod\n",
    "\n",
    "\n",
    "lst = [5,6,7,1,2,3,4]\n",
    "prod_list(lst)"
   ]
  },
  {
   "cell_type": "markdown",
   "id": "a33d3be7",
   "metadata": {},
   "source": [
    "37. Write a Python program to reverse the order of words in a sentence while preserving the word order"
   ]
  },
  {
   "cell_type": "code",
   "execution_count": 222,
   "id": "08dc1a95",
   "metadata": {},
   "outputs": [
    {
     "data": {
      "text/plain": [
       "'sihT noitcnuf lliw esrever eht drow tub gnipeek drow ni redro'"
      ]
     },
     "execution_count": 222,
     "metadata": {},
     "output_type": "execute_result"
    }
   ],
   "source": [
    "def rev_word_in_sen(sen):\n",
    "    lst = sen.split(\" \")\n",
    "    for i in range(len(lst)):\n",
    "        lst[i] = lst[i][::-1]\n",
    "    reversed_sen = \" \".join(lst)\n",
    "    return reversed_sen\n",
    "\n",
    "sen = \"This function will reverse the word but keeping word in order\"\n",
    "rev_word_in_sen(sen)"
   ]
  },
  {
   "cell_type": "markdown",
   "id": "e3c172e5",
   "metadata": {},
   "source": [
    "38. Implement a function to find the missing number in a given list of consecutive numbers."
   ]
  },
  {
   "cell_type": "code",
   "execution_count": 223,
   "id": "66387e28",
   "metadata": {},
   "outputs": [
    {
     "data": {
      "text/plain": [
       "'Missing number is 5'"
      ]
     },
     "execution_count": 223,
     "metadata": {},
     "output_type": "execute_result"
    }
   ],
   "source": [
    "def missing_number(lst):\n",
    "    n = max(lst)\n",
    "    for i in range(1,n+1):\n",
    "        if(i not in lst):\n",
    "            return(f\"Missing number is {i}\")\n",
    "    \n",
    "lst =  [1, 2, 4, 6, 3, 7, 8]\n",
    "missing_number(lst)"
   ]
  },
  {
   "cell_type": "markdown",
   "id": "de6cf62a",
   "metadata": {},
   "source": [
    "39. Write a program to find the sum of digits of a given number."
   ]
  },
  {
   "cell_type": "code",
   "execution_count": 226,
   "id": "cd4f7590",
   "metadata": {},
   "outputs": [
    {
     "data": {
      "text/plain": [
       "18"
      ]
     },
     "execution_count": 226,
     "metadata": {},
     "output_type": "execute_result"
    }
   ],
   "source": [
    "def sum_of_digits(num):\n",
    "    if(num ==0):\n",
    "        return 0\n",
    "    return(num%10 + sum_of_digits(num//10))\n",
    "\n",
    "num = 765\n",
    "sum_of_digits(765)\n",
    "    \n",
    "    "
   ]
  },
  {
   "cell_type": "markdown",
   "id": "8c74b205",
   "metadata": {},
   "source": [
    "40. Implement a function to check if a given string is a valid palindrome considering case sensitivity."
   ]
  },
  {
   "cell_type": "code",
   "execution_count": 228,
   "id": "e22c1c5e",
   "metadata": {},
   "outputs": [
    {
     "name": "stdout",
     "output_type": "stream",
     "text": [
      "given string is palindrome\n"
     ]
    }
   ],
   "source": [
    "def is_palindrome_case_sensitive(string):\n",
    "    \n",
    "    reversed_string = string[::-1]\n",
    "    if(string == reversed_string):\n",
    "        print(\"given string is palindrome\")\n",
    "    else:\n",
    "        print(\"Given string is not palindrome\")\n",
    "        \n",
    "string =\"MadaM\"\n",
    "is_palindrome_case_sensitive(string)\n"
   ]
  },
  {
   "cell_type": "markdown",
   "id": "d8106678",
   "metadata": {},
   "source": [
    "41. Write a Python program to find the smallest missing positive integer in a list."
   ]
  },
  {
   "cell_type": "code",
   "execution_count": 230,
   "id": "ef54be99",
   "metadata": {},
   "outputs": [
    {
     "data": {
      "text/plain": [
       "'smallest positive number is 1'"
      ]
     },
     "execution_count": 230,
     "metadata": {},
     "output_type": "execute_result"
    }
   ],
   "source": [
    "def smallest_positive_number_missing(lst):\n",
    "    for i in range(1,max(lst)):\n",
    "        if(i not in lst):\n",
    "            return(f\"smallest positive number is {i}\")\n",
    "\n",
    "lst =[2, 3, 7, 6, 8, -1, -10, 15]\n",
    "smallest_positive_number_missing(lst)"
   ]
  },
  {
   "cell_type": "markdown",
   "id": "26a89201",
   "metadata": {},
   "source": [
    "42. Implement a function to find the longest palindrome substring in a given string."
   ]
  },
  {
   "cell_type": "code",
   "execution_count": 235,
   "id": "5d034270",
   "metadata": {},
   "outputs": [],
   "source": [
    "def palindrome_substring(s):    \n",
    "    n = len(s)\n",
    "\n",
    "    \n",
    "    longest = \"\"\n",
    "    j = 0\n",
    "\n",
    "    \n",
    "    subs = \"\"\n",
    "\n",
    "    \n",
    "    subsrev = \"\"\n",
    "    for i in range(n):\n",
    "        j = n-1\n",
    "        while i < j:\n",
    "\n",
    "            \n",
    "            if(s[i] == s[j] and len(longest) < (j-i+1)):\n",
    "                subs = s[i:(j+1)]\n",
    "                subsrev = subs[::-1]\n",
    "                if(subs == subsrev):\n",
    "                    longest = subs\n",
    "            j -= 1\n",
    "\n",
    "   \n",
    "    if(len(longest) == 0):\n",
    "        longest = s[0]\n",
    "    print(\"Longest palindrome substring is: \" + longest)\n",
    "\n",
    "    \n",
    "    "
   ]
  },
  {
   "cell_type": "code",
   "execution_count": 236,
   "id": "574b158e",
   "metadata": {},
   "outputs": [
    {
     "name": "stdout",
     "output_type": "stream",
     "text": [
      "Longest palindrome substring is: madam\n"
     ]
    }
   ],
   "source": [
    "palindrome_substring('madam')"
   ]
  },
  {
   "cell_type": "markdown",
   "id": "818ed942",
   "metadata": {},
   "source": [
    "43. Write a program to find the number of occurrences of a given element in a list"
   ]
  },
  {
   "cell_type": "code",
   "execution_count": 237,
   "id": "391709d8",
   "metadata": {},
   "outputs": [
    {
     "data": {
      "text/plain": [
       "Counter({'z': 2, 'f': 1, 'g': 1, 'd': 1, 'c': 1})"
      ]
     },
     "execution_count": 237,
     "metadata": {},
     "output_type": "execute_result"
    }
   ],
   "source": [
    "from collections import Counter\n",
    "def occurences_list(lst):\n",
    "    counter = Counter(lst)\n",
    "    return counter\n",
    "\n",
    "lst = ['z','f','g','d','z','c']\n",
    "occurences_list(lst)    "
   ]
  },
  {
   "cell_type": "markdown",
   "id": "0534bedd",
   "metadata": {},
   "source": [
    "44. Implement a function to check if a given number is a perfect number."
   ]
  },
  {
   "cell_type": "code",
   "execution_count": 248,
   "id": "698b887d",
   "metadata": {},
   "outputs": [
    {
     "name": "stdout",
     "output_type": "stream",
     "text": [
      "Given number 28 is not perfect number\n"
     ]
    }
   ],
   "source": [
    "def perfect_number(num):\n",
    "    sum_ =0\n",
    "    for i in range(1,num//2):\n",
    "        if(num%i == 0):\n",
    "            \n",
    "            sum_+=i\n",
    "    if(num ==sum_):\n",
    "        return(f\"Given number {num} is perfect number\")\n",
    "    return(f\"Given number {num} is not perfect number\")\n",
    "num = 28\n",
    "print(perfect_number(28))"
   ]
  },
  {
   "cell_type": "markdown",
   "id": "e18bc941",
   "metadata": {},
   "source": [
    "45. Write a Python program to remove all duplicates from a string"
   ]
  },
  {
   "cell_type": "code",
   "execution_count": 249,
   "id": "6cd2f6b3",
   "metadata": {},
   "outputs": [
    {
     "name": "stdout",
     "output_type": "stream",
     "text": [
      "mad\n"
     ]
    }
   ],
   "source": [
    "def dup_rem_str(string):\n",
    "    lst = list(string)\n",
    "    new_lst = list(set(lst))\n",
    "    return ''.join(new_lst)\n",
    "\n",
    "string = \"madam\"\n",
    "print(dup_rem_str(string))"
   ]
  },
  {
   "cell_type": "markdown",
   "id": "0ce7c90c",
   "metadata": {},
   "source": [
    "46. Implement a function to find the first missing positive"
   ]
  },
  {
   "cell_type": "code",
   "execution_count": 251,
   "id": "1dae3be4",
   "metadata": {},
   "outputs": [
    {
     "name": "stdout",
     "output_type": "stream",
     "text": [
      "first positive number is 1\n"
     ]
    }
   ],
   "source": [
    "def first_positive_number_missing(lst):\n",
    "    for i in range(1,max(lst)):\n",
    "        if(i not in lst):\n",
    "            return(f\"first positive number is {i}\")\n",
    "\n",
    "lst =[2, 3, 7, 6, 8, -1, -10, 15]\n",
    "print(first_positive_number_missing(lst))"
   ]
  },
  {
   "cell_type": "code",
   "execution_count": null,
   "id": "e2f340c4",
   "metadata": {},
   "outputs": [],
   "source": []
  },
  {
   "cell_type": "code",
   "execution_count": null,
   "id": "f7358c15",
   "metadata": {},
   "outputs": [],
   "source": []
  },
  {
   "cell_type": "code",
   "execution_count": null,
   "id": "db6fdec7",
   "metadata": {},
   "outputs": [],
   "source": []
  },
  {
   "cell_type": "code",
   "execution_count": null,
   "id": "52ceda1d",
   "metadata": {},
   "outputs": [],
   "source": []
  },
  {
   "cell_type": "code",
   "execution_count": null,
   "id": "ca7fe560",
   "metadata": {},
   "outputs": [],
   "source": []
  },
  {
   "cell_type": "code",
   "execution_count": null,
   "id": "abe62e32",
   "metadata": {},
   "outputs": [],
   "source": []
  },
  {
   "cell_type": "code",
   "execution_count": null,
   "id": "40095de8",
   "metadata": {},
   "outputs": [],
   "source": []
  },
  {
   "cell_type": "code",
   "execution_count": null,
   "id": "01fc1183",
   "metadata": {},
   "outputs": [],
   "source": []
  },
  {
   "cell_type": "code",
   "execution_count": null,
   "id": "dd9bccc6",
   "metadata": {},
   "outputs": [],
   "source": []
  },
  {
   "cell_type": "code",
   "execution_count": null,
   "id": "3571f24e",
   "metadata": {},
   "outputs": [],
   "source": []
  }
 ],
 "metadata": {
  "kernelspec": {
   "display_name": "Python 3 (ipykernel)",
   "language": "python",
   "name": "python3"
  },
  "language_info": {
   "codemirror_mode": {
    "name": "ipython",
    "version": 3
   },
   "file_extension": ".py",
   "mimetype": "text/x-python",
   "name": "python",
   "nbconvert_exporter": "python",
   "pygments_lexer": "ipython3",
   "version": "3.7.0"
  }
 },
 "nbformat": 4,
 "nbformat_minor": 5
}
