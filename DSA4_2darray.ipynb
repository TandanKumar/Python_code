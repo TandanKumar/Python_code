{
 "cells": [
  {
   "cell_type": "markdown",
   "id": "7c3386e9",
   "metadata": {},
   "source": [
    "# <aside>\n",
    " **Question 1**\n",
    "Given three integer arrays arr1, arr2 and arr3 **sorted** in **strictly increasing** order, return a sorted array of **only** the integers that appeared in **all** three arrays.\n",
    "\n",
    "**Example 1:**\n",
    "\n",
    "Input: arr1 = [1,2,3,4,5], arr2 = [1,2,5,7,9], arr3 = [1,3,4,5,8]\n",
    "\n",
    "Output: [1,5]\n",
    "\n",
    "**Explanation:** Only 1 and 5 appeared in the three arrays.\n",
    "\n",
    "</aside>"
   ]
  },
  {
   "cell_type": "code",
   "execution_count": null,
   "id": "2f2fe1db",
   "metadata": {},
   "outputs": [],
   "source": [
    "class solution1:\n",
    "    def __init__(self):\n",
    "        pass\n",
    "    def common_element(self,arr1,arr2,arr3):\n",
    "        '''\n",
    "            This function will take input of three arrays which are in sorted order\n",
    "            It will return array with common elementsin all the three with sorted order\n",
    "            :type arr1 :list[int]\n",
    "            :type arr2 :list[int]\n",
    "            :type arr3 :list[int]\n",
    "            :type arr1 :list[int]\n",
    "            :rtype : list[int]\n",
    "        '''\n",
    "        try:\n",
    "            i=0\n",
    "            j=0\n",
    "            k=0\n",
    "            common_elements = []\n",
    "            while( (i < len(arr1)) and (j < len(arr2)) and (k < len(arr3))):\n",
    "                if(arr1[i] == arr2[j] == arr3[k]):\n",
    "                    common_elements.append(arr1[i])\n",
    "                    \n",
    "                    i+=1\n",
    "                    j+=1\n",
    "                    k+=1\n",
    "                elif(arr1[i] < arr2[j]):\n",
    "                    i+=1\n",
    "                elif(arr2[j] < arr3[k]):\n",
    "                    j+=1\n",
    "                else:\n",
    "                    k+=1\n",
    "            \n",
    "            return(common_elements)\n",
    "                \n",
    "        except Exception as e:\n",
    "            print(\"error has occure \",e)\n",
    "\n",
    "sol = solution1()\n",
    "arr1 = [1,2,3,4,5]\n",
    "arr2 = [1,2,5,7,9]\n",
    "arr3 = [1,3,4,5,8]\n",
    "\n",
    "print(sol.common_element(arr1,arr2,arr3))"
   ]
  },
  {
   "cell_type": "code",
   "execution_count": null,
   "id": "a4f7ecf1",
   "metadata": {},
   "outputs": [],
   "source": [
    "\n"
   ]
  },
  {
   "cell_type": "markdown",
   "id": "0a288a4f",
   "metadata": {},
   "source": [
    "# <aside>\n",
    " **Question 2**\n",
    "\n",
    "Given two **0-indexed** integer arrays nums1 and nums2, return *a list* answer *of size* 2 *where:*\n",
    "\n",
    "- answer[0] *is a list of all **distinct** integers in* nums1 *which are **not** present in* nums2*.*\n",
    "- answer[1] *is a list of all **distinct** integers in* nums2 *which are **not** present in* nums1.\n",
    "\n",
    "**Note** that the integers in the lists may be returned in **any** order.\n",
    "\n",
    "**Example 1:**\n",
    "\n",
    "**Input:** nums1 = [1,2,3], nums2 = [2,4,6]\n",
    "\n",
    "**Output:** [[1,3],[4,6]]\n",
    "\n",
    "**Explanation:**\n",
    "\n",
    "For nums1, nums1[1] = 2 is present at index 0 of nums2, whereas nums1[0] = 1 and nums1[2] = 3 are not present in nums2. Therefore, answer[0] = [1,3].\n",
    "\n",
    "For nums2, nums2[0] = 2 is present at index 1 of nums1, whereas nums2[1] = 4 and nums2[2] = 6 are not present in nums2. Therefore, answer[1] = [4,6].\n",
    "\n",
    "</aside>"
   ]
  },
  {
   "cell_type": "code",
   "execution_count": null,
   "id": "b06d89cc",
   "metadata": {},
   "outputs": [],
   "source": [
    "class solution2:\n",
    "    def __init__(self):\n",
    "        pass\n",
    "    def list_o_un_ele(self,arr1,arr2):\n",
    "        '''\n",
    "            This function will take input two arrays and retrun two dimensional list with uncommon element\n",
    "            :type arr1 : list[int]\n",
    "            :type arr2 : list[int]\n",
    "            :rtype arr3 : list[[int],[int]]\n",
    "        '''\n",
    "        try:\n",
    "            i,j=0,0\n",
    "            lis = [[],[]]\n",
    "            while(i < len(arr1)-1 and j< len(arr2)-1):\n",
    "                if(arr1[i] == arr2[j]):\n",
    "                    i+=1\n",
    "                    j+=1\n",
    "                elif(arr1[i] > arr2[j]):\n",
    "                    lis[1].append(arr2[j])\n",
    "                    j+=1\n",
    "                else:\n",
    "                    lis[0].append(arr1[i])\n",
    "                    i+=1\n",
    "            \n",
    "            if(i < len(arr1)):\n",
    "                while(i < len(arr1)):\n",
    "                    lis[0].append(arr1[i])\n",
    "                    i+=1\n",
    "            if(j < len(arr2)):\n",
    "                while(j < len(arr2)):\n",
    "                    lis[1].append(arr2[j])\n",
    "                    j+=1\n",
    "            return lis\n",
    "                \n",
    "            \n",
    "        except Exception as e:\n",
    "            print(\"error has occure \",e)\n",
    "\n",
    "sol = solution2()\n",
    "nums1 = [1,2,3]\n",
    "nums2 = [2,4,6]\n",
    "print(sol.list_o_un_ele(nums1,nums2))"
   ]
  },
  {
   "cell_type": "markdown",
   "id": "285c334a",
   "metadata": {},
   "source": [
    "<aside>\n",
    " **Question 3**\n",
    "Given a 2D integer array matrix, return *the **transpose** of* matrix.\n",
    "\n",
    "The **transpose** of a matrix is the matrix flipped over its main diagonal, switching the matrix's row and column indices.\n",
    "\n",
    "**Example 1:**\n",
    "\n",
    "Input: matrix = [[1,2,3],[4,5,6],[7,8,9]]\n",
    "\n",
    "Output: [[1,4,7],[2,5,8],[3,6,9]]\n",
    "![image](iamge_v3.png)\n",
    "</aside>"
   ]
  },
  {
   "cell_type": "code",
   "execution_count": 7,
   "id": "1a4fc4e8",
   "metadata": {},
   "outputs": [
    {
     "name": "stdout",
     "output_type": "stream",
     "text": [
      "[[1, 4, 7], [2, 5, 8], [3, 6, 9]]\n"
     ]
    }
   ],
   "source": [
    "class solution3:\n",
    "    def __init__(self):\n",
    "        pass\n",
    "    def matrix_transpose(self,matrix):\n",
    "        '''\n",
    "          This function will take the inpu and return the transpose of the matrix\n",
    "          :type matrix : list[[int],[int],..]\n",
    "          :rtype : list[[int],[int],..]\n",
    "        '''\n",
    "        try:\n",
    "            for row in range(len(matrix)):\n",
    "                for col in range(len(matrix[0])):\n",
    "                    if(col> row):\n",
    "                        break\n",
    "                    \n",
    "                    temp = matrix[row][col]\n",
    "                    matrix[row][col] = matrix[col][row]\n",
    "                    matrix[col][row] = temp\n",
    "                    \n",
    "                    \n",
    "            return matrix\n",
    "            \n",
    "        except Exception as e:\n",
    "            print(\"error has occure \",e)\n",
    "\n",
    "sol = solution3()  \n",
    "matrix = [[1,2,3],[4,5,6],[7,8,9]]\n",
    "print(sol.matrix_transpose(matrix))"
   ]
  },
  {
   "cell_type": "markdown",
   "id": "5776c561",
   "metadata": {},
   "source": [
    "# <aside>\n",
    " **Question 4**\n",
    "Given an integer array nums of 2n integers, group these integers into n pairs (a1, b1), (a2, b2), ..., (an, bn) such that the sum of min(ai, bi) for all i is **maximized**. Return *the maximized sum*.\n",
    "\n",
    "**Example 1:**\n",
    "\n",
    "Input: nums = [1,4,3,2]\n",
    "\n",
    "Output: 4\n",
    "\n",
    "**Explanation:** All possible pairings (ignoring the ordering of elements) are:\n",
    "\n",
    "1. (1, 4), (2, 3) -> min(1, 4) + min(2, 3) = 1 + 2 = 3\n",
    "\n",
    "2. (1, 3), (2, 4) -> min(1, 3) + min(2, 4) = 1 + 2 = 3\n",
    "\n",
    "3. (1, 2), (3, 4) -> min(1, 2) + min(3, 4) = 1 + 3 = 4\n",
    "\n",
    "So the maximum possible sum is 4.\n",
    "\n",
    "</aside>"
   ]
  },
  {
   "cell_type": "code",
   "execution_count": 11,
   "id": "4a6707a8",
   "metadata": {},
   "outputs": [
    {
     "name": "stdout",
     "output_type": "stream",
     "text": [
      "9\n",
      "4\n"
     ]
    }
   ],
   "source": [
    "class solution4:\n",
    "    def __init__(self):\n",
    "        pass\n",
    "    def max_sum(self,arr):\n",
    "        '''\n",
    "        This function will take input of array and max of sum of the minimum\n",
    "        constraint :\n",
    "                    1. Pairs should be considered as n/2\n",
    "        :type arr: List[int]\n",
    "        \n",
    "        '''\n",
    "        try:\n",
    "            arr.sort()\n",
    "            r=0\n",
    "            for i in range(0,len(arr),2):\n",
    "                r+=min(arr[i],arr[i+1])\n",
    "            return(r)\n",
    "        except Exception as e:\n",
    "            print(\"Error has coccured \",e)\n",
    "            \n",
    "    \n",
    "sol = solution4()\n",
    "ar1 = [1,4,3,2]\n",
    "ar = [6,2,6,5,1,2]\n",
    "print(sol.max_sum(ar))\n",
    "print(sol.max_sum(ar1))"
   ]
  },
  {
   "cell_type": "code",
   "execution_count": null,
   "id": "6a3c62e5",
   "metadata": {},
   "outputs": [],
   "source": []
  },
  {
   "cell_type": "markdown",
   "id": "c215866a",
   "metadata": {},
   "source": [
    "# <aside>\n",
    " **Question 5**\n",
    "You have n coins and you want to build a staircase with these coins. The staircase consists of k rows where the ith row has exactly i coins. The last row of the staircase **may be** incomplete.\n",
    "\n",
    "Given the integer n, return *the number of **complete rows** of the staircase you will build*.\n",
    "\n",
    "**Example 1:**\n",
    "\n",
    "[]()\n",
    "\n",
    "![v2.jpg](v2.jpg)\n",
    "\n",
    "**Input:** n = 5\n",
    "\n",
    "**Output:** 2\n",
    "\n",
    "**Explanation:** Because the 3rd row is incomplete, we return 2.\n",
    "\n",
    "</aside>"
   ]
  },
  {
   "cell_type": "code",
   "execution_count": 16,
   "id": "fb707b92",
   "metadata": {},
   "outputs": [
    {
     "name": "stdout",
     "output_type": "stream",
     "text": [
      "5\n"
     ]
    }
   ],
   "source": [
    "class solution5:\n",
    "    def __init__(self):\n",
    "        pass\n",
    "    def step_count(self,num):\n",
    "        '''\n",
    "            This function will take the input of integer and return the no of complete steps\n",
    "            :type num : int\n",
    "            :rtype : int\n",
    "        \n",
    "        '''\n",
    "        try:\n",
    "            for i in range(1,n):\n",
    "                sum_ = (i*(i+1))//2\n",
    "                if(sum_==n):\n",
    "                    return i\n",
    "                elif(sum_ > n):\n",
    "                    return i-1\n",
    "            \n",
    "            \n",
    "        except Exception as e:\n",
    "            print(\"error has occure \",e)\n",
    "\n",
    "sol = solution5()\n",
    "n=17\n",
    "print(sol.step_count(n))"
   ]
  },
  {
   "cell_type": "markdown",
   "id": "30267b27",
   "metadata": {},
   "source": [
    "# <aside>\n",
    " **Question 6**\n",
    "Given an integer array nums sorted in **non-decreasing** order, return *an array of **the squares of each number** sorted in non-decreasing order*.\n",
    "\n",
    "**Example 1:**\n",
    "\n",
    "Input: nums = [-4,-1,0,3,10]\n",
    "\n",
    "Output: [0,1,9,16,100]\n",
    "\n",
    "**Explanation:** After squaring, the array becomes [16,1,0,9,100].\n",
    "After sorting, it becomes [0,1,9,16,100]\n",
    "\n",
    "</aside>"
   ]
  },
  {
   "cell_type": "code",
   "execution_count": 25,
   "id": "423c7805",
   "metadata": {},
   "outputs": [
    {
     "name": "stdout",
     "output_type": "stream",
     "text": [
      "[0, 1, 9, 16, 100]\n"
     ]
    }
   ],
   "source": [
    "class solution6:\n",
    "    def __init__(self):\n",
    "        pass\n",
    "    def square_function(self,arr):\n",
    "        '''\n",
    "            This function will take the input of array sorted in non-decreasing order.\n",
    "            It will square the number and return it in sorted way\n",
    "            :type arr : list[int]\n",
    "            :type :int\n",
    "        '''\n",
    "        try:\n",
    "            return sorted([val**2 for val in arr])\n",
    "        except Exception as e:\n",
    "            print(\"error has occure \",e)\n",
    "\n",
    "sol = solution6()  \n",
    "nums = [-4,-1,0,3,10]\n",
    "print(sol.square_function(nums))"
   ]
  },
  {
   "cell_type": "markdown",
   "id": "d054ca3a",
   "metadata": {},
   "source": [
    "# <aside>\n",
    " **Question 7**\n",
    "You are given an m x n matrix M initialized with all 0's and an array of operations ops, where ops[i] = [ai, bi] means M[x][y] should be incremented by one for all 0 <= x < ai and 0 <= y < bi.\n",
    "\n",
    "Count and return *the number of maximum integers in the matrix after performing all the operations*\n",
    "\n",
    "**Example 1:**\n",
    "\n",
    "![image](q4.jpg)\n",
    "\n",
    "**Input:** m = 3, n = 3, ops = [[2,2],[3,3]]\n",
    "\n",
    "**Output:** 4\n",
    "\n",
    "**Explanation:** The maximum integer in M is 2, and there are four of it in M. So return 4.\n",
    "\n",
    "</aside>"
   ]
  },
  {
   "cell_type": "code",
   "execution_count": 36,
   "id": "18770871",
   "metadata": {},
   "outputs": [
    {
     "name": "stdout",
     "output_type": "stream",
     "text": [
      "4\n"
     ]
    }
   ],
   "source": [
    "class solution7:\n",
    "    def __init__(self):\n",
    "        pass\n",
    "    def matrix_trans(self,row,col,oper):\n",
    "        '''\n",
    "          This function will take the input of row and columns of matrix , matrix of operations and performs the some transformation \n",
    "          It will return the count of maximum numbers \n",
    "          :type matrix : list[[int],[],..]\n",
    "          :type operations : list[[int],[],..]\n",
    "          :rtype : int\n",
    "        '''\n",
    "        try:\n",
    "            count = m*n\n",
    "            max_ =  0\n",
    "            for val in oper:\n",
    "                mul_ = val[0]*val[1]\n",
    "                if(count > mul_):\n",
    "                    count = mul_\n",
    "                    max_ +=1\n",
    "                elif(count < mul_):\n",
    "                    max_+=1\n",
    "                \n",
    "                \n",
    "            return count\n",
    "        except Exception as e:\n",
    "            print(\"error has occure \",e)\n",
    "\n",
    "sol = solution7()\n",
    "m = 3\n",
    "n = 3\n",
    "ops = [[2,2],[3,3]]\n",
    "print(sol.matrix_trans(m,n,ops))"
   ]
  },
  {
   "cell_type": "markdown",
   "id": "13953193",
   "metadata": {},
   "source": [
    "# <aside>\n",
    " **Question 8**\n",
    "\n",
    "Given the array nums consisting of 2n elements in the form [x1,x2,...,xn,y1,y2,...,yn].\n",
    "\n",
    "*Return the array in the form* [x1,y1,x2,y2,...,xn,yn].\n",
    "\n",
    "**Example 1:**\n",
    "\n",
    "**Input:** nums = [2,5,1,3,4,7], n = 3\n",
    "\n",
    "**Output:** [2,3,5,4,1,7]\n",
    "\n",
    "**Explanation:** Since x1=2, x2=5, x3=1, y1=3, y2=4, y3=7 then the answer is [2,3,5,4,1,7].\n",
    "\n",
    "</aside>"
   ]
  },
  {
   "cell_type": "code",
   "execution_count": 53,
   "id": "87f9bd14",
   "metadata": {},
   "outputs": [
    {
     "name": "stdout",
     "output_type": "stream",
     "text": [
      "[2, 3, 5, 4, 1, 7]\n"
     ]
    }
   ],
   "source": [
    "class solution8:\n",
    "    def __init__(self):\n",
    "        pass\n",
    "    def element_swapping(self,arr,n):\n",
    "        '''\n",
    "            This function will take the input of array of elements of 2n and n\n",
    "            It will replace the 2 with n-2, similar way\n",
    "            :type arr: list[int]\n",
    "            :type : list[int]\n",
    "        '''\n",
    "        try:\n",
    "            return_array = [None]*2*n\n",
    "    \n",
    "            count = 0\n",
    "            for i in range(0,n):\n",
    "    \n",
    "                return_array[count] = arr[i]\n",
    "                return_array[count+1] = arr[i+n]\n",
    "                count +=2\n",
    "            return return_array\n",
    "            \n",
    "        except Exception as e:\n",
    "            print(\"error has occure \",e)\n",
    "\n",
    "sol = solution8()\n",
    "nums = [2,5,1,3,4,7]\n",
    "n = 3\n",
    "print(sol.element_swapping(nums,n))"
   ]
  },
  {
   "cell_type": "code",
   "execution_count": 48,
   "id": "6c719e2a",
   "metadata": {},
   "outputs": [],
   "source": []
  },
  {
   "cell_type": "code",
   "execution_count": null,
   "id": "7575e901",
   "metadata": {},
   "outputs": [],
   "source": []
  }
 ],
 "metadata": {
  "kernelspec": {
   "display_name": "Python 3 (ipykernel)",
   "language": "python",
   "name": "python3"
  },
  "language_info": {
   "codemirror_mode": {
    "name": "ipython",
    "version": 3
   },
   "file_extension": ".py",
   "mimetype": "text/x-python",
   "name": "python",
   "nbconvert_exporter": "python",
   "pygments_lexer": "ipython3",
   "version": "3.9.12"
  }
 },
 "nbformat": 4,
 "nbformat_minor": 5
}
