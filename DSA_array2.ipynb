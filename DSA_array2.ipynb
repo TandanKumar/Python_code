{
 "cells": [
  {
   "cell_type": "markdown",
   "id": "cac74143",
   "metadata": {},
   "source": [
    "# <aside>\n",
    " **Question 1**\n",
    "Given an integer array nums of 2n integers, group these integers into n pairs (a1, b1), (a2, b2),..., (an, bn) such that the sum of min(ai, bi) for all i is maximized. Return the maximized sum.\n",
    "\n",
    "**Example 1:**\n",
    "Input: nums = [1,4,3,2]\n",
    "Output: 4\n",
    "\n",
    "**Explanation:** All possible pairings (ignoring the ordering of elements) are:\n",
    "\n",
    "1. (1, 4), (2, 3) -> min(1, 4) + min(2, 3) = 1 + 2 = 3\n",
    "2. (1, 3), (2, 4) -> min(1, 3) + min(2, 4) = 1 + 2 = 3\n",
    "3. (1, 2), (3, 4) -> min(1, 2) + min(3, 4) = 1 + 3 = 4\n",
    "So the maximum possible sum is 4\n",
    "</aside>"
   ]
  },
  {
   "cell_type": "code",
   "execution_count": null,
   "id": "d96e7a1e",
   "metadata": {},
   "outputs": [],
   "source": [
    "class solution1:\n",
    "    def __init__(self):\n",
    "        pass\n",
    "    def max_sum(self,arr):\n",
    "        '''\n",
    "        This function will take input of array and max of sum of the minimum\n",
    "        constraint :\n",
    "                    1. Pairs should be considered as n/2\n",
    "        :type arr: List[int]\n",
    "        \n",
    "        '''\n",
    "        try:\n",
    "            arr.sort()\n",
    "            r=0\n",
    "            for i in range(0,len(arr),2):\n",
    "                r+=min(arr[i],arr[i+1])\n",
    "            return(r)\n",
    "        except Exception as e:\n",
    "            print(\"Error has coccured \",e)\n",
    "            \n",
    "    \n",
    "sol = solution1()\n",
    "ar = [6,2,6,5,1,2]\n",
    "sol.max_sum(ar)"
   ]
  },
  {
   "cell_type": "markdown",
   "id": "a44b4305",
   "metadata": {},
   "source": [
    "# Question 2\n",
    "Alice has n candies, where the ith candy is of type candyType[i]. Alice noticed that she started to gain weight, so she visited a doctor. \n",
    "\n",
    "The doctor advised Alice to only eat n / 2 of the candies she has (n is always even). Alice likes her candies very much, and she wants to eat the maximum number of different types of candies while still following the doctor's advice. \n",
    "\n",
    "Given the integer array candyType of length n, return the maximum number of different types of candies she can eat if she only eats n / 2 of them.\n",
    "\n",
    "Example 1:\n",
    "Input: candyType = [1,1,2,2,3,3]\n",
    "Output: 3\n",
    "\n",
    "Explanation: Alice can only eat 6 / 2 = 3 candies. Since there are only 3 types, she can eat one of each type."
   ]
  },
  {
   "cell_type": "code",
   "execution_count": null,
   "id": "22538829",
   "metadata": {},
   "outputs": [],
   "source": [
    "class solution2:\n",
    "    def __init__(self):\n",
    "        pass\n",
    "    \n",
    "    def selection_candy(self,arr):\n",
    "        '''\n",
    "        This function will take the input of array of n numbers. Give the output as count of unique ele in the array\n",
    "        :type arr: List[int]\n",
    "        \n",
    "        '''\n",
    "        try:\n",
    "            set_list = set(arr)\n",
    "            return (len(set_list))\n",
    "        \n",
    "        except Exception as e:\n",
    "            print(\"Error has occured\",e)\n",
    "        \n",
    "\n",
    "sol = solution2()\n",
    "candy_type  = [1,1,2,2,3,3]\n",
    "print(sol.selection_candy(candy_type))"
   ]
  },
  {
   "cell_type": "code",
   "execution_count": null,
   "id": "ac7fad98",
   "metadata": {},
   "outputs": [],
   "source": []
  },
  {
   "cell_type": "markdown",
   "id": "a91c09dc",
   "metadata": {},
   "source": [
    "# Question 3\n",
    "We define a harmonious array as an array where the difference between its maximum value\n",
    "and its minimum value is exactly 1.\n",
    "\n",
    "Given an integer array nums, return the length of its longest harmonious subsequence\n",
    "among all its possible subsequences.\n",
    "\n",
    "A subsequence of an array is a sequence that can be derived from the array by deleting some or no elements without changing the order of the remaining elements.\n",
    "\n",
    "Example 1:\n",
    "Input: nums = [1,3,2,2,5,2,3,7]\n",
    "Output: 5\n",
    "\n",
    "Explanation: The longest harmonious subsequence is [3,2,2,2,3]."
   ]
  },
  {
   "cell_type": "code",
   "execution_count": null,
   "id": "96937834",
   "metadata": {},
   "outputs": [],
   "source": [
    "\n",
    "class solution3:\n",
    "    def __init__(self):\n",
    "        pass\n",
    "    def harmonious_sequence(self, array):\n",
    "        '''\n",
    "                This function will take input of the list of numbers and returns array of maximum harmoious sequence \n",
    "                after deleteing few or no elements\n",
    "                :type array :List[int]\n",
    "        \n",
    "        '''\n",
    "        \n",
    "        try:\n",
    "            my_dict ={}\n",
    "            \n",
    "            for val in array:\n",
    "                if(my_dict.get(val) == None):\n",
    "                    my_dict[val] =  1\n",
    "                else:\n",
    "                    my_dict[val] += 1\n",
    "            max_value = 0\n",
    "            for val in (my_dict.keys()):\n",
    "                next_v = 0 \n",
    "                if(my_dict.get(val+1) == None):\n",
    "                    next_v =  0\n",
    "                else:\n",
    "                    next_v = my_dict.get(val+1)\n",
    "                \n",
    "                max_value = max(max_value , my_dict[val] + next_v)\n",
    "                \n",
    "                \n",
    "                \n",
    "            \n",
    "            return max_value\n",
    "            \n",
    "        except Exception as e:\n",
    "            print(\"Error has occured \",e)\n",
    "\n",
    "sol= solution3()\n",
    "seq = [1,3,2,2,5,2,3,7]\n",
    "print(sol.harmonious_sequence(seq))"
   ]
  },
  {
   "cell_type": "markdown",
   "id": "f04d5474",
   "metadata": {},
   "source": [
    "# Question 4\n",
    "You have a long flowerbed in which some of the plots are planted, and some are not.\n",
    "However, flowers cannot be planted in adjacent plots.\n",
    "Given an integer array flowerbed containing 0's and 1's, where 0 means empty and 1 means not empty, and an integer n, return true if n new flowers can be planted in the flowerbed without violating the no-adjacent-flowers rule and false otherwise.\n",
    "\n",
    "Example 1:\n",
    "Input: flowerbed = [1,0,0,0,1], n = 1\n",
    "Output: true"
   ]
  },
  {
   "cell_type": "code",
   "execution_count": null,
   "id": "6fa83599",
   "metadata": {},
   "outputs": [],
   "source": [
    "class solution4:\n",
    "    def __init__(self):\n",
    "        pass\n",
    "    def chk_flower_bed(self,arr,n):\n",
    "        '''\n",
    "        This function check the new flower can planted on flowerbed.\n",
    "        This function will take the input array of flower bed and integer number and return the boolean \n",
    "        :type arr : list[int]\n",
    "        :type n : int\n",
    "        '''\n",
    "        try:\n",
    "            count =0\n",
    "            bed = 0\n",
    "            for val in arr:\n",
    "                if(val):\n",
    "                    count = 0\n",
    "                else:\n",
    "                    count +=1\n",
    "                    if(count ==3):\n",
    "                        count =1\n",
    "                        bed =1\n",
    "                        \n",
    "            if(bed >= n):\n",
    "                return(True)\n",
    "            else:\n",
    "                return(False)\n",
    "        \n",
    "        except Excpetion as e :\n",
    "            print(\"Error has occured\",e)\n",
    "\n",
    "sol = solution4()\n",
    "flower_bed = [1,0,0,0,1]\n",
    "n=2\n",
    "print(sol.chk_flower_bed(flower_bed,n))\n"
   ]
  },
  {
   "cell_type": "code",
   "execution_count": null,
   "id": "ef46a250",
   "metadata": {},
   "outputs": [],
   "source": []
  },
  {
   "cell_type": "markdown",
   "id": "fd4d2267",
   "metadata": {},
   "source": [
    "# Question 5\n",
    "Given an integer array nums, find three numbers whose product is maximum and return the maximum product.\n",
    "\n",
    "Example 1:\n",
    "Input: nums = [1,2,3]\n",
    "Output: 6"
   ]
  },
  {
   "cell_type": "code",
   "execution_count": 4,
   "id": "7b536743",
   "metadata": {},
   "outputs": [
    {
     "name": "stdout",
     "output_type": "stream",
     "text": [
      "120\n"
     ]
    }
   ],
   "source": [
    "class solution5:\n",
    "    def __init__(self):\n",
    "        pass\n",
    "    def max_sum(self,arr):\n",
    "        '''\n",
    "            This function will take the input of an array and retirn the maximim sum of the three numbers\n",
    "            constraint = two numbers should not be same\n",
    "            :type arr : list[int]\n",
    "        \n",
    "        '''\n",
    "        try:\n",
    "            set_list = list(set(arr))\n",
    "            set_list.sort(reverse= True)\n",
    "            mult =1\n",
    "            for i in range(3):\n",
    "                mult = mult * set_list[i]\n",
    "            \n",
    "            return mult\n",
    "        except Exception as e:\n",
    "            print(\"Error has occured \",e)\n",
    "\n",
    "sol = solution5()\n",
    "input_ar =  [1,2,3,5,3,4,6]\n",
    "print(sol.max_sum(input_ar))"
   ]
  },
  {
   "cell_type": "code",
   "execution_count": 3,
   "id": "9b0868ce",
   "metadata": {},
   "outputs": [
    {
     "data": {
      "text/plain": [
       "[1, 2, 3, 3, 4, 5, 6]"
      ]
     },
     "execution_count": 3,
     "metadata": {},
     "output_type": "execute_result"
    }
   ],
   "source": [
    "input_ar.sort()\n",
    "input_ar"
   ]
  },
  {
   "cell_type": "markdown",
   "id": "3e99c3d2",
   "metadata": {},
   "source": [
    "# Question 6\n",
    "Given an array of integers nums which is sorted in ascending order, and an integer target,\n",
    "write a function to search target in nums. If target exists, then return its index. Otherwise,\n",
    "return -1.\n",
    "\n",
    "You must write an algorithm with O(log n) runtime complexity.\n",
    "\n",
    "Input: nums = [-1,0,3,5,9,12], target = 9\n",
    "Output: 4\n",
    "\n",
    "Explanation: 9 exists in nums and its index is 4"
   ]
  },
  {
   "cell_type": "code",
   "execution_count": 10,
   "id": "df0c3cc6",
   "metadata": {},
   "outputs": [
    {
     "name": "stdout",
     "output_type": "stream",
     "text": [
      "3\n"
     ]
    }
   ],
   "source": [
    "class solution6:\n",
    "    def __init__(self):\n",
    "        pass\n",
    "    def val_index(self,arr,n):\n",
    "        '''\n",
    "             This function will take the input of array and integer n.\n",
    "             It will return the index if the ele is found otherwise -1\n",
    "             :type arr : list[int]\n",
    "             :type n : int\n",
    "        \n",
    "        \n",
    "        '''\n",
    "        try:\n",
    "            start_index = 0\n",
    "            last_index = len(arr) \n",
    "            if(arr[start_index] == n ):\n",
    "                return (0)\n",
    "            if(arr[last_index -1] == n):\n",
    "                return(n-1)\n",
    "            while(start_index < last_index):\n",
    "                mid_index = (start_index + last_index)//2\n",
    "                if(arr[mid_index] == n):\n",
    "                    return (mid_index)\n",
    "                elif(arr[mid_index] > n):\n",
    "                    last_index = mid_index\n",
    "                else :\n",
    "                    start_index = mid_index\n",
    "            return (-1)\n",
    "                \n",
    "        except Exception as e:\n",
    "            print(\"Error has occured\",e)\n",
    "            \n",
    "sol = solution6()\n",
    "nums = [-1,0,3,4,5,9,12]\n",
    "n=4\n",
    "print(sol.val_index(nums,n))"
   ]
  },
  {
   "cell_type": "code",
   "execution_count": null,
   "id": "ad963ed5",
   "metadata": {},
   "outputs": [],
   "source": []
  },
  {
   "cell_type": "markdown",
   "id": "273d6c85",
   "metadata": {},
   "source": [
    "# Question 7\n",
    "An array is monotonic if it is either monotone increasing or monotone decreasing.\n",
    "\n",
    "An array nums is monotone increasing if for all i <= j, nums[i] <= nums[j]. An array nums is\n",
    "monotone decreasing if for all i <= j, nums[i] >= nums[j].\n",
    "\n",
    "Given an integer array nums, return true if the given array is monotonic, or false otherwise.\n",
    "\n",
    "Example 1:\n",
    "Input: nums = [1,2,2,3]\n",
    "Output: true"
   ]
  },
  {
   "cell_type": "code",
   "execution_count": 20,
   "id": "0724501c",
   "metadata": {},
   "outputs": [
    {
     "name": "stdout",
     "output_type": "stream",
     "text": [
      "True\n"
     ]
    }
   ],
   "source": [
    "class solution7:\n",
    "    def __init__(self):\n",
    "        pass\n",
    "    def monotonic(self,arr):\n",
    "        '''\n",
    "            This function will take the input of array of numbers and will return the output as true if the array is \n",
    "            monotonic increasing or decreasing else false\n",
    "            :type arr : list[int]\n",
    "        '''\n",
    "        try:\n",
    "            \n",
    "            count = True\n",
    "            for i in range(len(arr)-1):\n",
    "                if(arr[i] <= arr[i+1]):\n",
    "                    pass\n",
    "                else:\n",
    "                    count = False\n",
    "                    \n",
    "            if(count):                \n",
    "                return (True)\n",
    "            \n",
    "            count = True\n",
    "            for i in range(len(arr)-1):\n",
    "                if(arr[i] >= arr[i+1]):\n",
    "                    pass\n",
    "                else:\n",
    "                    count = False\n",
    "                    \n",
    "            if(count):\n",
    "                return (True)\n",
    "            return (False)\n",
    "\n",
    "        except Exception as e:\n",
    "            print(\"Error has occured \",e)\n",
    "            \n",
    "sol = solution7()\n",
    "nums =  [1,2,4,5] \n",
    "print(sol.monotonic(nums))"
   ]
  },
  {
   "cell_type": "code",
   "execution_count": null,
   "id": "2d22667e",
   "metadata": {},
   "outputs": [],
   "source": []
  },
  {
   "cell_type": "markdown",
   "id": "ff914dfd",
   "metadata": {},
   "source": [
    "# Question 8\n",
    "You are given an integer array nums and an integer k.\n",
    "\n",
    "In one operation, you can choose any index i where 0 <= i < nums.length and change nums[i] to nums[i] + x where x is an integer from the range [-k, k]. You can apply this operation at most once for each index i.\n",
    "\n",
    "The score of nums is the difference between the maximum and minimum elements in nums.\n",
    "\n",
    "Return the minimum score of nums after applying the mentioned operation at most once for each index in it.\n",
    "\n",
    "Example 1:\n",
    "Input: nums = [1], k = 0\n",
    "Output: 0\n",
    "\n",
    "Explanation: The score is max(nums) - min(nums) = 1 - 1 = 0."
   ]
  },
  {
   "cell_type": "code",
   "execution_count": 34,
   "id": "97aa8e11",
   "metadata": {},
   "outputs": [
    {
     "name": "stdout",
     "output_type": "stream",
     "text": [
      "changed array is  [-2, 0, -1, 0] 0 -2\n",
      "2\n"
     ]
    }
   ],
   "source": [
    "import random\n",
    "class solution8:\n",
    "    def __init__(self):\n",
    "        pass\n",
    "    def score_v(self,array,k):\n",
    "        '''\n",
    "            This function will take the input of array and an integer.\n",
    "            It will add x value which will be in between [-k,k]\n",
    "            then it will return the score which will difference between max and minimum\n",
    "            \n",
    "        \n",
    "        '''\n",
    "        try:\n",
    "            max_val=0\n",
    "            min_val= 0\n",
    "            for i in range(len(array)):\n",
    "                x = random.randint((-1*k),k)\n",
    "                val = array[i] +x\n",
    "                array[i] = val\n",
    "                \n",
    "                if((min_val==0) & (max_val ==0)):\n",
    "                    min_val = val\n",
    "                    max_val = val\n",
    "                elif(min_val > val):\n",
    "                    min_val = val\n",
    "                elif(max_val < val):\n",
    "                    max_val = val\n",
    "            print(\"changed array is \",array,max_val,min_val)\n",
    "            return(max_val - min_val)\n",
    "\n",
    "        except Exception as e:\n",
    "            print(\"error has occured\",e)\n",
    "            \n",
    "sol = solution8()\n",
    "ar = [1,2,3,4]\n",
    "k=4\n",
    "print(sol.score_v(ar,k))"
   ]
  }
 ],
 "metadata": {
  "kernelspec": {
   "display_name": "Python 3 (ipykernel)",
   "language": "python",
   "name": "python3"
  },
  "language_info": {
   "codemirror_mode": {
    "name": "ipython",
    "version": 3
   },
   "file_extension": ".py",
   "mimetype": "text/x-python",
   "name": "python",
   "nbconvert_exporter": "python",
   "pygments_lexer": "ipython3",
   "version": "3.9.12"
  }
 },
 "nbformat": 4,
 "nbformat_minor": 5
}
