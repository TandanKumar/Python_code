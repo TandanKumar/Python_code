{
 "cells": [
  {
   "cell_type": "code",
   "execution_count": 1,
   "id": "0a6e5722",
   "metadata": {},
   "outputs": [],
   "source": [
    "# Node class\n",
    "class Node:\n",
    "  \n",
    "    # Function to initialize the node object\n",
    "    def __init__(self, data):\n",
    "        self.data = data  # Assign data\n",
    "        self.next = None  # Initialize next as null\n",
    "  \n",
    "  \n",
    "class LinkedList:\n",
    "  \n",
    "    # Function to initialize the Linked List object\n",
    "    def __init__(self):\n",
    "        self.head = None\n",
    "    def push(self,new_key):\n",
    "        self.node = Node(new_key)\n",
    "        new_node = Node(new_key)\n",
    "        new_node.next = self.head\n",
    "        self.head = new_node\n",
    "\n",
    "class create_list:\n",
    "    def __init__(self):\n",
    "        pass\n",
    "    def lin_list(self,arr,bol,pos):\n",
    "        \"\"\"\n",
    "          Description : This function will take the input array to convert it into linked list, bol as boolean\n",
    "          to check whether it is circular linked list or not and pos at which it is circular\n",
    "          :type arr : list\n",
    "          :type bol : boolean\n",
    "          :type pos - int\n",
    "          \n",
    "        \"\"\"\n",
    "        try:\n",
    "            \n",
    "            llist = LinkedList()\n",
    "            n= len(arr)\n",
    "            last_node = LinkedList()\n",
    "            new_pos = n - pos +1\n",
    "            counter =1\n",
    "            for i in range(n):\n",
    "                llist.push(arr[n-i-1])\n",
    "                \n",
    "                if(i ==0 and bol):\n",
    "                    \n",
    "                    last_node = llist.head\n",
    "                    \n",
    "                if(counter == new_pos and bol):\n",
    "                    \n",
    "                    last_node.next= llist.head\n",
    "                    \n",
    "                counter+=1\n",
    "                \n",
    "            \n",
    "            return llist.head\n",
    "        \n",
    "        except Exception as e:\n",
    "            print(\"error has occured\",e)"
   ]
  },
  {
   "cell_type": "markdown",
   "id": "316beac7",
   "metadata": {},
   "source": [
    "# <aside> **Question 1**\n",
    "\n",
    "Given two linked list of the same size, the task is to create a new linked list using those linked lists. The condition is that the greater node among both linked list will be added to the new linked list.\n",
    "\n",
    "**Examples:**\n",
    "    \n",
    "Input: list1 = 5->2->3->8\n",
    "    \n",
    "list2 = 1->7->4->5\n",
    "    \n",
    "Output: New list = 5->7->4->8\n",
    "\n",
    "Input:list1 = 2->8->9->3\n",
    "    \n",
    "list2 = 5->3->6->4\n",
    "    \n",
    "Output: New list = 5->8->9->4\n",
    "    \n",
    "</aside>"
   ]
  },
  {
   "cell_type": "code",
   "execution_count": 2,
   "id": "11e18a41",
   "metadata": {},
   "outputs": [],
   "source": [
    "class solution1:\n",
    "    def __init__(self):\n",
    "        pass\n",
    "    def max_node(self,llist1,llist2):\n",
    "        '''\n",
    "           Description : This functin will take the input of two linked list.\n",
    "           It will compare two nodes of linked list and add the max in new list\n",
    "           :type llist1 : linked list\n",
    "           :type llist2 : linked list\n",
    "           :rtype : linked list\n",
    "        \n",
    "        '''\n",
    "        try:\n",
    "            arr =[]\n",
    "            p1 = llist1\n",
    "            p2 = llist2\n",
    "            while(p1):\n",
    "                if(p1.data >= p2.data):\n",
    "                    arr.append(p1.data)\n",
    "                if(p1.data <= p2.data):\n",
    "                    arr.append(p2.data)\n",
    "                p1 = p1.next\n",
    "                p2 = p2.next\n",
    "            linked_list = create_list()\n",
    "            return_list = linked_list.lin_list(arr,False,0)\n",
    "            return return_list\n",
    "            \n",
    "        except Exception as e:\n",
    "            print(\"error has occure \",e)\n",
    "\n"
   ]
  },
  {
   "cell_type": "code",
   "execution_count": 3,
   "id": "0271acef",
   "metadata": {},
   "outputs": [
    {
     "name": "stdout",
     "output_type": "stream",
     "text": [
      "5\n",
      "7\n",
      "4\n",
      "8\n"
     ]
    }
   ],
   "source": [
    "sol = solution1()\n",
    "list1 = [5,2,3,8]\n",
    "list2 = [1,7,4,5]\n",
    "linked_list = create_list()\n",
    "llist1 = linked_list.lin_list(list1,False,0)\n",
    "llist2 = linked_list.lin_list(list2,False,0)\n",
    "\n",
    "return_llist = sol.max_node(llist1,llist2)\n",
    "while(return_llist):\n",
    "    print(return_llist.data)\n",
    "    return_llist = return_llist.next"
   ]
  },
  {
   "cell_type": "markdown",
   "id": "6cf2ab13",
   "metadata": {},
   "source": [
    "# <aside>\n",
    " **Question 2**\n",
    "\n",
    "Write a function that takes a list sorted in non-decreasing order and deletes any duplicate nodes from the list. The list should only be traversed once.\n",
    "\n",
    "For example if the linked list is 11->11->11->21->43->43->60 then removeDuplicates() should convert the list to 11->21->43->60.\n",
    "\n",
    "\n",
    "Example 1:\n",
    "    \n",
    "Input:\n",
    "\n",
    "LinkedList: 11->11->11->21->43->43->60\n",
    "    \n",
    "Output: 11->21->43->60\n",
    "\n",
    "Example 2:\n",
    "\n",
    "Input:\n",
    "    \n",
    "LinkedList: 10->12->12->25->25->25->34\n",
    "    \n",
    "Output:10->12->25->34\n",
    "\n",
    "</aside>"
   ]
  },
  {
   "cell_type": "code",
   "execution_count": 4,
   "id": "178cfb0d",
   "metadata": {},
   "outputs": [],
   "source": [
    "class solution2:\n",
    "    def __init__(self):\n",
    "        pass\n",
    "    def remove_duplicate(self,llist):\n",
    "        '''\n",
    "          Description : This function will accept the sorted linked list and return the linked list without duplicates\n",
    "          :type llist: Linked List\n",
    "          :rtype  : Linked List\n",
    "        '''\n",
    "        try:\n",
    "            p1 = llist\n",
    "            p2 = llist.next\n",
    "           \n",
    "                \n",
    "            \n",
    "            c =0\n",
    "            while(p2):\n",
    "                \n",
    "                if(p1.data == p2.data):\n",
    "                    temp = p2.next\n",
    "                    p1.next = temp\n",
    "                    p2 = temp\n",
    "                if(p1.data != p2.data):\n",
    "                    p1 = p1.next\n",
    "                    p2 = p2.next\n",
    "                    \n",
    "                \n",
    "            return llist\n",
    "            \n",
    "                \n",
    "        except Exception as e:\n",
    "            print(\"error has occure \",e)\n",
    "\n"
   ]
  },
  {
   "cell_type": "code",
   "execution_count": 5,
   "id": "254df78c",
   "metadata": {},
   "outputs": [
    {
     "name": "stdout",
     "output_type": "stream",
     "text": [
      "11\n",
      "21\n",
      "43\n",
      "60\n"
     ]
    }
   ],
   "source": [
    "sol = solution2() \n",
    "lst = [11,11,11,21,43,43,60]\n",
    "link_list = create_list()\n",
    "llist = link_list.lin_list(lst,False,0)\n",
    "return_list = sol.remove_duplicate(llist)\n",
    "\n",
    "while(return_list):\n",
    "    print(return_list.data)\n",
    "    return_list = return_list.next"
   ]
  },
  {
   "cell_type": "code",
   "execution_count": null,
   "id": "462ab53a",
   "metadata": {},
   "outputs": [],
   "source": []
  },
  {
   "cell_type": "markdown",
   "id": "b0829bfc",
   "metadata": {},
   "source": [
    "# <aside> **Question 3**\n",
    "\n",
    "Given a linked list of size **N**. The task is to reverse every **k** nodes (where k is an input to the function) in the linked list. If the number of nodes is not a multiple of *k* then left-out nodes, in the end, should be considered as a group and must be reversed (See Example 2 for clarification).\n",
    "\n",
    "**Example 1:**\n",
    "\n",
    "```\n",
    "Input:LinkedList: 1->2->2->4->5->6->7->8\n",
    "    \n",
    "K = 4\n",
    "    \n",
    "Output:4 2 2 1 8 7 6 5\n",
    "    \n",
    "Explanation:The first 4 elements 1,2,2,4 are reversed first and then the next 4 elements 5,6,7,8. Hence, the\n",
    "resultant linked list is 4->2->2->1->8->7->6->5.\n",
    "\n",
    "```\n",
    "\n",
    "**Example 2:**\n",
    "    \n",
    "Input: LinkedList: 1->2->3->4->5\n",
    "    \n",
    "K = 3\n",
    "    \n",
    "Output:3 2 1 5 4\n",
    "    \n",
    "Explanation:The first 3 elements are 1,2,3 are reversed\n",
    "first and then elements 4,5 are reversed.Hence,\n",
    "the resultant linked list is 3->2->1->5->4.\n",
    "</aside>"
   ]
  },
  {
   "cell_type": "code",
   "execution_count": 6,
   "id": "ab37506d",
   "metadata": {},
   "outputs": [
    {
     "data": {
      "text/plain": [
       "'while(created_list):\\n    print(created_list.data)\\n    created_list = created_list.next'"
      ]
     },
     "execution_count": 6,
     "metadata": {},
     "output_type": "execute_result"
    }
   ],
   "source": [
    "lst=[1,2,2,4,5,6,7,8]\n",
    "k=4\n",
    "llist = create_list()\n",
    "created_list = llist.lin_list(lst,False,0)\n",
    "\"\"\"while(created_list):\n",
    "    print(created_list.data)\n",
    "    created_list = created_list.next\"\"\""
   ]
  },
  {
   "cell_type": "code",
   "execution_count": 7,
   "id": "69133e26",
   "metadata": {},
   "outputs": [],
   "source": [
    "class solution3:\n",
    "    def __init__(self):\n",
    "        pass\n",
    "        \n",
    "    def reverse(self,llist,k):\n",
    "        '''\n",
    "          Description :- This function will tkae the linked list and k.\n",
    "          It will reverse the linked list at every k position\n",
    "          :type llist:linked list\n",
    "          :type k : int\n",
    "        '''\n",
    "        try:\n",
    "            prev=   None\n",
    "            current = llist\n",
    "            next1  =None\n",
    "            count =0\n",
    "            \n",
    "            while(current is not None and count <k):\n",
    "                \n",
    "                next1 = current.next\n",
    "                current.next = prev\n",
    "                prev= current\n",
    "                current = next1\n",
    "                count +=1\n",
    "            \n",
    "            if next1 is not None:\n",
    "                llist.next = self.reverse(next1, k)  \n",
    "            \n",
    "            return prev\n",
    "            \n",
    "        except Exception as e:\n",
    "            print(\"error has occured \",e)\n",
    "\n"
   ]
  },
  {
   "cell_type": "code",
   "execution_count": 8,
   "id": "207ca923",
   "metadata": {},
   "outputs": [
    {
     "name": "stdout",
     "output_type": "stream",
     "text": [
      "4 2 2 1 8 7 6 5 "
     ]
    }
   ],
   "source": [
    "sol = solution3()  \n",
    "\n",
    "return_list = sol.reverse(created_list,k)\n",
    "ll = return_list\n",
    "while(ll is not None):\n",
    "    print(ll.data,end= \" \")\n",
    "    ll = ll.next\n"
   ]
  },
  {
   "cell_type": "code",
   "execution_count": null,
   "id": "cb062dec",
   "metadata": {},
   "outputs": [],
   "source": []
  },
  {
   "cell_type": "markdown",
   "id": "af639fcc",
   "metadata": {},
   "source": [
    "# <aside>  **Question 4**\n",
    "\n",
    "Given a linked list, write a function to reverse every alternate k nodes (where k is an input to the function) in an efficient way. Give the complexity of your algorithm.\n",
    "\n",
    "**Example:**\n",
    "Inputs:   1->2->3->4->5->6->7->8->9->NULL and k = 3\n",
    "    \n",
    "Output:   3->2->1->4->5->6->9->8->7->NULL.\n",
    "    \n",
    "</aside>"
   ]
  },
  {
   "cell_type": "code",
   "execution_count": 9,
   "id": "b3db3aed",
   "metadata": {},
   "outputs": [],
   "source": [
    "lst = [1,2,3,4,5,6,7,8,9]\n",
    "c_list = create_list()\n",
    "created_list = c_list.lin_list(lst,False,0)"
   ]
  },
  {
   "cell_type": "code",
   "execution_count": 10,
   "id": "0441028f",
   "metadata": {},
   "outputs": [],
   "source": [
    "class solution4:\n",
    "    def __init__(self):\n",
    "        pass\n",
    "    def reverse_list(self,llist,k):\n",
    "        '''\n",
    "            Description : This function will take the input of linked list anda return the reversed\n",
    "            :type llist: linked list\n",
    "            :type k : int\n",
    "        \n",
    "        '''\n",
    "        try:\n",
    "            if(llist is None):\n",
    "                return None\n",
    "            prev=None\n",
    "            current= llist\n",
    "            next1=None\n",
    "            count = 0\n",
    "            while(current is not None and count <k):\n",
    "                next1 = current.next\n",
    "                current.next= prev\n",
    "                prev = current\n",
    "                current = next1\n",
    "                count +=1\n",
    "            count =0\n",
    "            \n",
    "            if(llist != None):\n",
    "                llist.next = current\n",
    "                \n",
    "            while(current is not None and count <k):\n",
    "                current = current.next\n",
    "                count+=1\n",
    "                \n",
    "                \n",
    "            if(current is not None):\n",
    "                current.next = self.reverse_list(current.next,k)\n",
    "            return prev\n",
    "                \n",
    "        except Exception as e:\n",
    "            print(\"error has occure \",e)\n",
    "\n",
    "  "
   ]
  },
  {
   "cell_type": "code",
   "execution_count": 11,
   "id": "5b197e88",
   "metadata": {},
   "outputs": [
    {
     "name": "stdout",
     "output_type": "stream",
     "text": [
      "3 2 1 4 5 6 7 9 8 "
     ]
    }
   ],
   "source": [
    "sol =solution4()\n",
    "k=3\n",
    "return_list = sol.reverse_list(created_list,k)\n",
    "ll = return_list\n",
    "while(ll is not None):\n",
    "    print(ll.data,end= \" \")\n",
    "    ll = ll.next"
   ]
  },
  {
   "cell_type": "code",
   "execution_count": null,
   "id": "22d23b5b",
   "metadata": {},
   "outputs": [],
   "source": []
  },
  {
   "cell_type": "markdown",
   "id": "44ca52d0",
   "metadata": {},
   "source": [
    "# <aside>\n",
    " **Question 5**\n",
    "\n",
    "Given a linked list and a key to be deleted. Delete last occurrence of key from linked. The list may have duplicates.\n",
    "\n",
    "\n",
    "**Examples**:\n",
    "Input:   1->2->3->5->2->10, key = 2\n",
    "    \n",
    "Output:  1->2->3->5->10\n",
    "\n",
    "</aside>"
   ]
  },
  {
   "cell_type": "code",
   "execution_count": 12,
   "id": "077b058d",
   "metadata": {},
   "outputs": [],
   "source": [
    "class solution5:\n",
    "    def __init__(self):\n",
    "        pass\n",
    "    def delete_last(self,llist,num):\n",
    "        '''\n",
    "         Description :- This function will take the linked list and num.\n",
    "         It will delete the last occurance of the num in linked list\n",
    "         :type llist : Linked List\n",
    "         :type num : int\n",
    "         :rtype : linked list\n",
    "        '''\n",
    "        try:\n",
    "            slow_head = llist\n",
    "            fast_head = llist.next\n",
    "            found_node = None\n",
    "            while(fast_head is not None):\n",
    "                if(fast_head.data == num):\n",
    "                    found_node = slow_head\n",
    "                slow_head = slow_head.next\n",
    "                fast_head = fast_head.next\n",
    "            found_node.next = found_node.next.next\n",
    "            return llist\n",
    "            \n",
    "        except Exception as e:\n",
    "            print(\"error has occure \",e)\n",
    "\n"
   ]
  },
  {
   "cell_type": "code",
   "execution_count": 13,
   "id": "b10b4b61",
   "metadata": {},
   "outputs": [],
   "source": [
    "\n",
    "l_list = create_list()\n",
    "lst = [1,2,3,5,2,10]\n",
    "created_list = l_list.lin_list(lst,False,0)"
   ]
  },
  {
   "cell_type": "code",
   "execution_count": 14,
   "id": "e1d8dd2e",
   "metadata": {},
   "outputs": [
    {
     "name": "stdout",
     "output_type": "stream",
     "text": [
      "1 2 3 5 10 "
     ]
    }
   ],
   "source": [
    "sol = solution5()\n",
    "num = 2\n",
    "return_list = sol.delete_last(created_list,num)\n",
    "ll = return_list\n",
    "while(ll is not None):\n",
    "    print(ll.data,end= \" \")\n",
    "    ll = ll.next"
   ]
  },
  {
   "cell_type": "markdown",
   "id": "15d0dc80",
   "metadata": {},
   "source": [
    "# <aside>\n",
    " **Question 6**\n",
    "\n",
    "Given two sorted linked lists consisting of **N** and **M** nodes respectively. The task is to merge both of the lists (in place) and return the head of the merged list.\n",
    "\n",
    "**Examples:**\n",
    "\n",
    "Input: a: 5->10->15, b: 2->3->20\n",
    "\n",
    "Output: 2->3->5->10->15->20\n",
    "\n",
    "Input: a: 1->1, b: 2->4\n",
    "\n",
    "Output: 1->1->2->4\n",
    "\n",
    "</aside>"
   ]
  },
  {
   "cell_type": "code",
   "execution_count": 15,
   "id": "98ac580c",
   "metadata": {},
   "outputs": [],
   "source": [
    "class solution6:\n",
    "    def __init__(self):\n",
    "        pass\n",
    "    def merge_in_ll(self,llist1,llist2,m,n):\n",
    "        '''\n",
    "            Description: This function will take the input of two linked lists whose length are m and n.\n",
    "            It will return the merged the linked list in place\n",
    "        '''\n",
    "        try:\n",
    "            prev = None\n",
    "            p1 = llist1\n",
    "            p2 = llist2\n",
    "            \n",
    "            status= True\n",
    "            \n",
    "            while(p1 is not None):\n",
    "                \n",
    "                if(p1.data > p2.data):\n",
    "                    if(prev is None):\n",
    "                        \n",
    "                        next1 = p2.next\n",
    "                        p2.next = p1\n",
    "                        prev = p2\n",
    "                        p2 = next1\n",
    "                        llist1 = prev\n",
    "                       \n",
    "                    else:\n",
    "                        \n",
    "                        next1 = p2.next\n",
    "                        prev.next = p2\n",
    "                        p2.next = p1\n",
    "                        prev = prev.next\n",
    "                        p2 = next1\n",
    "                             \n",
    "                if(p2.data > p1.data ):\n",
    "                    \n",
    "                    prev =  p1\n",
    "                    p1 = p1.next\n",
    "                if(p2 is None):\n",
    "                    status = False\n",
    "                    break\n",
    "            \n",
    "            if(status):\n",
    "                while(p2 is not None):\n",
    "                    \n",
    "                    prev.next = p2\n",
    "                    prev = prev.next\n",
    "                    p2 = p2.next\n",
    "            return llist1\n",
    "            \n",
    "                    \n",
    "        except Exception as e:\n",
    "            print(\"error has occure \",e)\n",
    "\n"
   ]
  },
  {
   "cell_type": "code",
   "execution_count": 16,
   "id": "f58e26a8",
   "metadata": {},
   "outputs": [],
   "source": [
    "a = [5,10,15] \n",
    "b = [2,3,20]\n",
    "m=3\n",
    "n=3\n",
    "l_list = create_list()\n",
    "llist1 = l_list.lin_list(a,False,0)\n",
    "llist2 = l_list.lin_list(b,False,0)"
   ]
  },
  {
   "cell_type": "code",
   "execution_count": 17,
   "id": "94d9c895",
   "metadata": {},
   "outputs": [],
   "source": [
    "sol = solution6() \n",
    "return_list = sol.merge_in_ll(llist1,llist2,m,n)"
   ]
  },
  {
   "cell_type": "code",
   "execution_count": 18,
   "id": "a39b8237",
   "metadata": {},
   "outputs": [
    {
     "name": "stdout",
     "output_type": "stream",
     "text": [
      "2 3 5 10 15 20 "
     ]
    }
   ],
   "source": [
    "ll = return_list\n",
    "while(ll is not None):\n",
    "    print(ll.data,end= \" \")\n",
    "    ll = ll.next"
   ]
  },
  {
   "cell_type": "code",
   "execution_count": null,
   "id": "fc95391e",
   "metadata": {},
   "outputs": [],
   "source": []
  },
  {
   "cell_type": "markdown",
   "id": "5821e51e",
   "metadata": {},
   "source": [
    "# <aside> **Question 7**\n",
    "\n",
    "Given a **Doubly Linked List**, the task is to reverse the given Doubly Linked List.\n",
    "\n",
    "**Example:**\n",
    "\n",
    "Original Linked list 10 8 4 2\n",
    "Reversed Linked list 2 4 8 10    \n",
    "    \n",
    "</aside>"
   ]
  },
  {
   "cell_type": "code",
   "execution_count": 19,
   "id": "d738c746",
   "metadata": {},
   "outputs": [],
   "source": [
    "class Node:\n",
    " \n",
    "    # Constructor to create a new node\n",
    "    def __init__(self, data):\n",
    "        self.data = data\n",
    "        self.next = None\n",
    "        self.prev = None\n",
    "class DoublyLinkedList:\n",
    "     # Constructor for empty Doubly Linked List\n",
    "    def __init__(self):\n",
    "        self.head = None\n",
    "    def push(self, new_data):\n",
    " \n",
    "        # 1. Allocates node\n",
    "        # 2. Put the data in it\n",
    "        new_node = Node(new_data)\n",
    " \n",
    "        # 3. Make next of new node as head and\n",
    "        # previous as None (already None)\n",
    "        new_node.next = self.head\n",
    " \n",
    "        # 4. change prev of head node to new_node\n",
    "        if self.head is not None:\n",
    "            self.head.prev = new_node\n",
    " \n",
    "        # 5. move the head to point to the new node\n",
    "        self.head = new_node\n",
    "class Create_Double_linked_list:\n",
    "    def __init__(self):\n",
    "        pass\n",
    "    def lin_list(self,arr):\n",
    "        \"\"\"\n",
    "          Description : This function will take the input array to convert it into linked list, bol as boolean\n",
    "          to check whether it is circular linked list or not and pos at which it is circular\n",
    "          :type arr : list\n",
    "          :type bol : boolean\n",
    "          :type pos - int\n",
    "          \n",
    "        \"\"\"\n",
    "        try:\n",
    "            \n",
    "            llist = DoublyLinkedList()\n",
    "            n= len(arr)\n",
    "            \n",
    "            for i in range(n):\n",
    "                llist.push(arr[n-i-1])\n",
    "            \n",
    "            return llist.head\n",
    "        \n",
    "        except Exception as e:\n",
    "            print(\"error has occured\",e)\n",
    "    "
   ]
  },
  {
   "cell_type": "code",
   "execution_count": 20,
   "id": "15091716",
   "metadata": {},
   "outputs": [],
   "source": [
    "class solution7:\n",
    "    def __init__(self):\n",
    "        pass\n",
    "    def reverse_double_lin_list(self,llist):\n",
    "        '''\n",
    "           Deescription : this function will take the double linked list and return the reverse of it\n",
    "           :type llist : double linked list\n",
    "           :rtype : double linked list \n",
    "        '''\n",
    "        try:\n",
    "            temp =None\n",
    "            current = llist\n",
    "            while(current is not None):\n",
    "                temp = current.prev\n",
    "                current.prev = current.next\n",
    "                current.next = temp\n",
    "                current = current.prev\n",
    "            \n",
    "            if temp is not None:\n",
    "                llist = temp.prev\n",
    "            return llist\n",
    "                \n",
    "        except Exception as e:\n",
    "            print(\"error has occure \",e)\n",
    "\n"
   ]
  },
  {
   "cell_type": "code",
   "execution_count": 21,
   "id": "08e88e98",
   "metadata": {},
   "outputs": [],
   "source": [
    "lst = [10, 8, 4, 2]\n",
    "dl = Create_Double_linked_list()\n",
    "return_list = dl.lin_list(lst)\n"
   ]
  },
  {
   "cell_type": "code",
   "execution_count": 22,
   "id": "9799871c",
   "metadata": {},
   "outputs": [],
   "source": [
    "sol = solution7() \n",
    "final_list = sol.reverse_double_lin_list(return_list)"
   ]
  },
  {
   "cell_type": "code",
   "execution_count": 23,
   "id": "d2efe137",
   "metadata": {},
   "outputs": [
    {
     "name": "stdout",
     "output_type": "stream",
     "text": [
      "2 4 8 10 "
     ]
    }
   ],
   "source": [
    "ll = final_list\n",
    "while(ll is not None):\n",
    "    print(ll.data,end= \" \")\n",
    "    ll = ll.next\n",
    "    "
   ]
  },
  {
   "cell_type": "markdown",
   "id": "c3910c61",
   "metadata": {},
   "source": [
    "# <aside>\n",
    " **Question 8**\n",
    "\n",
    "Given a doubly linked list and a position. The task is to delete a node from given position in a doubly linked list.\n",
    "\n",
    "**Example 1:**\n",
    "\n",
    "Input:\n",
    "    \n",
    "LinkedList = 1 <--> 3 <--> 4\n",
    "\n",
    "x = 3\n",
    "\n",
    "Output:1 3\n",
    "    \n",
    "Explanation:After deleting the node at position 3 (position starts from 1), the linked list will be now as 1->3.\n",
    "\n",
    "Example 2:\n",
    "    \n",
    "Input: LinkedList = 1 <--> 5 <--> 2 <--> 9\n",
    "    \n",
    "x = 1\n",
    "\n",
    "Output:5 2 9\n",
    "\n",
    "\n",
    "</aside>"
   ]
  },
  {
   "cell_type": "code",
   "execution_count": 24,
   "id": "7054fdde",
   "metadata": {},
   "outputs": [],
   "source": [
    "class solution8:\n",
    "    def __init__(self):\n",
    "        pass\n",
    "    def delete_list(self,llist,num):\n",
    "        '''\n",
    "          Description : This function will take the input of linked list and num. It will delete the given position \n",
    "          return it\n",
    "          :type llist : Linked List\n",
    "          :type num : int\n",
    "          :rtype : linked List\n",
    "          \n",
    "        '''\n",
    "        try:\n",
    "            counter =1\n",
    "            current = llist\n",
    "            while(counter < pos):\n",
    "                current = current.next\n",
    "                counter+=1\n",
    "            if(current.next is None):\n",
    "                temp = current.prev\n",
    "                temp.next = None\n",
    "            else:\n",
    "                temp_prev = current.prev\n",
    "                temp_next = current.next\n",
    "                temp_prev.next = temp_next\n",
    "                temp_next.prev = temp_prev\n",
    "                \n",
    "            return llist\n",
    "                \n",
    "        except Exception as e:\n",
    "            print(\"error has occure \",e)\n",
    "\n",
    " "
   ]
  },
  {
   "cell_type": "code",
   "execution_count": 25,
   "id": "a7eab530",
   "metadata": {},
   "outputs": [],
   "source": [
    "lst = [1,3,4]\n",
    "dl = Create_Double_linked_list()\n",
    "return_list = dl.lin_list(lst)\n"
   ]
  },
  {
   "cell_type": "code",
   "execution_count": 26,
   "id": "0c21f4fa",
   "metadata": {},
   "outputs": [],
   "source": [
    "pos = 3\n",
    "sol = solution8()\n",
    "final_list = sol.delete_list(return_list,pos)"
   ]
  },
  {
   "cell_type": "code",
   "execution_count": 27,
   "id": "6bf1ccd4",
   "metadata": {},
   "outputs": [
    {
     "name": "stdout",
     "output_type": "stream",
     "text": [
      "1 3 "
     ]
    }
   ],
   "source": [
    "ll = final_list\n",
    "while(ll is not None):\n",
    "    print(ll.data,end= \" \")\n",
    "    ll = ll.next\n",
    "    "
   ]
  },
  {
   "cell_type": "code",
   "execution_count": null,
   "id": "176144c5",
   "metadata": {},
   "outputs": [],
   "source": []
  }
 ],
 "metadata": {
  "kernelspec": {
   "display_name": "Python 3 (ipykernel)",
   "language": "python",
   "name": "python3"
  },
  "language_info": {
   "codemirror_mode": {
    "name": "ipython",
    "version": 3
   },
   "file_extension": ".py",
   "mimetype": "text/x-python",
   "name": "python",
   "nbconvert_exporter": "python",
   "pygments_lexer": "ipython3",
   "version": "3.7.16"
  }
 },
 "nbformat": 4,
 "nbformat_minor": 5
}
