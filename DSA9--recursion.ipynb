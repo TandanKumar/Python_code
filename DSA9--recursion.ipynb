{
 "cells": [
  {
   "cell_type": "markdown",
   "id": "ea25ae66",
   "metadata": {},
   "source": [
    "# <aside> **Question 1**\n",
    "\n",
    "Given an integer `n`, return *`true` if it is a power of two. Otherwise, return `false`*.\n",
    "\n",
    "An integer `n` is a power of two, if there exists an integer `x` such that `n == 2x`.\n",
    "\n",
    "**Example 1:**\n",
    "Input: n = 1 \n",
    "\n",
    "Output: true\n",
    "\n",
    "**Example 2:**\n",
    "Input: n = 16 \n",
    "\n",
    "Output: true\n",
    "\n",
    "**Example 3:**\n",
    "Input: n = 3 \n",
    "\n",
    "Output: false\n",
    "\n",
    "</aside>"
   ]
  },
  {
   "cell_type": "code",
   "execution_count": 1,
   "id": "7b503a3e",
   "metadata": {},
   "outputs": [
    {
     "name": "stdout",
     "output_type": "stream",
     "text": [
      "True\n"
     ]
    }
   ],
   "source": [
    "class solution1:\n",
    "    def __init__(self):\n",
    "        pass\n",
    "    def is_power(self,n):\n",
    "        '''\n",
    "           Description:  This function will take the input of a number and  return true or false based on the power of 2\n",
    "           :type n :int\n",
    "           :rtype : bool\n",
    "        \n",
    "        '''\n",
    "        try:\n",
    "            if(n==1):\n",
    "                return True\n",
    "            if(n%2 != 0 or n==0):\n",
    "                return False\n",
    "            else:\n",
    "\n",
    "                return self.is_power(n//2)\n",
    "                \n",
    "                \n",
    "            \n",
    "        except Exception as e:\n",
    "            print(\"error has occure \",e)\n",
    "\n",
    "sol = solution1()  \n",
    "n=16\n",
    "print(sol.is_power(n))"
   ]
  },
  {
   "cell_type": "markdown",
   "id": "6fbe4cff",
   "metadata": {},
   "source": [
    "# <aside>  **Question 2**\n",
    "\n",
    "Given a number n, find the sum of the first natural numbers.\n",
    "\n",
    "**Example 1:**\n",
    "\n",
    "Input: n = 3 \n",
    "\n",
    "Output: 6\n",
    "\n",
    "**Example 2:**\n",
    "\n",
    "Input  : 5 \n",
    "\n",
    "Output : 15\n",
    "\n",
    "</aside>"
   ]
  },
  {
   "cell_type": "code",
   "execution_count": 2,
   "id": "d47551b7",
   "metadata": {},
   "outputs": [
    {
     "name": "stdout",
     "output_type": "stream",
     "text": [
      "15\n"
     ]
    }
   ],
   "source": [
    "class solution2:\n",
    "    def __init__(self):\n",
    "        pass\n",
    "    def sum_n(self,n):\n",
    "        '''\n",
    "            Description: This function will take the input a number and return it's sum of n natural numbers\n",
    "            :type n : int\n",
    "            :rtype : int\n",
    "        '''\n",
    "        try:\n",
    "            if(n==0 or n==1): \n",
    "                return n\n",
    "            else :\n",
    "                return (n+ self.sum_n(n-1))\n",
    "        except Exception as e:\n",
    "            print(\"error has occure \",e)\n",
    "\n",
    "sol = solution2()  \n",
    "n=5\n",
    "print(sol.sum_n(n))"
   ]
  },
  {
   "cell_type": "code",
   "execution_count": null,
   "id": "a76be820",
   "metadata": {},
   "outputs": [],
   "source": []
  },
  {
   "cell_type": "code",
   "execution_count": null,
   "id": "4a5da358",
   "metadata": {},
   "outputs": [],
   "source": []
  },
  {
   "cell_type": "markdown",
   "id": "9d88a0ac",
   "metadata": {},
   "source": [
    "# <aside>  **Question 3**\n",
    "\n",
    "****Given a positive integer, N. Find the factorial of N. \n",
    "\n",
    "**Example 1:**\n",
    "\n",
    "Input: N = 5 \n",
    "\n",
    "Output: 120\n",
    "\n",
    "**Example 2:**\n",
    "\n",
    "Input: N = 4\n",
    "\n",
    "Output: 24\n",
    "\n",
    "</aside>"
   ]
  },
  {
   "cell_type": "code",
   "execution_count": 3,
   "id": "655f9d66",
   "metadata": {},
   "outputs": [
    {
     "name": "stdout",
     "output_type": "stream",
     "text": [
      "720\n"
     ]
    }
   ],
   "source": [
    "class solution3:\n",
    "    def __init__(self):\n",
    "        pass\n",
    "    def factorial(self,n):\n",
    "        '''\n",
    "          Description : This function will take the input n and returns it's factorial\n",
    "          :type n: int\n",
    "          :rtype : int\n",
    "        '''\n",
    "        try:\n",
    "            if(n==0 or n==1): \n",
    "                return n\n",
    "            else :\n",
    "                return (n * self.factorial(n-1))\n",
    "        except Exception as e:\n",
    "            print(\"error has occure \",e)\n",
    "\n",
    "sol = solution3() \n",
    "n=6\n",
    "print(sol.factorial(n))"
   ]
  },
  {
   "cell_type": "code",
   "execution_count": null,
   "id": "2b7208c7",
   "metadata": {},
   "outputs": [],
   "source": []
  },
  {
   "cell_type": "markdown",
   "id": "f67cf6e6",
   "metadata": {},
   "source": [
    "# <aside>  **Question 4**\n",
    "\n",
    "Given a number N and a power P, the task is to find the exponent of this number raised to the given power, i.e. N^P.\n",
    "\n",
    "**Example 1 :** \n",
    "\n",
    "Input: N = 5, P = 2\n",
    "\n",
    "Output: 25\n",
    "\n",
    "**Example 2 :**\n",
    "Input: N = 2, P = 5\n",
    "\n",
    "Output: 32\n",
    "\n",
    "</aside>"
   ]
  },
  {
   "cell_type": "code",
   "execution_count": 4,
   "id": "6face242",
   "metadata": {},
   "outputs": [
    {
     "name": "stdout",
     "output_type": "stream",
     "text": [
      "625\n"
     ]
    }
   ],
   "source": [
    "class solution4:\n",
    "    def __init__(self):\n",
    "        pass\n",
    "    def power(self,n,p):\n",
    "        '''\n",
    "            Desription : This function will take the input n and p anr returns it n^p value\n",
    "            :type n : int\n",
    "            :type p : int\n",
    "            :rtype  : int\n",
    "        '''\n",
    "        try:\n",
    "            if(p==0):\n",
    "                return 1\n",
    "            if(p==1):\n",
    "                return n\n",
    "            else:\n",
    "                return n * self.power(n,p-1)\n",
    "        except Exception as e:\n",
    "            print(\"error has occure \",e)\n",
    "\n",
    "sol = solution4()  \n",
    "n=5\n",
    "p=4\n",
    "print(sol.power(n,p))"
   ]
  },
  {
   "cell_type": "code",
   "execution_count": null,
   "id": "2cc787d5",
   "metadata": {},
   "outputs": [],
   "source": []
  },
  {
   "cell_type": "markdown",
   "id": "8d1985f7",
   "metadata": {},
   "source": [
    "# <aside>  **Question 5**\n",
    "\n",
    "Given an array of integers **arr**, the task is to find maximum element of that array using recursion.\n",
    "\n",
    "**Example 1:**\n",
    "\n",
    "Input: arr = {1, 4, 3, -5, -4, 8, 6};\n",
    "Output: 8\n",
    "\n",
    "**Example 2:**\n",
    "\n",
    "Input: arr = {1, 4, 45, 6, 10, -8};\n",
    "Output: 45\n",
    "\n",
    "</aside>"
   ]
  },
  {
   "cell_type": "code",
   "execution_count": 5,
   "id": "7e4d0387",
   "metadata": {},
   "outputs": [
    {
     "name": "stdout",
     "output_type": "stream",
     "text": [
      "8\n"
     ]
    }
   ],
   "source": [
    "class solution5:\n",
    "    def __init__(self):\n",
    "        pass\n",
    "    def max_no(self,arr):\n",
    "        '''\n",
    "            Description : It takes the input of an array and returns the max value by recursion.\n",
    "            :type arr : list[int]\n",
    "            :rtype : int\n",
    "        '''\n",
    "        try:\n",
    "            if(len(arr) ==0):\n",
    "                return 0\n",
    "            if(len(arr) ==1):\n",
    "                return arr[0]\n",
    "            else:\n",
    "                \n",
    "                temp = arr.pop()\n",
    "                \n",
    "                value = (self.max_no((arr)))\n",
    "               \n",
    "                if(temp > value):\n",
    "                    return temp\n",
    "                else:\n",
    "                    return value\n",
    "                \n",
    "        except Exception as e:\n",
    "            print(\"error has occure \",e)\n",
    "\n",
    "sol = solution5()  \n",
    "arr =  [1, 4, 3, -5, -4, 8, 6]\n",
    "print(sol.max_no(arr))"
   ]
  },
  {
   "cell_type": "markdown",
   "id": "490fa72e",
   "metadata": {},
   "source": [
    "# <aside>  **Question 6**\n",
    "\n",
    "Given first term (a), common difference (d) and a integer N of the Arithmetic Progression series, the task is to find Nth term of the series.\n",
    "\n",
    "**Example 1:**\n",
    "\n",
    "Input : a = 2 d = 1 N = 5\n",
    "Output : 6\n",
    "The 5th term of the series is : 6\n",
    "\n",
    "**Example 2:**\n",
    "\n",
    "Input : a = 5 d = 2 N = 10\n",
    "Output : 23\n",
    "The 10th term of the series is : 23\n",
    "\n",
    "</aside>"
   ]
  },
  {
   "cell_type": "code",
   "execution_count": 6,
   "id": "3d05f53a",
   "metadata": {},
   "outputs": [
    {
     "name": "stdout",
     "output_type": "stream",
     "text": [
      "23\n"
     ]
    }
   ],
   "source": [
    "class solution6:\n",
    "    def __init__(self):\n",
    "        pass\n",
    "    def find_nth(self,a,d,n):\n",
    "        '''\n",
    "          Description: It will take the input of a,d ,n and return the nth term of the series with difference d\n",
    "          :type a : int\n",
    "          :type d : int\n",
    "          :type n : int\n",
    "          :rtype : int\n",
    "        '''\n",
    "        try:\n",
    "            \n",
    "            if(n==0):\n",
    "                return None\n",
    "            if(n==1):\n",
    "                return a \n",
    "            if(n >=2):\n",
    "                return ( d + self.find_nth(a,d,n-1))\n",
    "                \n",
    "                \n",
    "            \n",
    "        except Exception as e:\n",
    "            print(\"error has occure \",e)\n",
    "\n",
    "sol = solution6()  \n",
    "a = 5 \n",
    "d = 2\n",
    "N = 10\n",
    "print(sol.find_nth(a,d,N))"
   ]
  },
  {
   "cell_type": "code",
   "execution_count": null,
   "id": "90fc3c83",
   "metadata": {},
   "outputs": [],
   "source": []
  },
  {
   "cell_type": "code",
   "execution_count": null,
   "id": "8674d79b",
   "metadata": {},
   "outputs": [],
   "source": []
  },
  {
   "cell_type": "markdown",
   "id": "6c104b34",
   "metadata": {},
   "source": [
    "# <aside>  **Question 7**\n",
    "\n",
    "Given a string S, the task is to write a program to print all permutations of a given string.\n",
    "\n",
    "**Example 1:**\n",
    "\n",
    "***Input:***\n",
    "\n",
    "*S = “ABC”*\n",
    "\n",
    "***Output:***\n",
    "\n",
    "*“ABC”, “ACB”, “BAC”, “BCA”, “CBA”, “CAB”*\n",
    "\n",
    "**Example 2:**\n",
    "\n",
    "***Input:***\n",
    "\n",
    "*S = “XY”*\n",
    "\n",
    "***Output:***\n",
    "\n",
    "*“XY”, “YX”*\n",
    "\n",
    "</aside>"
   ]
  },
  {
   "cell_type": "code",
   "execution_count": 7,
   "id": "b436c24c",
   "metadata": {},
   "outputs": [
    {
     "name": "stdout",
     "output_type": "stream",
     "text": [
      "xyz\n",
      "xzy\n",
      "yxz\n",
      "yzx\n",
      "zyx\n",
      "zxy\n"
     ]
    }
   ],
   "source": [
    "class solution7:\n",
    "    def __init__(self):\n",
    "        pass\n",
    "    def perm(self,s,l,r):\n",
    "        '''\n",
    "         Description: this function will take the input of a list of chars and return the permutaions of it\n",
    "         :type s : string\n",
    "         :rtype : string\n",
    "        '''\n",
    "        try:\n",
    "            \n",
    "            if l == r:\n",
    "                print (''.join(s))\n",
    "            else:\n",
    "                for i in range(l, r):\n",
    "                    s[l], s[i] = s[i], s[l]\n",
    "                    self.perm(s, l+1, r)\n",
    "                    #ls += [(self.perm(s, l+1, r))]\n",
    "                    s[l], s[i] = s[i], s[l]\n",
    "                   \n",
    "        except Exception as e:\n",
    "            print(\"error has occure \",e)\n",
    "\n",
    "sol = solution7()  \n",
    "s= \"xyz\"\n",
    "ls = list(s)\n",
    "\n",
    "sol.perm(ls,0,len(ls))"
   ]
  },
  {
   "cell_type": "markdown",
   "id": "c0ae9657",
   "metadata": {},
   "source": [
    "# <aside>  **Question 8**\n",
    "\n",
    "Given an array, find a product of all array elements.\n",
    "\n",
    "**Example 1:**\n",
    "\n",
    "Input  : arr[] = {1, 2, 3, 4, 5}\n",
    "Output : 120\n",
    "**Example 2:**\n",
    "\n",
    "Input  : arr[] = {1, 6, 3}\n",
    "Output : 18\n",
    "\n",
    "</aside>"
   ]
  },
  {
   "cell_type": "code",
   "execution_count": 8,
   "id": "f0ecd5cd",
   "metadata": {},
   "outputs": [
    {
     "name": "stdout",
     "output_type": "stream",
     "text": [
      "120\n"
     ]
    }
   ],
   "source": [
    "class solution8:\n",
    "    def __init__(self):\n",
    "        pass\n",
    "    def product_array(self,arr):\n",
    "        '''\n",
    "        This function will take the array of elements and return the product of all elements\n",
    "        :type arr: list[int]\n",
    "        :rtype: int\n",
    "        \n",
    "        '''\n",
    "        try:\n",
    "            if(len(arr) ==0):\n",
    "                return None\n",
    "            if(len(arr) ==1):\n",
    "                return arr[0]\n",
    "            else:\n",
    "                value= arr.pop()\n",
    "                return value * self.product_array(arr)\n",
    "            \n",
    "        except Exception as e:\n",
    "            print(\"error has occure \",e)\n",
    "\n",
    "sol = solution8() \n",
    "arr = [1, 2, 3, 4, 5]\n",
    "print(sol.product_array(arr))"
   ]
  },
  {
   "cell_type": "code",
   "execution_count": null,
   "id": "f23dfcb7",
   "metadata": {},
   "outputs": [],
   "source": []
  }
 ],
 "metadata": {
  "kernelspec": {
   "display_name": "Python 3 (ipykernel)",
   "language": "python",
   "name": "python3"
  },
  "language_info": {
   "codemirror_mode": {
    "name": "ipython",
    "version": 3
   },
   "file_extension": ".py",
   "mimetype": "text/x-python",
   "name": "python",
   "nbconvert_exporter": "python",
   "pygments_lexer": "ipython3",
   "version": "3.7.16"
  }
 },
 "nbformat": 4,
 "nbformat_minor": 5
}
