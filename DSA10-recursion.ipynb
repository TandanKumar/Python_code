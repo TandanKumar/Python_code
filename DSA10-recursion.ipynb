{
 "cells": [
  {
   "cell_type": "markdown",
   "id": "f1c386ad",
   "metadata": {},
   "source": [
    "# <aside> **Question 1**\n",
    "\n",
    "Given an integer `n`, return *`true` if it is a power of three. Otherwise, return `false`*.\n",
    "\n",
    "An integer `n` is a power of three, if there exists an integer `x` such that `n == 3x`.\n",
    "\n",
    "**Example 1:**\n",
    "\n",
    "```\n",
    "Input: n = 27\n",
    "Output: true\n",
    "Explanation: 27 = 33\n",
    "```\n",
    "\n",
    "**Example 2:**\n",
    "\n",
    "```\n",
    "Input: n = 0\n",
    "Output: false\n",
    "Explanation: There is no x where 3x = 0.\n",
    "\n",
    "```\n",
    "\n",
    "**Example 3:**\n",
    "\n",
    "</aside>"
   ]
  },
  {
   "cell_type": "code",
   "execution_count": 1,
   "id": "172cae7f",
   "metadata": {},
   "outputs": [
    {
     "name": "stdout",
     "output_type": "stream",
     "text": [
      "True\n"
     ]
    }
   ],
   "source": [
    "class solution1:\n",
    "    def __init__(self):\n",
    "        pass\n",
    "    def is_power_3(self,n) -> int:\n",
    "        '''\n",
    "            This function will take the input of integer n and return TRue if it is a power of 3 and false if not \n",
    "        \n",
    "        '''\n",
    "        try:\n",
    "            if(n==1):\n",
    "                return True\n",
    "            if(n%3 != 0 or n==0):\n",
    "                return False\n",
    "            else:\n",
    "\n",
    "                return self.is_power_3(n//3)\n",
    "        except Exception as e:\n",
    "            print(\"error has occure \",e)\n",
    "\n",
    "sol = solution1()\n",
    "n=81\n",
    "\n",
    "print(sol.is_power_3(n))"
   ]
  },
  {
   "cell_type": "code",
   "execution_count": null,
   "id": "2243a152",
   "metadata": {},
   "outputs": [],
   "source": []
  },
  {
   "cell_type": "code",
   "execution_count": null,
   "id": "0c6840db",
   "metadata": {},
   "outputs": [],
   "source": []
  },
  {
   "cell_type": "markdown",
   "id": "d48477d7",
   "metadata": {},
   "source": [
    "# <aside> **Question 2**\n",
    "\n",
    "You have a list `arr` of all integers in the range `[1, n]` sorted in a strictly increasing order. Apply the following algorithm on `arr`:\n",
    "\n",
    "- Starting from left to right, remove the first number and every other number afterward until you reach the end of the list.\n",
    "- Repeat the previous step again, but this time from right to left, remove the rightmost number and every other number from the remaining numbers.\n",
    "- Keep repeating the steps again, alternating left to right and right to left, until a single number remains.\n",
    "\n",
    "Given the integer `n`, return *the last number that remains in* `arr`.\n",
    "\n",
    "**Example 1:**\n",
    "\n",
    "```\n",
    "Input: n = 9\n",
    "Output: 6\n",
    "Explanation:\n",
    "arr = [1, 2,3, 4,5, 6,7, 8,9]\n",
    "arr = [2,4, 6,8]\n",
    "arr = [2, 6]\n",
    "arr = [6]\n",
    "\n",
    "```\n",
    "\n",
    "**Example 2:**\n",
    "\n",
    "</aside>"
   ]
  },
  {
   "cell_type": "code",
   "execution_count": 2,
   "id": "67b2abaf",
   "metadata": {},
   "outputs": [
    {
     "name": "stdout",
     "output_type": "stream",
     "text": [
      "2\n"
     ]
    }
   ],
   "source": [
    "class solution2:\n",
    "    def __init__(self):\n",
    "        pass\n",
    "    def array_last(self,n)->int:\n",
    "        '''\n",
    "            Description : This function will take the input of a list and return the last number\n",
    "        \n",
    "        '''\n",
    "        try:\n",
    "            if(n == 1):\n",
    "                return 1\n",
    "        \n",
    "            return 2 * ((n // 2 - self.array_last(n // 2)) + 1)\n",
    "                \n",
    "        except Exception as e:\n",
    "            print(\"error has occure \",e)\n",
    "\n",
    "sol = solution2()  \n",
    "n=2\n",
    "print(sol.array_last(n))"
   ]
  },
  {
   "cell_type": "code",
   "execution_count": null,
   "id": "e528687a",
   "metadata": {},
   "outputs": [],
   "source": []
  },
  {
   "cell_type": "markdown",
   "id": "88a81309",
   "metadata": {},
   "source": [
    "# <aside> **Question 3**\n",
    "\n",
    "****Given a set represented as a string, write a recursive code to print all subsets of it. The subsets can be printed in any order.\n",
    "\n",
    "**Example 1:**\n",
    "\n",
    "Input :  set = “abc”\n",
    "\n",
    "Output : { “”, “a”, “b”, “c”, “ab”, “ac”, “bc”, “abc”}\n",
    "\n",
    "**Example 2:**\n",
    "\n",
    "Input : set = “abcd”\n",
    "\n",
    "Output : { “”, “a” ,”ab” ,”abc” ,”abcd”, “abd” ,”ac” ,”acd”, “ad” ,”b”, “bc” ,”bcd” ,”bd” ,”c” ,”cd” ,”d” }\n",
    "\n",
    "</aside>"
   ]
  },
  {
   "cell_type": "code",
   "execution_count": 4,
   "id": "8972d24c",
   "metadata": {},
   "outputs": [
    {
     "name": "stdout",
     "output_type": "stream",
     "text": [
      "['a', '', 'ac', 'c', 'ab', 'b', 'abc', 'bc']\n"
     ]
    }
   ],
   "source": [
    "class solution3:\n",
    "    def __init__(self):\n",
    "        pass\n",
    "    def list_string1(self,s,lst):\n",
    "        '''\n",
    "            Description: this function will take the input a string and return its all subsets\n",
    "            :type s: string\n",
    "            :type lst: list\n",
    "            :rtype: list\n",
    "        \n",
    "        '''\n",
    "        if(len(s)==0):\n",
    "            return lst\n",
    "    \n",
    "        if(len(s) >=1):\n",
    "            if(len(lst) ==0):\n",
    "                return_list =[]\n",
    "                return_list.append(s[0])\n",
    "                return_list.append('')\n",
    "                return_list = (self.list_string1(s[1:],return_list))\n",
    "                return return_list\n",
    "\n",
    "            \n",
    "            else:\n",
    "                lst1 =[]\n",
    "                lst2 =[]\n",
    "                for i in range(len(lst)):\n",
    "                    lst1.append(lst[i])\n",
    "                    lst2.append(str(lst[i]) +s[0])\n",
    "                new_lst_1 = self.list_string1(s[1:],lst1)\n",
    "                new_lst_2 = self.list_string1(s[1:],lst2)\n",
    "                return_list_1 = new_lst_1 + new_lst_2\n",
    "                return new_lst_1+new_lst_2\n",
    "            \n",
    "\n",
    "sol = solution3() \n",
    "s = 'abc'\n",
    "lst=[]\n",
    "print(sol.list_string1(s,lst))\n"
   ]
  },
  {
   "cell_type": "markdown",
   "id": "8e750ae5",
   "metadata": {},
   "source": [
    "# <aside> **Question 4**\n",
    "\n",
    "Given a string calculate length of the string using recursion.\n",
    "\n",
    "**Examples:**\n",
    "    Input : str = \"abcd\"\n",
    "Output :4\n",
    "\n",
    "Input : str = \"GEEKSFORGEEKS\"\n",
    "Output :13\n",
    "\n",
    "</aside>"
   ]
  },
  {
   "cell_type": "code",
   "execution_count": 5,
   "id": "b47b0a9f",
   "metadata": {},
   "outputs": [
    {
     "name": "stdout",
     "output_type": "stream",
     "text": [
      "13\n"
     ]
    }
   ],
   "source": [
    "class solution4:\n",
    "    def __init__(self):\n",
    "        pass\n",
    "    def length_str(self,s):\n",
    "        '''\n",
    "          Description: This function takes input of string and returns it's count\n",
    "          :type s : string\n",
    "          :rtype : int\n",
    "        '''\n",
    "        try:\n",
    "            if(len(s)==0):\n",
    "                return None\n",
    "            if(len(s) ==1):\n",
    "                return 1\n",
    "            return 1+self.length_str(s[1:])\n",
    "            \n",
    "        except Exception as e:\n",
    "            print(\"error has occure \",e)\n",
    "\n",
    "sol = solution4()\n",
    "s = \"GEEKSFORGEEKS\"\n",
    "print(sol.length_str(s))"
   ]
  },
  {
   "cell_type": "code",
   "execution_count": null,
   "id": "af472352",
   "metadata": {},
   "outputs": [],
   "source": []
  },
  {
   "cell_type": "code",
   "execution_count": null,
   "id": "a3d4e4ef",
   "metadata": {},
   "outputs": [],
   "source": []
  },
  {
   "cell_type": "markdown",
   "id": "3aa1a34f",
   "metadata": {},
   "source": [
    "# <aside> **Question 5**\n",
    "\n",
    "We are given a string S, we need to find count of all contiguous substrings starting and ending with same character.\n",
    "\n",
    "**Examples :**\n",
    "\n",
    "    Input  : S = \"abcab\"\n",
    "Output : 7\n",
    "There are 15 substrings of \"abcab\"\n",
    "a, ab, abc, abca, abcab, b, bc, bca\n",
    "bcab, c, ca, cab, a, ab, b\n",
    "Out of the above substrings, there\n",
    "are 7 substrings : a, abca, b, bcab,\n",
    "c, a and b.\n",
    "\n",
    "Input  : S = \"aba\"\n",
    "Output : 4\n",
    "The substrings are a, b, a and aba\n",
    "</aside>"
   ]
  },
  {
   "cell_type": "code",
   "execution_count": 6,
   "id": "cee01706",
   "metadata": {},
   "outputs": [
    {
     "name": "stdout",
     "output_type": "stream",
     "text": [
      "['abca', 'bcab', 'a', 'b', 'c', 'a', 'b']\n"
     ]
    }
   ],
   "source": [
    "class solution5:\n",
    "    def __init__(self):\n",
    "        pass\n",
    "    def contiguous_sub_string(self,s,n):\n",
    "        '''\n",
    "          This function will take the input of a string and return all the contiguos substring\n",
    "          :type s : string\n",
    "          :rtype : list\n",
    "          \n",
    "        '''\n",
    "        try:\n",
    "            return_list = []\n",
    "   \n",
    "            if(len(s) == 0):\n",
    "                return s\n",
    "            if(n>0):\n",
    "                for i in range(len(s)):\n",
    "                    j= i+n-1\n",
    "                    if(j<len(s)):\n",
    "                        if(s[i] == s[j]):\n",
    "                            if(i!=j):\n",
    "                                return_list.append(s[i:j+1])\n",
    "                            else:\n",
    "                                return_list.append(s[i])\n",
    "        \n",
    "                return_list.extend(self.contiguous_sub_string(s,n-1))\n",
    "    \n",
    "        \n",
    "                \n",
    "        \n",
    "            return return_list\n",
    "        except Exception as e:\n",
    "            print(\"error has occure \",e)\n",
    "\n",
    "sol = solution5()\n",
    "s = \"abcab\"\n",
    "print(sol.contiguous_sub_string(s,len(s)))"
   ]
  },
  {
   "cell_type": "markdown",
   "id": "7b327f35",
   "metadata": {},
   "source": [
    "# <aside>  **Question 6**\n",
    "\n",
    "The [tower of Hanoi](https://en.wikipedia.org/wiki/Tower_of_Hanoi) is a famous puzzle where we have three rods and **N** disks. The objective of the puzzle is to move the entire stack to another rod. You are given the number of discs **N**. Initially, these discs are in the rod 1. You need to print all the steps of discs movement so that all the discs reach the 3rd rod. Also, you need to find the total moves.**Note:** The discs are arranged such that the **top disc is numbered 1** and the **bottom-most disc is numbered N**. Also, all the discs have **different sizes** and a bigger disc **cannot** be put on the top of a smaller disc. Refer the provided link to get a better clarity about the puzzle.\n",
    "\n",
    "**Example 1:**\n",
    "\n",
    "```\n",
    "Input:\n",
    "N = 2\n",
    "Output:\n",
    "move disk 1 from rod 1 to rod 2\n",
    "move disk 2 from rod 1 to rod 3\n",
    "move disk 1 from rod 2 to rod 3\n",
    "3\n",
    "Explanation:For N=2 , steps will be\n",
    "as follows in the example and total\n",
    "3 steps will be taken.\n",
    "```\n",
    "\n",
    "**Example 2:**\n",
    "Input:\n",
    "N = 3\n",
    "Output:\n",
    "move disk 1 from rod 1 to rod 3\n",
    "move disk 2 from rod 1 to rod 2\n",
    "move disk 1 from rod 3 to rod 2\n",
    "move disk 3 from rod 1 to rod 3\n",
    "move disk 1 from rod 2 to rod 1\n",
    "move disk 2 from rod 2 to rod 3\n",
    "move disk 1 from rod 1 to rod 3\n",
    "7\n",
    "Explanation:For N=3 , steps will be\n",
    "as follows in the example and total\n",
    "7 steps will be taken.\n",
    "</aside>"
   ]
  },
  {
   "cell_type": "code",
   "execution_count": 7,
   "id": "1493665b",
   "metadata": {},
   "outputs": [
    {
     "name": "stdout",
     "output_type": "stream",
     "text": [
      "Move disk 1 from rod A to rod B\n",
      "Move disk 2 from rod A to rod C\n",
      "Move disk 1 from rod B to rod C\n",
      "Move disk 3 from rod A to rod B\n",
      "Move disk 1 from rod C to rod A\n",
      "Move disk 2 from rod C to rod B\n",
      "Move disk 1 from rod A to rod B\n"
     ]
    }
   ],
   "source": [
    "class solution6:\n",
    "    def __init__(self):\n",
    "        pass\n",
    "    def tower_of_Hanoi(self,n, from_rod, to_rod, aux_rod):\n",
    "        '''\n",
    "        This function wil take the input n and rods name and return the moves for tower of hanoi\n",
    "        :type n: number \n",
    "        :type from_rod, to_rod, aux_rod: Char\n",
    "        :rtype : none\n",
    "        '''\n",
    "        try:\n",
    "            \n",
    "            if n == 0:\n",
    "                return\n",
    "            self.tower_of_Hanoi(n-1, from_rod, aux_rod, to_rod)\n",
    "            print(\"Move disk\", n, \"from rod\", from_rod, \"to rod\", to_rod)\n",
    "            self.tower_of_Hanoi(n-1, aux_rod, to_rod, from_rod)\n",
    "            pass\n",
    "  \n",
    "\n",
    "        except Exception as e:\n",
    "            print(\"error has occure \",e)\n",
    "\n",
    "sol = solution6()  \n",
    "n=3\n",
    "sol.tower_of_Hanoi(n,'A','B','C')"
   ]
  },
  {
   "cell_type": "markdown",
   "id": "1f4d99be",
   "metadata": {},
   "source": [
    "# <aside> **Question 7**\n",
    "\n",
    "Given a string **str**, the task is to print all the permutations of **str**. A **permutation** is an arrangement of all or part of a set of objects, with regard to the order of the arrangement. For instance, the words ‘bat’ and ‘tab’ represents two distinct permutation (or arrangements) of a similar three letter word.\n",
    "\n",
    "**Examples:**\n",
    "\n",
    "> Input: str = “cd”\n",
    "> \n",
    "> \n",
    "> **Output:** cd dc\n",
    "> \n",
    "> **Input:** str = “abb”\n",
    "> \n",
    "> **Output:** abb abb bab bba bab bba\n",
    "> \n",
    "</aside>"
   ]
  },
  {
   "cell_type": "code",
   "execution_count": 8,
   "id": "e11dc1f9",
   "metadata": {},
   "outputs": [
    {
     "name": "stdout",
     "output_type": "stream",
     "text": [
      "['abcd', 'abdc', 'acbd', 'acdb', 'adbc', 'adcb', 'bacd', 'badc', 'bcad', 'bcda', 'bdac', 'bdca', 'cabd', 'cadb', 'cbad', 'cbda', 'cdab', 'cdba', 'dabc', 'dacb', 'dbac', 'dbca', 'dcab', 'dcba']\n"
     ]
    }
   ],
   "source": [
    "class solution7:\n",
    "    def __init__(self):\n",
    "        pass\n",
    "    def permutation_string(self,s)-> list:\n",
    "        '''\n",
    "            Description: This func will take the input of s and return its permutation\n",
    "            :type s : string\n",
    "            :rtype : lst\n",
    "        '''\n",
    "        try:\n",
    "            if(len(s) ==0 or len(s)==1):\n",
    "                return s\n",
    "            else:\n",
    "                return_list =[]\n",
    "                for i in range(len(s)):\n",
    "                    temp = s[i]\n",
    "                    new_s = s[0:i]+s[i+1:]\n",
    "                    lst = self.permutation_string(new_s)\n",
    "                    for val in lst:\n",
    "                        return_list.append(temp + val)\n",
    "                return return_list\n",
    "            \n",
    "        except Exception as e:\n",
    "            print(\"error has occure \",e)\n",
    "\n",
    "sol = solution7()\n",
    "s = 'abcd'\n",
    "print(sol.permutation_string(s))"
   ]
  },
  {
   "cell_type": "markdown",
   "id": "c7fb5966",
   "metadata": {},
   "source": [
    "# <aside> **Question 8**\n",
    "\n",
    "Given a string, count total number of consonants in it. A consonant is an English alphabet character that is not vowel (a, e, i, o and u). Examples of constants are b, c, d, f, and g.\n",
    "\n",
    "**Examples :**\n",
    "    \n",
    "    Input : abc de\n",
    "Output : 3\n",
    "There are three consonants b, c and d.\n",
    "\n",
    "Input : geeksforgeeks portal\n",
    "Output : 12\n",
    "\n",
    "</aside>"
   ]
  },
  {
   "cell_type": "code",
   "execution_count": 9,
   "id": "1a74f63d",
   "metadata": {},
   "outputs": [
    {
     "name": "stdout",
     "output_type": "stream",
     "text": [
      "3\n"
     ]
    }
   ],
   "source": [
    "class solution8:\n",
    "    def __init__(self):\n",
    "        pass\n",
    "    def no_constants(self,s):\n",
    "        '''\n",
    "           Description: This function will take the input of string s and returns number of constants\n",
    "           :type s : string\n",
    "           :rtype : int\n",
    "        '''\n",
    "        try:\n",
    "            if(len(s) ==0):\n",
    "                return 0\n",
    "            if(len(s) >=1):\n",
    "                temp = s[0]\n",
    "                temp = temp.lower()\n",
    "                if (temp in ['a','e','i','o','u'] or (not(temp.isalpha()))):\n",
    "                    \n",
    "                    return 0+self.no_constants(s[1:])\n",
    "                else:\n",
    "                    return 1+self.no_constants(s[1:])\n",
    "                \n",
    "        except Exception as e:\n",
    "            print(\"error has occure \",e)\n",
    "\n",
    "sol = solution8()\n",
    "s = 'abc de'\n",
    "print(sol.no_constants(s))"
   ]
  },
  {
   "cell_type": "code",
   "execution_count": null,
   "id": "19f5f363",
   "metadata": {},
   "outputs": [],
   "source": []
  }
 ],
 "metadata": {
  "kernelspec": {
   "display_name": "Python 3 (ipykernel)",
   "language": "python",
   "name": "python3"
  },
  "language_info": {
   "codemirror_mode": {
    "name": "ipython",
    "version": 3
   },
   "file_extension": ".py",
   "mimetype": "text/x-python",
   "name": "python",
   "nbconvert_exporter": "python",
   "pygments_lexer": "ipython3",
   "version": "3.7.16"
  }
 },
 "nbformat": 4,
 "nbformat_minor": 5
}
