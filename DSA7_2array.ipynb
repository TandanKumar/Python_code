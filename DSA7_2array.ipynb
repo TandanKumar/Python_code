{
 "cells": [
  {
   "cell_type": "markdown",
   "id": "d7293826",
   "metadata": {},
   "source": [
    "# <aside> **Question 1**\n",
    "\n",
    "Given two strings s and t, *determine if they are isomorphic*.\n",
    "\n",
    "Two strings s and t are isomorphic if the characters in s can be replaced to get t.\n",
    "\n",
    "All occurrences of a character must be replaced with another character while preserving the order of characters. No two characters may map to the same character, but a character may map to itself.\n",
    "\n",
    "**Example 1:**\n",
    "\n",
    "**Input:** s = \"egg\", t = \"add\"\n",
    "\n",
    "**Output:** true\n",
    "\n",
    "</aside>"
   ]
  },
  {
   "cell_type": "code",
   "execution_count": 11,
   "id": "93a76adf",
   "metadata": {},
   "outputs": [
    {
     "name": "stdout",
     "output_type": "stream",
     "text": [
      "True\n"
     ]
    }
   ],
   "source": [
    "from collections import Counter\n",
    "class solution1:\n",
    "    def __init__(self):\n",
    "        pass\n",
    "    def is_isomorphic(self,s1,s2):\n",
    "        '''\n",
    "            This function two inputs of string and return true if both are is isomorphic\n",
    "            :type s1 : strint('char')\n",
    "            :type s2 : strint('char')\n",
    "            :rtype   : Boolean\n",
    "        \n",
    "        '''\n",
    "        try:\n",
    "            counter1 = Counter(s1)\n",
    "            counter2 = Counter(s2)\n",
    "            if((len(counter1.items()) == len(counter2.items()))  and (sum(counter1.values())  == sum(counter2.values()) )  ):\n",
    "                return True\n",
    "            return False\n",
    "            \n",
    "            \n",
    "            \n",
    "        except Exception as e:\n",
    "            print(\"error has occure \",e)\n",
    "\n",
    "sol = solution1()  \n",
    "s = \"egg\"\n",
    "t = \"add\"\n",
    "print(sol.is_isomorphic(s,t))"
   ]
  },
  {
   "cell_type": "code",
   "execution_count": 12,
   "id": "3e255341",
   "metadata": {},
   "outputs": [
    {
     "name": "stdout",
     "output_type": "stream",
     "text": [
      "False\n"
     ]
    }
   ],
   "source": [
    "s = \"foo\"\n",
    "t = \"bar\"\n",
    "print(sol.is_isomorphic(s,t))"
   ]
  },
  {
   "cell_type": "code",
   "execution_count": null,
   "id": "b23fd2fa",
   "metadata": {},
   "outputs": [],
   "source": []
  },
  {
   "cell_type": "markdown",
   "id": "76b105b5",
   "metadata": {},
   "source": [
    "# <aside> **Question 2**\n",
    "\n",
    "Given a string num which represents an integer, return true *if* num *is a **strobogrammatic number***.\n",
    "\n",
    "A **strobogrammatic number** is a number that looks the same when rotated 180 degrees (looked at upside down).\n",
    "\n",
    "**Example 1:**\n",
    "\n",
    "**Input:** num = \"69\"\n",
    "\n",
    "**Output:**\n",
    "\n",
    "true\n",
    "\n",
    "</aside>"
   ]
  },
  {
   "cell_type": "code",
   "execution_count": 21,
   "id": "f82dc331",
   "metadata": {},
   "outputs": [
    {
     "name": "stdout",
     "output_type": "stream",
     "text": [
      "True\n"
     ]
    }
   ],
   "source": [
    "class solution2:\n",
    "    def __init__(self):\n",
    "        pass\n",
    "    def is_strobogrammatic(self,num):\n",
    "        '''\n",
    "            This function will take the input string and check whether the digits are strobogrammatic char\n",
    "            :type num : int\n",
    "            :rtype : bool\n",
    "        '''\n",
    "        try:\n",
    "            dic_str = {'0':'0','1':'1','8':'8','6':'9','9':'6'}\n",
    "            m,n = num[1],num[0]\n",
    "            if(dic_str[m] == n):\n",
    "                return True\n",
    "            else:\n",
    "                return False\n",
    "            \n",
    "        except Exception as e:\n",
    "            print(\"error has occure \",e)\n",
    "\n",
    "sol = solution2()\n",
    "n=\"96\"\n",
    "print(sol.is_strobogrammatic(n))"
   ]
  },
  {
   "cell_type": "code",
   "execution_count": 15,
   "id": "0bdef155",
   "metadata": {},
   "outputs": [],
   "source": []
  },
  {
   "cell_type": "code",
   "execution_count": 18,
   "id": "b2b9fcba",
   "metadata": {},
   "outputs": [
    {
     "name": "stdout",
     "output_type": "stream",
     "text": [
      "mango\n"
     ]
    }
   ],
   "source": []
  },
  {
   "cell_type": "markdown",
   "id": "9b9d2f0f",
   "metadata": {},
   "source": [
    "# <aside>  **Question 3**\n",
    "\n",
    "Given two non-negative integers, num1 and num2 represented as string, return *the sum of* num1 *and* num2 *as a string*.\n",
    "\n",
    "You must solve the problem without using any built-in library for handling large integers (such as BigInteger). You must also not convert the inputs to integers directly.\n",
    "\n",
    "**Example 1:**\n",
    "\n",
    "**Input:** num1 = \"11\", num2 = \"123\"\n",
    "\n",
    "**Output:**\n",
    "\n",
    "\"134\"\n",
    "\n",
    "</aside>"
   ]
  },
  {
   "cell_type": "code",
   "execution_count": 97,
   "id": "aaa55ab8",
   "metadata": {},
   "outputs": [
    {
     "name": "stdout",
     "output_type": "stream",
     "text": [
      "134\n"
     ]
    }
   ],
   "source": [
    "class solution3:\n",
    "    def __init__(self):\n",
    "        pass\n",
    "    def sum_num(self,num1,num2):\n",
    "        '''\n",
    "            This function will take input of string of numbers and return their sum\n",
    "            :type num1 : string\n",
    "            :type num2 : string\n",
    "        \n",
    "        '''\n",
    "        try:\n",
    "            carry=0\n",
    "            s = ''\n",
    "            for i in range(1,len(num1)+1):\n",
    "                k1 = num1[-i]\n",
    "                k2 = num2[-i]\n",
    "    \n",
    "                sum_ = ord(k1) + (ord(k2) - ord('0'))+carry\n",
    "                if(sum_ > 57):\n",
    "                    sum_= ord('0')\n",
    "                    carry =1\n",
    "                s =chr(sum_) +s\n",
    "    \n",
    "            if(len(num1) > len(num2)):\n",
    "                for j in range(i+1, len(num1)+1):\n",
    "                    sum_= ord(num1[-j])+carry\n",
    "                    if(sum_ > 57):\n",
    "                        sum_= ord('0')\n",
    "                        carry =1\n",
    "                    s =chr(sum_) +s\n",
    "            elif(len(num2) > len(num1)):\n",
    "                for j in range(i+1, len(num2)+1):\n",
    "                    sum_= ord(num2[-j])+carry\n",
    "                    if(sum_ > 57):\n",
    "                        sum_= ord('0')\n",
    "                        carry =1\n",
    "                    s =chr(sum_) +s\n",
    "            return s\n",
    "        except Exception as e:\n",
    "            print(\"error has occure \",e)\n",
    "\n",
    "sol = solution3()  \n",
    "num1 = \"11\"\n",
    "num2 = \"123\"\n",
    "print(sol.sum_num(num1,num2))"
   ]
  },
  {
   "cell_type": "code",
   "execution_count": 94,
   "id": "b02b8b29",
   "metadata": {},
   "outputs": [],
   "source": []
  },
  {
   "cell_type": "markdown",
   "id": "cea9a444",
   "metadata": {},
   "source": [
    "# <aside>  **Question 4**\n",
    "\n",
    "Given a string s, reverse the order of characters in each word within a sentence while still preserving whitespace and initial word order.\n",
    "\n",
    "**Example 1:**\n",
    "\n",
    "**Input:** s = \"Let's take LeetCode contest\"\n",
    "\n",
    "**Output:** \"s'teL ekat edoCteeL tsetnoc\"\n",
    "\n",
    "</aside>"
   ]
  },
  {
   "cell_type": "code",
   "execution_count": 111,
   "id": "110a8012",
   "metadata": {},
   "outputs": [
    {
     "name": "stdout",
     "output_type": "stream",
     "text": [
      "s'teL ekat edoCteeL tsetnoc\n"
     ]
    }
   ],
   "source": [
    "class solution4:\n",
    "    def __init__(self):\n",
    "        pass\n",
    "    def reverse_str(self,string):\n",
    "        '''\n",
    "            This function will take the input of string and reversed the character of each word wile maining the sequence\n",
    "            :type string : string\n",
    "            :rtype : string\n",
    "        \n",
    "        '''\n",
    "        try:\n",
    "            return_string = ''\n",
    "            lst_reverse_words =[]\n",
    "            for ele in (string.split(' ')):\n",
    "                lst_reverse_words.append(''.join(reversed(ele)))\n",
    "            return_string = ' '.join(lst_reverse_words)\n",
    "            \n",
    "            return return_string\n",
    "        except Exception as e:\n",
    "            print(\"error has occure \",e)\n",
    "\n",
    "sol = solution4()  \n",
    "s = \"Let's take LeetCode contest\"\n",
    "print(sol.reverse_str(s))"
   ]
  },
  {
   "cell_type": "markdown",
   "id": "91b1c83e",
   "metadata": {},
   "source": [
    "# <aside> **Question 5**\n",
    "\n",
    "Given a string s and an integer k, reverse the first k characters for every 2k characters counting from the start of the string.\n",
    "\n",
    "If there are fewer than k characters left, reverse all of them. If there are less than 2k but greater than or equal to k characters, then reverse the first k characters and leave the other as original.\n",
    "\n",
    "**Example 1:**\n",
    "\n",
    "**Input:** s = \"abcdefg\", k = 2\n",
    "\n",
    "**Output:**\n",
    "\n",
    "\"bacdfeg\"\n",
    "\n",
    "</aside>"
   ]
  },
  {
   "cell_type": "code",
   "execution_count": 125,
   "id": "2e849bca",
   "metadata": {},
   "outputs": [
    {
     "name": "stdout",
     "output_type": "stream",
     "text": [
      "bacdfeg\n"
     ]
    }
   ],
   "source": [
    "class solution5:\n",
    "    def __init__(self):\n",
    "        pass\n",
    "    def reverse_str(self,s,k):\n",
    "        '''\n",
    "            This function will take the inpu of string and integer value and reverse every first k \n",
    "            charcters leaving 2k characters\n",
    "            :type s :string\n",
    "            :type k : int\n",
    "            :rtype : string\n",
    "        '''\n",
    "        try:\n",
    "            return_str =''\n",
    "            for i in range(0,len(s),2*k):\n",
    "                \n",
    "                if(len(s[i:i+k]) < k):\n",
    "                    return_str = return_str+ s[i:k]\n",
    "                    break\n",
    "                else:\n",
    "                    return_str = return_str + ''.join(reversed(s[i:i+k])) + s[i+k: i+2*k]\n",
    "            return return_str\n",
    "                \n",
    "        except Exception as e:\n",
    "            print(\"error has occure \",e)\n",
    "\n",
    "sol = solution5() \n",
    "s = \"abcdefg\"\n",
    "k = 2\n",
    "print(sol.reverse_str(s,k))"
   ]
  },
  {
   "cell_type": "code",
   "execution_count": null,
   "id": "b760d242",
   "metadata": {},
   "outputs": [],
   "source": []
  },
  {
   "cell_type": "markdown",
   "id": "9c303171",
   "metadata": {},
   "source": [
    "# <aside> **Question 6**\n",
    "\n",
    "Given two strings s and goal, return true *if and only if* s *can become* goal *after some number of **shifts** on* s.\n",
    "\n",
    "A **shift** on s consists of moving the leftmost character of s to the rightmost position.\n",
    "\n",
    "- For example, if s = \"abcde\", then it will be \"bcdea\" after one shift.\n",
    "\n",
    "**Example 1:**\n",
    "\n",
    "**Input:** s = \"abcde\", goal = \"cdeab\"\n",
    "\n",
    "**Output:**\n",
    "\n",
    "true\n",
    "\n",
    "</aside>"
   ]
  },
  {
   "cell_type": "code",
   "execution_count": 127,
   "id": "71a95705",
   "metadata": {},
   "outputs": [
    {
     "name": "stdout",
     "output_type": "stream",
     "text": [
      "True\n"
     ]
    }
   ],
   "source": [
    "class solution6:\n",
    "    def __init__(self):\n",
    "        pass\n",
    "    def rotational_array(self,s1,s2):\n",
    "        '''\n",
    "            This function will take the input two string and scheck whether toher is the rotated of the first\n",
    "            :type s1: string\n",
    "            :type s2 : string\n",
    "            :rtype :bool\n",
    "        \n",
    "        '''\n",
    "        try:\n",
    "            temp = s1+s1\n",
    "            if(temp.count(s2) > 0):\n",
    "                return True\n",
    "            else:\n",
    "                return False\n",
    "        except Exception as e:\n",
    "            print(\"error has occure \",e)\n",
    "\n",
    "sol = solution6()\n",
    "s1= 'abcde'\n",
    "s2 = \"cdeab\"\n",
    "print(sol.rotational_array(s1,s2))"
   ]
  },
  {
   "cell_type": "code",
   "execution_count": null,
   "id": "8eb1ea2d",
   "metadata": {},
   "outputs": [],
   "source": []
  },
  {
   "cell_type": "markdown",
   "id": "4952aa97",
   "metadata": {},
   "source": [
    "# <aside> **Question 7**\n",
    "\n",
    "Given two strings s and t, return true *if they are equal when both are typed into empty text editors*. '#' means a backspace character.\n",
    "\n",
    "Note that after backspacing an empty text, the text will continue empty.\n",
    "\n",
    "**Example 1:**\n",
    "\n",
    "**Input:** s = \"ab#c\", t = \"ad#c\"\n",
    "\n",
    "**Output:** true\n",
    "\n",
    "**Explanation:**\n",
    "\n",
    "Both s and t become \"ac\".\n",
    "\n",
    "</aside>"
   ]
  },
  {
   "cell_type": "code",
   "execution_count": 136,
   "id": "505ebe0b",
   "metadata": {},
   "outputs": [
    {
     "name": "stdout",
     "output_type": "stream",
     "text": [
      "True\n"
     ]
    }
   ],
   "source": [
    "class solution7:\n",
    "    def __init__(self):\n",
    "        pass\n",
    "    def bool_string(self,s1,s2):\n",
    "        '''\n",
    "            This function will take two strings as input and it is returned true if they are \n",
    "            equal when backspace charcter is remvoed with char\n",
    "            :type s1 : string\n",
    "            :type s2 : string\n",
    "            :rtype : bool\n",
    "        \n",
    "        '''\n",
    "        try:\n",
    "            n= len(s1)\n",
    "            pointer_s1 = n-1\n",
    "            pointer_s2 = n-1\n",
    "            \n",
    "            while(pointer_s1 >=0 and pointer_s2 >= 0):\n",
    "                if(s1[pointer_s1] == '#'):\n",
    "                    counter_1=0\n",
    "                    for i in range (pointer_s1,0,-1):\n",
    "                        counter_1 +=1\n",
    "                        pointer_s1 -=1\n",
    "                        if(s1[pointer_s1] != '#'):\n",
    "                            break\n",
    "                    pointer_s1 -= counter_1\n",
    "                if(s2[pointer_s2] == '#'):\n",
    "                    counter_2=0\n",
    "                    for i in range (pointer_s2,0,-1):\n",
    "                            counter_2 +=1\n",
    "                            pointer_s2 -=1\n",
    "                            if(s1[pointer_s2] != '#'):\n",
    "                                break\n",
    "                    pointer_s2 -= counter_2\n",
    "                if(s2[pointer_s1] == s1[pointer_s2]):\n",
    "                    pointer_s2 -=1\n",
    "                    pointer_s1 -=1\n",
    "                    continue\n",
    "                else:\n",
    "                    return False\n",
    "                \n",
    "            return True\n",
    "            \n",
    "            \n",
    "        except Exception as e:\n",
    "            print(\"error has occure \",e)\n",
    "\n",
    "sol = solution7() \n",
    "s = \"ab#c\"\n",
    "t = \"ad#c\"\n",
    "print(sol.bool_string(s,t))"
   ]
  },
  {
   "cell_type": "code",
   "execution_count": 137,
   "id": "a625be4c",
   "metadata": {},
   "outputs": [
    {
     "name": "stdout",
     "output_type": "stream",
     "text": [
      "True\n"
     ]
    }
   ],
   "source": [
    "s = \"ab##\"\n",
    "t = \"c#d#\"\n",
    "print(sol.bool_string(s,t))"
   ]
  },
  {
   "cell_type": "code",
   "execution_count": null,
   "id": "7ed68bfc",
   "metadata": {},
   "outputs": [],
   "source": []
  },
  {
   "cell_type": "markdown",
   "id": "8d9eba3b",
   "metadata": {},
   "source": [
    "# <aside> **Question 8**\n",
    "\n",
    "You are given an array coordinates, coordinates[i] = [x, y], where [x, y] represents the coordinate of a point. Check if these points make a straight line in the XY plane.\n",
    "\n",
    "**Example 1:**\n",
    "\n",
    "![image](7_1.png)\n",
    "**Input:** coordinates = [[1,2],[2,3],[3,4],[4,5],[5,6],[6,7]]\n",
    "\n",
    "**Output:** true\n",
    "\n",
    "</aside>"
   ]
  },
  {
   "cell_type": "code",
   "execution_count": 142,
   "id": "97e28ce0",
   "metadata": {},
   "outputs": [
    {
     "name": "stdout",
     "output_type": "stream",
     "text": [
      "True\n"
     ]
    }
   ],
   "source": [
    "class solution8:\n",
    "    def __init__(self):\n",
    "        pass\n",
    "    def straight_line(self,array):\n",
    "        '''\n",
    "         This function will take the input of list of integers and returns True or False based on straight line\n",
    "         :type array : list[int]\n",
    "         :rtype: bool\n",
    "        '''\n",
    "        try:\n",
    "            for i in  range(1,len(array) -1):\n",
    "                slope1 = self.slope(array[i-1],array[i])\n",
    "                slope2 = self.slope(array[i],array[i+1])\n",
    "                if(slope1 != slope2):\n",
    "                    return False\n",
    "            return True\n",
    "        except Exception as e:\n",
    "            print(\"error has occure \",e)\n",
    "    def slope(self,m,n):\n",
    "        '''\n",
    "          This function will return the slope of two points which are input\n",
    "          :type m : list[int]\n",
    "          :type n : list[int]\n",
    "          :rtype : float\n",
    "        '''\n",
    "        try:\n",
    "            slope = (n[1] -m[1])/(n[0] -m[0])\n",
    "            return slope\n",
    "        except Exception as e:\n",
    "            print(\"Exception has occured in function slope()\",e)\n",
    "        \n",
    "\n",
    "sol = solution8()\n",
    "coordinates = [[1,2],[2,3],[3,4],[4,5],[5,6],[6,7]]\n",
    "print(sol.straight_line(coordinates))"
   ]
  },
  {
   "cell_type": "code",
   "execution_count": null,
   "id": "49a0a72a",
   "metadata": {},
   "outputs": [],
   "source": []
  }
 ],
 "metadata": {
  "kernelspec": {
   "display_name": "Python 3 (ipykernel)",
   "language": "python",
   "name": "python3"
  },
  "language_info": {
   "codemirror_mode": {
    "name": "ipython",
    "version": 3
   },
   "file_extension": ".py",
   "mimetype": "text/x-python",
   "name": "python",
   "nbconvert_exporter": "python",
   "pygments_lexer": "ipython3",
   "version": "3.7.16"
  }
 },
 "nbformat": 4,
 "nbformat_minor": 5
}
