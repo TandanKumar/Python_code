{
 "cells": [
  {
   "cell_type": "code",
   "execution_count": 1,
   "id": "60c2dce5",
   "metadata": {},
   "outputs": [
    {
     "name": "stdout",
     "output_type": "stream",
     "text": [
      "Initial Queue is: [10, 100, 1000, 10000]\n",
      "10\n",
      "100\n",
      "1000\n",
      "After Removing elements: [10000]\n"
     ]
    }
   ],
   "source": [
    "q=[]\n",
    "q.append(10)\n",
    "q.append(100)\n",
    "q.append(1000)\n",
    "q.append(10000)\n",
    "print(\"Initial Queue is:\",q)\n",
    "print(q.pop(0))\n",
    "print(q.pop(0))\n",
    "print(q.pop(0))\n",
    "print(\"After Removing elements:\",q)"
   ]
  },
  {
   "cell_type": "code",
   "execution_count": null,
   "id": "2383a4ff",
   "metadata": {},
   "outputs": [],
   "source": []
  }
 ],
 "metadata": {
  "kernelspec": {
   "display_name": "Python 3 (ipykernel)",
   "language": "python",
   "name": "python3"
  },
  "language_info": {
   "codemirror_mode": {
    "name": "ipython",
    "version": 3
   },
   "file_extension": ".py",
   "mimetype": "text/x-python",
   "name": "python",
   "nbconvert_exporter": "python",
   "pygments_lexer": "ipython3",
   "version": "3.7.0"
  }
 },
 "nbformat": 4,
 "nbformat_minor": 5
}
