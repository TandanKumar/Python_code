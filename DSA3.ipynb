{
 "cells": [
  {
   "cell_type": "markdown",
   "id": "7c7e1528",
   "metadata": {},
   "source": [
    "# Question 1\n",
    "Given an integer array nums of length n and an integer target, find three integers\n",
    "in nums such that the sum is closest to the target.\n",
    "Return the sum of the three integers.\n",
    "\n",
    "You may assume that each input would have exactly one solution.\n",
    "\n",
    "Example 1:\n",
    "Input: nums = [-1,2,1,-4], target = 1\n",
    "Output: 2\n",
    "\n",
    "Explanation: The sum that is closest to the target is 2. (-1 + 2 + 1 = 2)."
   ]
  },
  {
   "cell_type": "code",
   "execution_count": null,
   "id": "d6ed61da",
   "metadata": {},
   "outputs": [],
   "source": [
    "class solution1:\n",
    "    def __init__(self):\n",
    "        pass\n",
    "    def max_sum_target(self,array,target):\n",
    "        '''\n",
    "            This function will take input of an array and target value.\n",
    "            It will return the nearest largest sume to the target\n",
    "            :type array :list[int]\n",
    "            :type target : int\n",
    "        '''\n",
    "        try:\n",
    "            sum_ = 0\n",
    "            array.sort()\n",
    "            for i in range(len(array)-2):\n",
    "                x = i+1\n",
    "                y = len(array)-1\n",
    "                \n",
    "                while(x<y):\n",
    "                    \n",
    "                    sum_1 = array[i] + array[x] + array[y]\n",
    "                    \n",
    "                    if(sum_1==target):\n",
    "                        \n",
    "                       \n",
    "                        return target\n",
    "                    \n",
    "                    elif(abs(target-sum_1) < abs(target - sum_)):\n",
    "                        sum_ = sum_1\n",
    "                    elif(sum_1 < target):\n",
    "                        \n",
    "                        x+=1\n",
    "                    elif(sum_1> target):\n",
    "                        \n",
    "                        y=y-1\n",
    "                    \n",
    "                \n",
    "            return sum_\n",
    "        except  Exception as e:\n",
    "            print(\"error has occured\",e)\n",
    "    "
   ]
  },
  {
   "cell_type": "code",
   "execution_count": null,
   "id": "a9ec1fb7",
   "metadata": {},
   "outputs": [],
   "source": [
    "sol = solution1()\n",
    "arr = [-1,2,1,-4,5]\n",
    "k = 6\n",
    "print(\"solution is\",sol.max_sum_target(arr,k))"
   ]
  },
  {
   "cell_type": "markdown",
   "id": "5dd6182f",
   "metadata": {},
   "source": [
    "# Question 2\n",
    "Given an array nums of n integers, return an array of all the unique quadruplets\n",
    "[nums[a], nums[b], nums[c], nums[d]] such that:\n",
    "           ● 0 <= a, b, c, d < n\n",
    "           ● a, b, c, and d are distinct.\n",
    "           ● nums[a] + nums[b] + nums[c] + nums[d] == target\n",
    "\n",
    "You may return the answer in any order.\n",
    "\n",
    "Example 1:\n",
    "Input: nums = [1,0,-1,0,-2,2], target = 0\n",
    "Output: [[-2,-1,1,2],[-2,0,0,2],[-1,0,0,1]]"
   ]
  },
  {
   "cell_type": "code",
   "execution_count": null,
   "id": "55a6e085",
   "metadata": {},
   "outputs": [],
   "source": [
    "class solution2:\n",
    "    def __init__(self):\n",
    "        pass\n",
    "    def quadsum(self,array,target):\n",
    "        '''\n",
    "            This function will take input of array and target variable.\n",
    "            It will retrun the list of quad of number which is equal to target\n",
    "             Constraint: Duplication of number is not allowed in the sum\n",
    "             :type array : list[int]\n",
    "             :type target : int\n",
    "             :rtype :list[list[int]]\n",
    "        \n",
    "        \n",
    "        '''\n",
    "        try:\n",
    "            \n",
    "            array.sort()\n",
    "            lis =[]\n",
    "            n=len(array)\n",
    "           \n",
    "            for i in range(n-3):\n",
    "                for j in range(i+1,n-2):\n",
    "                    start = j+1\n",
    "                    end = n -1\n",
    "                    \n",
    "                    while(start < end):\n",
    "                        sum_ = array[i] + array[j] + array[start] + array[end] \n",
    "                        \n",
    "                        if(sum_ == target):\n",
    "                            \n",
    "                            l = ([array[i],array[j],array[start],array[end]])\n",
    "                            lis.append(l)\n",
    "                            start +=1\n",
    "                            end -= 1\n",
    "                        elif(sum_ < target):\n",
    "                            \n",
    "                            start +=1\n",
    "                        elif(sum_ > target):\n",
    "                            end -= 1\n",
    "            return (lis)\n",
    "        except Exception as e:\n",
    "            print(\"error has occure \",e)\n",
    "\n",
    "sol = solution2() \n",
    "nums = [1,0,-1,0,-2,2]\n",
    "target = 0\n",
    "print(sol.quadsum(nums,target))"
   ]
  },
  {
   "cell_type": "code",
   "execution_count": null,
   "id": "afe703e1",
   "metadata": {},
   "outputs": [],
   "source": []
  },
  {
   "cell_type": "markdown",
   "id": "7a1f9243",
   "metadata": {},
   "source": [
    "# **Question 3**\n",
    "A permutation of an array of integers is an arrangement of its members into a\n",
    "sequence or linear order.\n",
    "\n",
    "For example, for arr = [1,2,3], the following are all the permutations of arr:\n",
    "[1,2,3], [1,3,2], [2, 1, 3], [2, 3, 1], [3,1,2], [3,2,1].\n",
    "\n",
    "The next permutation of an array of integers is the next lexicographically greater\n",
    "permutation of its integer. More formally, if all the permutations of the array are\n",
    "sorted in one container according to their lexicographical order, then the next\n",
    "permutation of that array is the permutation that follows it in the sorted container.\n",
    "\n",
    "If such an arrangement is not possible, the array must be rearranged as the\n",
    "lowest possible order (i.e., sorted in ascending order).\n",
    "\n",
    "● For example, the next permutation of arr = [1,2,3] is [1,3,2].\n",
    "● Similarly, the next permutation of arr = [2,3,1] is [3,1,2].\n",
    "● While the next permutation of arr = [3,2,1] is [1,2,3] because [3,2,1] does not\n",
    "have a lexicographical larger rearrangement.\n",
    "\n",
    "Given an array of integers nums, find the next permutation of nums.\n",
    "The replacement must be in place and use only constant extra memory.\n",
    "\n",
    "**Example 1:**\n",
    "Input: nums = [1,2,3]\n",
    "Output: [1,3,2]\n",
    "\n",
    "</aside>"
   ]
  },
  {
   "cell_type": "code",
   "execution_count": 25,
   "id": "002e55ee",
   "metadata": {},
   "outputs": [
    {
     "name": "stdout",
     "output_type": "stream",
     "text": [
      "[4, 1, 3, 2, 5]\n"
     ]
    }
   ],
   "source": [
    "class solution3:\n",
    "    def __init__(self):\n",
    "        pass\n",
    "    def lexi_per(self,array):\n",
    "        '''\n",
    "            This function will take the input of an array and return the next lexicographically permutaion\n",
    "            :type array : list[int]\n",
    "            :rtype :list[int]\n",
    "        '''\n",
    "        try:\n",
    "            i = len(array)-2\n",
    "            while(i>=0 and array[i] >= array[i+1]):\n",
    "                i-=1\n",
    "            \n",
    "            if(i>=0):\n",
    "                j= len(array)-1\n",
    "                while(array[j] <= array[i]):\n",
    "                \n",
    "                    array[i], array[j] = array[j], array[i]\n",
    "                    j-=1\n",
    "            return(self.reverse(array,i+1))\n",
    "                \n",
    "                \n",
    "        except Exception as e:\n",
    "            print(\"error has occure \",e)\n",
    "    def reverse(self,nums,start):\n",
    "        \n",
    "        i,j = start, len(nums)-1\n",
    "        \n",
    "        while (i < j):\n",
    "            nums[i], nums[j] = nums[j], nums[i]\n",
    "            i += 1\n",
    "            j -= 1\n",
    "        return  nums\n",
    "\n",
    "sol = solution3()  \n",
    "nums = [4,3,5,2,1]\n",
    "print(sol.lexi_per(nums))    "
   ]
  },
  {
   "cell_type": "code",
   "execution_count": null,
   "id": "f22eedc0",
   "metadata": {},
   "outputs": [],
   "source": []
  },
  {
   "cell_type": "markdown",
   "id": "dc5680fd",
   "metadata": {},
   "source": [
    "# Question 4\n",
    "Given a sorted array of distinct integers and a target value, return the index if the\n",
    "target is found. If not, return the index where it would be if it were inserted in\n",
    "order.\n",
    "\n",
    "You must write an algorithm with O(log n) runtime complexity.\n",
    "\n",
    "Example 1:\n",
    "Input: nums = [1,3,5,6], target = 5\n",
    "Output: 2"
   ]
  },
  {
   "cell_type": "code",
   "execution_count": 26,
   "id": "5fb7b40a",
   "metadata": {},
   "outputs": [],
   "source": [
    "class solution4:\n",
    "    def __init__(self):\n",
    "        pass\n",
    "    def target_array_index(arr,tar):\n",
    "        '''\n",
    "        target_array_index(arr,tar) is a function which will take the input as array and target value.\n",
    "        It will return the index of the target value in the array if it is found \n",
    "        Otherwise it will retrun the index where it should be placed\n",
    "        \n",
    "        '''\n",
    "        try: \n",
    "            if(len(arr)==0): # checking whether arr is empty\n",
    "                return 0\n",
    "            elif(tar <= arr[0]): # checking whether first element of array is equal or less than target\n",
    "                return 0\n",
    "            elif(tar >= arr[-1]): # checking whether last element of array is equal or more than taget\n",
    "                return (len(arr))\n",
    "            first_index = 0\n",
    "            last_index = len(arr)-1\n",
    "\n",
    "            while (first_index < last_index): # loop for finding the target number in the array\n",
    "\n",
    "                mid_index =  int((first_index +last_index)/2)\n",
    "\n",
    "                if(arr[mid_index] == tar): # checking the middle value for target\n",
    "                    return mid_index\n",
    "                # shifting the last index as arr on mid_index is greater than target\n",
    "                elif((arr[mid_index] > tar)&((last_index - first_index)!=1)): \n",
    "\n",
    "                    last_index = mid_index\n",
    "                # shifting the first index as arr on mid_index is less than target    \n",
    "                elif((arr[mid_index] < tar)&((last_index - first_index)!=1)):\n",
    "                    first_index = mid_index\n",
    "                # returning the lastindex    \n",
    "                elif((last_index - first_index) == 1): \n",
    "                    return last_index\n",
    "        except Exception as e:\n",
    "            print(\"Error has occured\",e)\n",
    "            \n",
    "            \n",
    "        "
   ]
  },
  {
   "cell_type": "code",
   "execution_count": 29,
   "id": "986ad847",
   "metadata": {},
   "outputs": [
    {
     "name": "stdout",
     "output_type": "stream",
     "text": [
      "2\n"
     ]
    }
   ],
   "source": [
    "sol= solution4\n",
    "arr = [1,3,5,6]\n",
    "tar = 4\n",
    "print(sol.target_array_index(arr,tar))"
   ]
  },
  {
   "cell_type": "markdown",
   "id": "57253051",
   "metadata": {},
   "source": [
    "# <aside>\n",
    "💡 **Question 5**\n",
    "You are given a large integer represented as an integer array digits, where each\n",
    "digits[i] is the ith digit of the integer. The digits are ordered from most significant\n",
    "to least significant in left-to-right order. The large integer does not contain any\n",
    "leading 0's.\n",
    "\n",
    "Increment the large integer by one and return the resulting array of digits.\n",
    "\n",
    "**Example 1:**\n",
    "Input: digits = [1,2,3]\n",
    "Output: [1,2,4]\n",
    "\n",
    "**Explanation:** The array represents the integer 123.\n",
    "Incrementing by one gives 123 + 1 = 124.\n",
    "Thus, the result should be [1,2,4].\n",
    "\n",
    "</aside>"
   ]
  },
  {
   "cell_type": "code",
   "execution_count": 34,
   "id": "cae18cb2",
   "metadata": {},
   "outputs": [],
   "source": [
    "class solution5:\n",
    "    def __init__(self):\n",
    "        pass\n",
    "    def func_intg_incr(self,arr):\n",
    "        '''\n",
    "        func_intg_incr will take the input array of numbers\n",
    "        it will return the array of number with increment of 1 for the last element\n",
    "        constraint : \n",
    "                     1. elements are ordered from less significant to more significant from right to left\n",
    "                     2. Large integer does not contain any leading 0\n",
    "                     \n",
    "        '''\n",
    "        try:\n",
    "            if(arr[-1] <9):\n",
    "                arr[-1] = arr[-1]+1\n",
    "                \n",
    "            else:\n",
    "                if(arr[-1] == 9 ):\n",
    "                    arr[-1]  = 0 \n",
    "                    arr[-2] = arr[-2] + 1\n",
    "            return arr\n",
    "        except Excepiton as e :\n",
    "            print(\"Error has occured \",e)"
   ]
  },
  {
   "cell_type": "code",
   "execution_count": 35,
   "id": "ea6375cd",
   "metadata": {},
   "outputs": [
    {
     "name": "stdout",
     "output_type": "stream",
     "text": [
      "array of digits1,2,3\n",
      "output [1, 2, 4]\n"
     ]
    }
   ],
   "source": [
    "arr = list(eval(input(\"array of digits\")))\n",
    "sol = solution5()\n",
    "print(\"output\",sol.func_intg_incr(arr))"
   ]
  },
  {
   "cell_type": "code",
   "execution_count": null,
   "id": "362d1fc1",
   "metadata": {},
   "outputs": [],
   "source": []
  },
  {
   "cell_type": "markdown",
   "id": "89fde5fa",
   "metadata": {},
   "source": [
    "# Question 6\n",
    "Given a non-empty array of integers nums, every element appears twice except\n",
    "for one. Find that single one.\n",
    "\n",
    "You must implement a solution with a linear runtime complexity and use only\n",
    "constant extra space.\n",
    "\n",
    "Example 1:\n",
    "Input: nums = [2,2,1]\n",
    "Output: 1"
   ]
  },
  {
   "cell_type": "code",
   "execution_count": 41,
   "id": "5f210a98",
   "metadata": {},
   "outputs": [
    {
     "name": "stdout",
     "output_type": "stream",
     "text": [
      "1\n"
     ]
    }
   ],
   "source": [
    "class solution6:\n",
    "    def __init__(self):\n",
    "        pass\n",
    "    def single_num(self,arr):\n",
    "        '''\n",
    "            This function will take the input of an array.\n",
    "            will return the single  occuring element\n",
    "            :type array : list[int]\n",
    "            :rtype  : int\n",
    "        \n",
    "        '''\n",
    "        try:\n",
    "            c =0\n",
    "            for val in arr:\n",
    "                c=c^val\n",
    "            return val\n",
    "            \n",
    "        except Exception as e:\n",
    "            print(\"error has occure \",e)\n",
    "\n",
    "sol = solution6()  \n",
    "nums = [2,2,1]\n",
    "print(sol.single_num(nums))"
   ]
  },
  {
   "cell_type": "markdown",
   "id": "5ef66e66",
   "metadata": {},
   "source": [
    "# Question 7\n",
    "You are given an inclusive range [lower, upper] and a sorted unique integer array\n",
    "nums, where all elements are within the inclusive range.\n",
    "\n",
    "A number x is considered missing if x is in the range [lower, upper] and x is not in\n",
    "nums.\n",
    "\n",
    "Return the shortest sorted list of ranges that exactly covers all the missing\n",
    "numbers. That is, no element of nums is included in any of the ranges, and each\n",
    "missing number is covered by one of the ranges.\n",
    "\n",
    "Example 1:\n",
    "Input: nums = [0,1,3,50,75], lower = 0, upper = 99\n",
    "Output: [[2,2],[4,49],[51,74],[76,99]]\n",
    "\n",
    "Explanation: The ranges are:\n",
    "[2,2]\n",
    "[4,49]\n",
    "[51,74]\n",
    "[76,99]"
   ]
  },
  {
   "cell_type": "code",
   "execution_count": 47,
   "id": "69771913",
   "metadata": {},
   "outputs": [
    {
     "name": "stdout",
     "output_type": "stream",
     "text": [
      "[[2, 2], [4, 49], [76, 99]]\n"
     ]
    }
   ],
   "source": [
    "class solution7:\n",
    "    def __init__(self):\n",
    "        pass\n",
    "    def range_func(self,array,lower_bound,upper_bound):\n",
    "        '''\n",
    "          This function will take the input of an array and two numbers.\n",
    "          It will return list of list which consists of number is considered missing if x is in the range [lower, upper]\n",
    "          and x is not in nums.\n",
    "          :type array : list[int]\n",
    "          :type lower_bound : int\n",
    "          :type upper_bound : int\n",
    "          :rtype list : list[list[int]]\n",
    "        \n",
    "        '''\n",
    "        try:\n",
    "            lst = []\n",
    "            lower_range = 0\n",
    "            higher_range=0\n",
    "            start =0\n",
    "            for i  in range(len(array)-2):\n",
    "                if(array[i] ==0):\n",
    "                    continue\n",
    "                if(array[i]-array[i+1] ==1):\n",
    "                    continue\n",
    "                else:\n",
    "                    lower_range = array[i] +1\n",
    "                    higher_range = array[i+1]-1\n",
    "                    lst.append([lower_range,higher_range])\n",
    "            lst.append([array[-1]+1,99])\n",
    "            return lst\n",
    "        except Exception as e:\n",
    "            print(\"error has occure \",e)\n",
    "\n",
    "sol = solution7() \n",
    "nums = [0,1,3,50,75]\n",
    "lower = 0\n",
    "upper = 99\n",
    "print(sol.range_func(nums,lower,upper))"
   ]
  },
  {
   "cell_type": "code",
   "execution_count": null,
   "id": "69a88858",
   "metadata": {},
   "outputs": [],
   "source": []
  },
  {
   "cell_type": "markdown",
   "id": "796b479d",
   "metadata": {},
   "source": [
    "# Question 8\n",
    "Given an array of meeting time intervals where intervals[i] = [starti, endi],\n",
    "determine if a person could attend all meetings.\n",
    "\n",
    "Example 1:\n",
    "Input: intervals = [[0,30],[5,10],[15,20]]\n",
    "Output: false"
   ]
  },
  {
   "cell_type": "code",
   "execution_count": 52,
   "id": "5218b461",
   "metadata": {},
   "outputs": [
    {
     "name": "stdout",
     "output_type": "stream",
     "text": [
      "False\n"
     ]
    }
   ],
   "source": [
    "class solution8:\n",
    "    def __init__(self):\n",
    "        pass\n",
    "    def can_attend_meeting(self,array):\n",
    "        '''\n",
    "            This function takes the input list of lists.\n",
    "            It will give output as true and false based on meeting time is overlapping or not\n",
    "            :type array : list[list[int]]\n",
    "            :rtype :boolean\n",
    "        \n",
    "        '''\n",
    "        try:\n",
    "            attend = True\n",
    "            for i in range(len(array)-2):\n",
    "                a = array[i]\n",
    "                b= array[i+1]\n",
    "                if(a[1] < b[0]):\n",
    "                    pass\n",
    "                elif(a[1] >b[0] and a[0] >b[1]):\n",
    "                    pass\n",
    "                else:\n",
    "                    attend= False\n",
    "            return  attend    \n",
    "        except Exception as e:\n",
    "            print(\"error has occure \",e)\n",
    "\n",
    "sol = solution8()\n",
    "time_interval = [[0,30],[5,10],[15,20]]\n",
    "time_interval1 = [[7,10],[2,5]]\n",
    "print(sol.can_attend_meeting(time_interval))"
   ]
  },
  {
   "cell_type": "code",
   "execution_count": 51,
   "id": "09f12f97",
   "metadata": {},
   "outputs": [
    {
     "data": {
      "text/plain": [
       "[5, 10]"
      ]
     },
     "execution_count": 51,
     "metadata": {},
     "output_type": "execute_result"
    }
   ],
   "source": [
    "time_interval[1]"
   ]
  },
  {
   "cell_type": "code",
   "execution_count": null,
   "id": "5877458c",
   "metadata": {},
   "outputs": [],
   "source": []
  }
 ],
 "metadata": {
  "kernelspec": {
   "display_name": "Python 3 (ipykernel)",
   "language": "python",
   "name": "python3"
  },
  "language_info": {
   "codemirror_mode": {
    "name": "ipython",
    "version": 3
   },
   "file_extension": ".py",
   "mimetype": "text/x-python",
   "name": "python",
   "nbconvert_exporter": "python",
   "pygments_lexer": "ipython3",
   "version": "3.9.12"
  }
 },
 "nbformat": 4,
 "nbformat_minor": 5
}
